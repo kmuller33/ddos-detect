{
 "cells": [
  {
   "cell_type": "markdown",
   "metadata": {},
   "source": [
    "# DDoS Network Intrusion Detection and Classification"
   ]
  },
  {
   "cell_type": "code",
   "execution_count": 1,
   "metadata": {},
   "outputs": [],
   "source": [
    "import warnings\n",
    "warnings.filterwarnings(\"ignore\")"
   ]
  },
  {
   "cell_type": "code",
   "execution_count": 41,
   "metadata": {},
   "outputs": [],
   "source": [
    "import numpy as np\n",
    "import pandas as pd\n",
    "import matplotlib.pyplot as plt\n",
    "%matplotlib inline\n",
    "from scipy import stats\n",
    "from sklearn.linear_model import LogisticRegression\n",
    "from sklearn.metrics import classification_report\n",
    "from sklearn.linear_model import Lasso\n",
    "from sklearn.metrics import precision_score\n",
    "from sklearn.metrics import recall_score\n",
    "from sklearn.metrics import confusion_matrix\n",
    "from sklearn.metrics import roc_curve, roc_auc_score\n",
    "from sklearn.metrics import accuracy_score"
   ]
  },
  {
   "cell_type": "code",
   "execution_count": 3,
   "metadata": {},
   "outputs": [
    {
     "data": {
      "text/plain": [
       "'/Users/karlamuller/my_notebooks'"
      ]
     },
     "execution_count": 3,
     "metadata": {},
     "output_type": "execute_result"
    }
   ],
   "source": [
    "pwd"
   ]
  },
  {
   "cell_type": "code",
   "execution_count": 4,
   "metadata": {},
   "outputs": [
    {
     "data": {
      "text/html": [
       "<style>audio{display:none}</style>"
      ],
      "text/plain": [
       "<IPython.core.display.HTML object>"
      ]
     },
     "metadata": {},
     "output_type": "display_data"
    }
   ],
   "source": [
    "# This extension for sound notification and cell completion time\n",
    "get_ipython().magic('load_ext cellevents')"
   ]
  },
  {
   "cell_type": "code",
   "execution_count": 5,
   "metadata": {},
   "outputs": [
    {
     "name": "stdout",
     "output_type": "stream",
     "text": [
      "time: 2min 23s\n"
     ]
    },
    {
     "data": {
      "text/html": [
       "\n",
       "                <audio  controls=\"controls\" autoplay=\"autoplay\">\n",
       "                    <source src=\"data:audio/wav;base64,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\" type=\"audio/wav\" />\n",
       "                    Your browser does not support the audio element.\n",
       "                </audio>\n",
       "              "
      ],
      "text/plain": [
       "<IPython.lib.display.Audio object>"
      ]
     },
     "metadata": {},
     "output_type": "display_data"
    },
    {
     "data": {
      "text/html": [
       "<style>audio{display:none}</style>"
      ],
      "text/plain": [
       "<IPython.core.display.HTML object>"
      ]
     },
     "metadata": {},
     "output_type": "display_data"
    }
   ],
   "source": [
    "# Loading data for MSSQL, LDAP, NetBIOS, Syn and UDP attacks \n",
    "df_mssql = pd.read_csv('mydata/01-12/DrDoS_MSSQL.csv')\n",
    "df_ldap = pd.read_csv('mydata/01-12/DrDoS_LDAP.csv')\n",
    "df_netbios = pd.read_csv('mydata/01-12/DrDoS_NetBIOS.csv')\n",
    "df_syn = pd.read_csv('mydata/01-12/Syn.csv')\n",
    "df_udp = pd.read_csv('mydata/01-12/DrDoS_UDP.csv')"
   ]
  },
  {
   "cell_type": "code",
   "execution_count": null,
   "metadata": {},
   "outputs": [],
   "source": []
  },
  {
   "cell_type": "markdown",
   "metadata": {},
   "source": [
    "## Creating main dataframe with all attacks"
   ]
  },
  {
   "cell_type": "code",
   "execution_count": 6,
   "metadata": {},
   "outputs": [
    {
     "name": "stdout",
     "output_type": "stream",
     "text": [
      "DrDoS_MSSQL    4522492\n",
      "BENIGN            2006\n",
      "Name:  Label, dtype: int64\n",
      "DrDoS_LDAP    2179930\n",
      "BENIGN           1612\n",
      "Name:  Label, dtype: int64\n",
      "DrDoS_NetBIOS    4093279\n",
      "BENIGN              1707\n",
      "Name:  Label, dtype: int64\n",
      "Syn       1582289\n",
      "BENIGN        392\n",
      "Name:  Label, dtype: int64\n",
      "DrDoS_UDP    3134645\n",
      "BENIGN          2157\n",
      "Name:  Label, dtype: int64\n",
      "time: 1.34 s\n"
     ]
    }
   ],
   "source": [
    "# Checking for class inbalance\n",
    "print(df_mssql[' Label'].value_counts())\n",
    "print(df_ldap[' Label'].value_counts())\n",
    "print(df_netbios[' Label'].value_counts())\n",
    "print(df_syn[' Label'].value_counts())\n",
    "print(df_udp[' Label'].value_counts())"
   ]
  },
  {
   "cell_type": "code",
   "execution_count": 8,
   "metadata": {},
   "outputs": [
    {
     "name": "stdout",
     "output_type": "stream",
     "text": [
      "time: 1.38 s\n"
     ]
    }
   ],
   "source": [
    "# Due to high imbalance, creating a dataframe for benign connections\n",
    "good_frames = [df_mssql[df_mssql[' Label'] == 'BENIGN'], \n",
    "          df_syn[df_syn[' Label'] == 'BENIGN'],\n",
    "          df_netbios[df_netbios[' Label'] == 'BENIGN'],\n",
    "          df_ldap[df_ldap[' Label'] == 'BENIGN'],\n",
    "          df_udp[df_udp[' Label'] == 'BENIGN']]\n",
    "\n",
    "df_benign = pd.concat(good_frames)"
   ]
  },
  {
   "cell_type": "code",
   "execution_count": null,
   "metadata": {},
   "outputs": [],
   "source": [
    "df_benign.shape"
   ]
  },
  {
   "cell_type": "code",
   "execution_count": null,
   "metadata": {},
   "outputs": [],
   "source": []
  },
  {
   "cell_type": "code",
   "execution_count": null,
   "metadata": {},
   "outputs": [],
   "source": [
    "# Subsampling 20% of the datasets with attacks only\n",
    "df_mssql = pd.DataFrame.sample(\n",
    "        df_mssql[df_mssql[' Label'] == 'DrDoS_MSSQL'], frac=0.2, replace=True )\n",
    "\n",
    "\n",
    "df_ldap = pd.DataFrame.sample(\n",
    "        df_ldap[df_ldap[' Label'] == 'DrDoS_LDAP'], frac=0.2, replace=True )\n",
    "\n",
    "df_netbios = pd.DataFrame.sample(\n",
    "        df_netbios[df_netbios[' Label'] == 'DrDoS_NetBIOS'], frac=0.2, replace=True )\n",
    "\n",
    "\n",
    "df_syn =  pd.DataFrame.sample(\n",
    "        df_syn[df_syn[' Label'] == 'Syn'], frac=0.2, replace=True )\n",
    "\n",
    "df_udp = pd.DataFrame.sample(\n",
    "        df_udp[df_udp[' Label'] == 'DrDoS_UDP'], frac=0.2, replace=True )"
   ]
  },
  {
   "cell_type": "code",
   "execution_count": null,
   "metadata": {},
   "outputs": [],
   "source": [
    "# Joining all datasets  and shuffling them\n",
    "dfList = [df_mssql, df_ldap, df_netbios, df_syn, df_udp, df_benign]\n",
    "all_df = pd.concat(dfList,ignore_index=True)\n",
    "all_df = all_df.sample(frac=1)"
   ]
  },
  {
   "cell_type": "code",
   "execution_count": null,
   "metadata": {},
   "outputs": [],
   "source": []
  },
  {
   "cell_type": "code",
   "execution_count": null,
   "metadata": {},
   "outputs": [],
   "source": [
    "# Creating an all df for easy future loads\n",
    "all_df.to_csv('/Users/karlamuller/my_notebooks/mydata/all_df2.csv')"
   ]
  },
  {
   "cell_type": "code",
   "execution_count": null,
   "metadata": {},
   "outputs": [],
   "source": [
    "pwd"
   ]
  },
  {
   "cell_type": "code",
   "execution_count": 40,
   "metadata": {},
   "outputs": [],
   "source": [
    "all_df = pd.read_csv('mydata/all_df2.csv')"
   ]
  },
  {
   "cell_type": "markdown",
   "metadata": {},
   "source": [
    "### EDA"
   ]
  },
  {
   "cell_type": "code",
   "execution_count": null,
   "metadata": {},
   "outputs": [],
   "source": []
  },
  {
   "cell_type": "code",
   "execution_count": 4,
   "metadata": {},
   "outputs": [
    {
     "data": {
      "text/html": [
       "<div>\n",
       "<style scoped>\n",
       "    .dataframe tbody tr th:only-of-type {\n",
       "        vertical-align: middle;\n",
       "    }\n",
       "\n",
       "    .dataframe tbody tr th {\n",
       "        vertical-align: top;\n",
       "    }\n",
       "\n",
       "    .dataframe thead th {\n",
       "        text-align: right;\n",
       "    }\n",
       "</style>\n",
       "<table border=\"1\" class=\"dataframe\">\n",
       "  <thead>\n",
       "    <tr style=\"text-align: right;\">\n",
       "      <th></th>\n",
       "      <th>Unnamed: 0</th>\n",
       "      <th>Unnamed: 0.1</th>\n",
       "      <th>Flow ID</th>\n",
       "      <th>Source IP</th>\n",
       "      <th>Source Port</th>\n",
       "      <th>Destination IP</th>\n",
       "      <th>Destination Port</th>\n",
       "      <th>Protocol</th>\n",
       "      <th>Timestamp</th>\n",
       "      <th>Flow Duration</th>\n",
       "      <th>...</th>\n",
       "      <th>Active Std</th>\n",
       "      <th>Active Max</th>\n",
       "      <th>Active Min</th>\n",
       "      <th>Idle Mean</th>\n",
       "      <th>Idle Std</th>\n",
       "      <th>Idle Max</th>\n",
       "      <th>Idle Min</th>\n",
       "      <th>SimillarHTTP</th>\n",
       "      <th>Inbound</th>\n",
       "      <th>Label</th>\n",
       "    </tr>\n",
       "  </thead>\n",
       "  <tbody>\n",
       "    <tr>\n",
       "      <td>0</td>\n",
       "      <td>2141543</td>\n",
       "      <td>7652</td>\n",
       "      <td>172.16.0.5-192.168.50.1-47827-47090-17</td>\n",
       "      <td>172.16.0.5</td>\n",
       "      <td>47827</td>\n",
       "      <td>192.168.50.1</td>\n",
       "      <td>47090</td>\n",
       "      <td>17</td>\n",
       "      <td>2018-12-01 13:04:42.030242</td>\n",
       "      <td>981829</td>\n",
       "      <td>...</td>\n",
       "      <td>0.0</td>\n",
       "      <td>0.0</td>\n",
       "      <td>0.0</td>\n",
       "      <td>0.0</td>\n",
       "      <td>0.0</td>\n",
       "      <td>0.0</td>\n",
       "      <td>0.0</td>\n",
       "      <td>0</td>\n",
       "      <td>1</td>\n",
       "      <td>DrDoS_UDP</td>\n",
       "    </tr>\n",
       "    <tr>\n",
       "      <td>1</td>\n",
       "      <td>1833555</td>\n",
       "      <td>16041</td>\n",
       "      <td>172.16.0.5-192.168.50.1-50388-43249-17</td>\n",
       "      <td>172.16.0.5</td>\n",
       "      <td>50388</td>\n",
       "      <td>192.168.50.1</td>\n",
       "      <td>43249</td>\n",
       "      <td>17</td>\n",
       "      <td>2018-12-01 12:59:00.749867</td>\n",
       "      <td>218355</td>\n",
       "      <td>...</td>\n",
       "      <td>0.0</td>\n",
       "      <td>0.0</td>\n",
       "      <td>0.0</td>\n",
       "      <td>0.0</td>\n",
       "      <td>0.0</td>\n",
       "      <td>0.0</td>\n",
       "      <td>0.0</td>\n",
       "      <td>0</td>\n",
       "      <td>1</td>\n",
       "      <td>DrDoS_UDP</td>\n",
       "    </tr>\n",
       "  </tbody>\n",
       "</table>\n",
       "<p>2 rows × 89 columns</p>\n",
       "</div>"
      ],
      "text/plain": [
       "   Unnamed: 0  Unnamed: 0.1                                 Flow ID  \\\n",
       "0     2141543          7652  172.16.0.5-192.168.50.1-47827-47090-17   \n",
       "1     1833555         16041  172.16.0.5-192.168.50.1-50388-43249-17   \n",
       "\n",
       "    Source IP   Source Port  Destination IP   Destination Port   Protocol  \\\n",
       "0  172.16.0.5         47827    192.168.50.1              47090         17   \n",
       "1  172.16.0.5         50388    192.168.50.1              43249         17   \n",
       "\n",
       "                    Timestamp   Flow Duration  ...   Active Std   Active Max  \\\n",
       "0  2018-12-01 13:04:42.030242          981829  ...          0.0          0.0   \n",
       "1  2018-12-01 12:59:00.749867          218355  ...          0.0          0.0   \n",
       "\n",
       "    Active Min  Idle Mean   Idle Std   Idle Max   Idle Min  SimillarHTTP  \\\n",
       "0          0.0        0.0        0.0        0.0        0.0             0   \n",
       "1          0.0        0.0        0.0        0.0        0.0             0   \n",
       "\n",
       "    Inbound      Label  \n",
       "0         1  DrDoS_UDP  \n",
       "1         1  DrDoS_UDP  \n",
       "\n",
       "[2 rows x 89 columns]"
      ]
     },
     "execution_count": 4,
     "metadata": {},
     "output_type": "execute_result"
    }
   ],
   "source": [
    "all_df.head(2)"
   ]
  },
  {
   "cell_type": "code",
   "execution_count": 5,
   "metadata": {},
   "outputs": [
    {
     "data": {
      "text/plain": [
       "(2386803, 89)"
      ]
     },
     "execution_count": 5,
     "metadata": {},
     "output_type": "execute_result"
    }
   ],
   "source": [
    "all_df.shape"
   ]
  },
  {
   "cell_type": "code",
   "execution_count": 6,
   "metadata": {},
   "outputs": [
    {
     "data": {
      "text/plain": [
       "array(['DrDoS_UDP', 'DrDoS_LDAP', 'DrDoS_NetBIOS', 'DrDoS_MSSQL', 'Syn',\n",
       "       'BENIGN'], dtype=object)"
      ]
     },
     "execution_count": 6,
     "metadata": {},
     "output_type": "execute_result"
    }
   ],
   "source": [
    "# Classification labels for dependent variable \n",
    "all_df[' Label'].unique()"
   ]
  },
  {
   "cell_type": "code",
   "execution_count": 42,
   "metadata": {},
   "outputs": [],
   "source": [
    "# Assigning numeric values for classification variable \n",
    "all_df = all_df.replace({' Label': {'DrDoS_MSSQL':1, 'DrDoS_LDAP':2, 'DrDoS_NetBIOS':3, 'Syn':4,\n",
    "       'DrDoS_UDP':5, 'BENIGN':0}})"
   ]
  },
  {
   "cell_type": "code",
   "execution_count": 43,
   "metadata": {},
   "outputs": [],
   "source": [
    "# Converting to type int\n",
    "all_df[' Label'].astype(int)\n",
    "pd.set_option('display.min_rows', None)"
   ]
  },
  {
   "cell_type": "code",
   "execution_count": 44,
   "metadata": {},
   "outputs": [
    {
     "data": {
      "text/plain": [
       "array([5, 2, 3, 1, 4, 0])"
      ]
     },
     "execution_count": 44,
     "metadata": {},
     "output_type": "execute_result"
    }
   ],
   "source": [
    "# Verifying conversion\n",
    "all_df[' Label'].unique()"
   ]
  },
  {
   "cell_type": "code",
   "execution_count": 45,
   "metadata": {},
   "outputs": [
    {
     "data": {
      "text/plain": [
       "3    818656\n",
       "5    626929\n",
       "2    435986\n",
       "4    316458\n",
       "1    180900\n",
       "0      7874\n",
       "Name:  Label, dtype: int64"
      ]
     },
     "execution_count": 45,
     "metadata": {},
     "output_type": "execute_result"
    }
   ],
   "source": [
    "# Checking unbalanced data\n",
    "all_df[' Label'].value_counts()"
   ]
  },
  {
   "cell_type": "code",
   "execution_count": 46,
   "metadata": {
    "collapsed": true,
    "jupyter": {
     "outputs_hidden": true
    }
   },
   "outputs": [
    {
     "data": {
      "text/plain": [
       "Unnamed: 0                        int64\n",
       "Unnamed: 0.1                      int64\n",
       "Flow ID                          object\n",
       " Source IP                       object\n",
       " Source Port                      int64\n",
       " Destination IP                  object\n",
       " Destination Port                 int64\n",
       " Protocol                         int64\n",
       " Timestamp                       object\n",
       " Flow Duration                    int64\n",
       " Total Fwd Packets                int64\n",
       " Total Backward Packets           int64\n",
       "Total Length of Fwd Packets     float64\n",
       " Total Length of Bwd Packets    float64\n",
       " Fwd Packet Length Max          float64\n",
       " Fwd Packet Length Min          float64\n",
       " Fwd Packet Length Mean         float64\n",
       " Fwd Packet Length Std          float64\n",
       "Bwd Packet Length Max           float64\n",
       " Bwd Packet Length Min          float64\n",
       " Bwd Packet Length Mean         float64\n",
       " Bwd Packet Length Std          float64\n",
       "Flow Bytes/s                     object\n",
       " Flow Packets/s                  object\n",
       " Flow IAT Mean                  float64\n",
       " Flow IAT Std                   float64\n",
       " Flow IAT Max                   float64\n",
       " Flow IAT Min                   float64\n",
       "Fwd IAT Total                   float64\n",
       " Fwd IAT Mean                   float64\n",
       " Fwd IAT Std                    float64\n",
       " Fwd IAT Max                    float64\n",
       " Fwd IAT Min                    float64\n",
       "Bwd IAT Total                   float64\n",
       " Bwd IAT Mean                   float64\n",
       " Bwd IAT Std                    float64\n",
       " Bwd IAT Max                    float64\n",
       " Bwd IAT Min                    float64\n",
       "Fwd PSH Flags                     int64\n",
       " Bwd PSH Flags                    int64\n",
       " Fwd URG Flags                    int64\n",
       " Bwd URG Flags                    int64\n",
       " Fwd Header Length                int64\n",
       " Bwd Header Length                int64\n",
       "Fwd Packets/s                   float64\n",
       " Bwd Packets/s                  float64\n",
       " Min Packet Length              float64\n",
       " Max Packet Length              float64\n",
       " Packet Length Mean             float64\n",
       " Packet Length Std              float64\n",
       " Packet Length Variance         float64\n",
       "FIN Flag Count                    int64\n",
       " SYN Flag Count                   int64\n",
       " RST Flag Count                   int64\n",
       " PSH Flag Count                   int64\n",
       " ACK Flag Count                   int64\n",
       " URG Flag Count                   int64\n",
       " CWE Flag Count                   int64\n",
       " ECE Flag Count                   int64\n",
       " Down/Up Ratio                  float64\n",
       " Average Packet Size            float64\n",
       " Avg Fwd Segment Size           float64\n",
       " Avg Bwd Segment Size           float64\n",
       " Fwd Header Length.1              int64\n",
       "Fwd Avg Bytes/Bulk                int64\n",
       " Fwd Avg Packets/Bulk             int64\n",
       " Fwd Avg Bulk Rate                int64\n",
       " Bwd Avg Bytes/Bulk               int64\n",
       " Bwd Avg Packets/Bulk             int64\n",
       "Bwd Avg Bulk Rate                 int64\n",
       "Subflow Fwd Packets               int64\n",
       " Subflow Fwd Bytes                int64\n",
       " Subflow Bwd Packets              int64\n",
       " Subflow Bwd Bytes                int64\n",
       "Init_Win_bytes_forward            int64\n",
       " Init_Win_bytes_backward          int64\n",
       " act_data_pkt_fwd                 int64\n",
       " min_seg_size_forward             int64\n",
       "Active Mean                     float64\n",
       " Active Std                     float64\n",
       " Active Max                     float64\n",
       " Active Min                     float64\n",
       "Idle Mean                       float64\n",
       " Idle Std                       float64\n",
       " Idle Max                       float64\n",
       " Idle Min                       float64\n",
       "SimillarHTTP                     object\n",
       " Inbound                          int64\n",
       " Label                            int64\n",
       "dtype: object"
      ]
     },
     "execution_count": 46,
     "metadata": {},
     "output_type": "execute_result"
    }
   ],
   "source": [
    "# Finding datatypes\n",
    "pd.set_option('display.max_rows', None)\n",
    "all_df.dtypes"
   ]
  },
  {
   "cell_type": "code",
   "execution_count": 48,
   "metadata": {},
   "outputs": [],
   "source": [
    "# Dropping non numeric identifiers \n",
    "all_df = all_df.drop(columns=['Unnamed: 0','Unnamed: 0.1','Flow ID', ' Source IP', ' Timestamp',\n",
    "       ' Destination IP', 'SimillarHTTP'])"
   ]
  },
  {
   "cell_type": "code",
   "execution_count": 49,
   "metadata": {},
   "outputs": [
    {
     "data": {
      "text/html": [
       "<div>\n",
       "<style scoped>\n",
       "    .dataframe tbody tr th:only-of-type {\n",
       "        vertical-align: middle;\n",
       "    }\n",
       "\n",
       "    .dataframe tbody tr th {\n",
       "        vertical-align: top;\n",
       "    }\n",
       "\n",
       "    .dataframe thead th {\n",
       "        text-align: right;\n",
       "    }\n",
       "</style>\n",
       "<table border=\"1\" class=\"dataframe\">\n",
       "  <thead>\n",
       "    <tr style=\"text-align: right;\">\n",
       "      <th></th>\n",
       "      <th>Source Port</th>\n",
       "      <th>Destination Port</th>\n",
       "      <th>Protocol</th>\n",
       "      <th>Flow Duration</th>\n",
       "      <th>Total Fwd Packets</th>\n",
       "      <th>Total Backward Packets</th>\n",
       "      <th>Total Length of Fwd Packets</th>\n",
       "      <th>Total Length of Bwd Packets</th>\n",
       "      <th>Fwd Packet Length Max</th>\n",
       "      <th>Fwd Packet Length Min</th>\n",
       "      <th>...</th>\n",
       "      <th>Active Mean</th>\n",
       "      <th>Active Std</th>\n",
       "      <th>Active Max</th>\n",
       "      <th>Active Min</th>\n",
       "      <th>Idle Mean</th>\n",
       "      <th>Idle Std</th>\n",
       "      <th>Idle Max</th>\n",
       "      <th>Idle Min</th>\n",
       "      <th>Inbound</th>\n",
       "      <th>Label</th>\n",
       "    </tr>\n",
       "  </thead>\n",
       "  <tbody>\n",
       "    <tr>\n",
       "      <td>count</td>\n",
       "      <td>2.386803e+06</td>\n",
       "      <td>2.386803e+06</td>\n",
       "      <td>2.386803e+06</td>\n",
       "      <td>2.386803e+06</td>\n",
       "      <td>2.386803e+06</td>\n",
       "      <td>2.386803e+06</td>\n",
       "      <td>2.386803e+06</td>\n",
       "      <td>2.386803e+06</td>\n",
       "      <td>2.386803e+06</td>\n",
       "      <td>2.386803e+06</td>\n",
       "      <td>...</td>\n",
       "      <td>2.386803e+06</td>\n",
       "      <td>2.386803e+06</td>\n",
       "      <td>2.386803e+06</td>\n",
       "      <td>2.386803e+06</td>\n",
       "      <td>2.386803e+06</td>\n",
       "      <td>2.386803e+06</td>\n",
       "      <td>2.386803e+06</td>\n",
       "      <td>2.386803e+06</td>\n",
       "      <td>2.386803e+06</td>\n",
       "      <td>2.386803e+06</td>\n",
       "    </tr>\n",
       "    <tr>\n",
       "      <td>mean</td>\n",
       "      <td>2.097175e+04</td>\n",
       "      <td>3.284794e+04</td>\n",
       "      <td>1.551491e+01</td>\n",
       "      <td>1.123978e+06</td>\n",
       "      <td>3.182320e+00</td>\n",
       "      <td>5.785270e-02</td>\n",
       "      <td>1.145349e+03</td>\n",
       "      <td>7.080009e+00</td>\n",
       "      <td>4.934489e+02</td>\n",
       "      <td>4.854706e+02</td>\n",
       "      <td>...</td>\n",
       "      <td>4.793148e+02</td>\n",
       "      <td>6.569008e+02</td>\n",
       "      <td>1.577671e+03</td>\n",
       "      <td>1.592042e+02</td>\n",
       "      <td>2.177373e+05</td>\n",
       "      <td>7.166529e+04</td>\n",
       "      <td>3.225333e+05</td>\n",
       "      <td>1.465949e+05</td>\n",
       "      <td>9.969009e-01</td>\n",
       "      <td>3.313770e+00</td>\n",
       "    </tr>\n",
       "    <tr>\n",
       "      <td>std</td>\n",
       "      <td>2.346015e+04</td>\n",
       "      <td>1.891065e+04</td>\n",
       "      <td>3.761283e+00</td>\n",
       "      <td>1.028017e+07</td>\n",
       "      <td>2.222298e+02</td>\n",
       "      <td>1.153972e+00</td>\n",
       "      <td>1.146429e+03</td>\n",
       "      <td>1.458385e+03</td>\n",
       "      <td>4.875145e+02</td>\n",
       "      <td>4.894485e+02</td>\n",
       "      <td>...</td>\n",
       "      <td>3.945608e+04</td>\n",
       "      <td>4.423971e+04</td>\n",
       "      <td>8.560506e+04</td>\n",
       "      <td>2.562625e+04</td>\n",
       "      <td>2.117073e+06</td>\n",
       "      <td>7.992343e+05</td>\n",
       "      <td>3.123824e+06</td>\n",
       "      <td>1.536508e+06</td>\n",
       "      <td>5.558346e-02</td>\n",
       "      <td>1.265037e+00</td>\n",
       "    </tr>\n",
       "    <tr>\n",
       "      <td>min</td>\n",
       "      <td>0.000000e+00</td>\n",
       "      <td>0.000000e+00</td>\n",
       "      <td>0.000000e+00</td>\n",
       "      <td>0.000000e+00</td>\n",
       "      <td>1.000000e+00</td>\n",
       "      <td>0.000000e+00</td>\n",
       "      <td>0.000000e+00</td>\n",
       "      <td>0.000000e+00</td>\n",
       "      <td>0.000000e+00</td>\n",
       "      <td>0.000000e+00</td>\n",
       "      <td>...</td>\n",
       "      <td>0.000000e+00</td>\n",
       "      <td>0.000000e+00</td>\n",
       "      <td>0.000000e+00</td>\n",
       "      <td>0.000000e+00</td>\n",
       "      <td>0.000000e+00</td>\n",
       "      <td>0.000000e+00</td>\n",
       "      <td>0.000000e+00</td>\n",
       "      <td>0.000000e+00</td>\n",
       "      <td>0.000000e+00</td>\n",
       "      <td>0.000000e+00</td>\n",
       "    </tr>\n",
       "    <tr>\n",
       "      <td>25%</td>\n",
       "      <td>7.420000e+02</td>\n",
       "      <td>1.649200e+04</td>\n",
       "      <td>1.700000e+01</td>\n",
       "      <td>1.000000e+00</td>\n",
       "      <td>2.000000e+00</td>\n",
       "      <td>0.000000e+00</td>\n",
       "      <td>4.580000e+02</td>\n",
       "      <td>0.000000e+00</td>\n",
       "      <td>2.290000e+02</td>\n",
       "      <td>2.290000e+02</td>\n",
       "      <td>...</td>\n",
       "      <td>0.000000e+00</td>\n",
       "      <td>0.000000e+00</td>\n",
       "      <td>0.000000e+00</td>\n",
       "      <td>0.000000e+00</td>\n",
       "      <td>0.000000e+00</td>\n",
       "      <td>0.000000e+00</td>\n",
       "      <td>0.000000e+00</td>\n",
       "      <td>0.000000e+00</td>\n",
       "      <td>1.000000e+00</td>\n",
       "      <td>2.000000e+00</td>\n",
       "    </tr>\n",
       "    <tr>\n",
       "      <td>50%</td>\n",
       "      <td>9.950000e+02</td>\n",
       "      <td>3.285900e+04</td>\n",
       "      <td>1.700000e+01</td>\n",
       "      <td>1.000000e+00</td>\n",
       "      <td>2.000000e+00</td>\n",
       "      <td>0.000000e+00</td>\n",
       "      <td>7.500000e+02</td>\n",
       "      <td>0.000000e+00</td>\n",
       "      <td>3.690000e+02</td>\n",
       "      <td>3.210000e+02</td>\n",
       "      <td>...</td>\n",
       "      <td>0.000000e+00</td>\n",
       "      <td>0.000000e+00</td>\n",
       "      <td>0.000000e+00</td>\n",
       "      <td>0.000000e+00</td>\n",
       "      <td>0.000000e+00</td>\n",
       "      <td>0.000000e+00</td>\n",
       "      <td>0.000000e+00</td>\n",
       "      <td>0.000000e+00</td>\n",
       "      <td>1.000000e+00</td>\n",
       "      <td>3.000000e+00</td>\n",
       "    </tr>\n",
       "    <tr>\n",
       "      <td>75%</td>\n",
       "      <td>4.419200e+04</td>\n",
       "      <td>4.924900e+04</td>\n",
       "      <td>1.700000e+01</td>\n",
       "      <td>4.500000e+01</td>\n",
       "      <td>2.000000e+00</td>\n",
       "      <td>0.000000e+00</td>\n",
       "      <td>1.438000e+03</td>\n",
       "      <td>0.000000e+00</td>\n",
       "      <td>4.370000e+02</td>\n",
       "      <td>4.320000e+02</td>\n",
       "      <td>...</td>\n",
       "      <td>0.000000e+00</td>\n",
       "      <td>0.000000e+00</td>\n",
       "      <td>0.000000e+00</td>\n",
       "      <td>0.000000e+00</td>\n",
       "      <td>0.000000e+00</td>\n",
       "      <td>0.000000e+00</td>\n",
       "      <td>0.000000e+00</td>\n",
       "      <td>0.000000e+00</td>\n",
       "      <td>1.000000e+00</td>\n",
       "      <td>5.000000e+00</td>\n",
       "    </tr>\n",
       "    <tr>\n",
       "      <td>max</td>\n",
       "      <td>6.553200e+04</td>\n",
       "      <td>6.553500e+04</td>\n",
       "      <td>1.700000e+01</td>\n",
       "      <td>1.199997e+08</td>\n",
       "      <td>8.617600e+04</td>\n",
       "      <td>8.170000e+02</td>\n",
       "      <td>6.931000e+04</td>\n",
       "      <td>1.468048e+06</td>\n",
       "      <td>3.547000e+03</td>\n",
       "      <td>1.472000e+03</td>\n",
       "      <td>...</td>\n",
       "      <td>3.844614e+07</td>\n",
       "      <td>4.868047e+07</td>\n",
       "      <td>7.286843e+07</td>\n",
       "      <td>1.310114e+07</td>\n",
       "      <td>1.166865e+08</td>\n",
       "      <td>5.424436e+07</td>\n",
       "      <td>1.166865e+08</td>\n",
       "      <td>1.166865e+08</td>\n",
       "      <td>1.000000e+00</td>\n",
       "      <td>5.000000e+00</td>\n",
       "    </tr>\n",
       "  </tbody>\n",
       "</table>\n",
       "<p>8 rows × 80 columns</p>\n",
       "</div>"
      ],
      "text/plain": [
       "        Source Port   Destination Port      Protocol   Flow Duration  \\\n",
       "count  2.386803e+06       2.386803e+06  2.386803e+06    2.386803e+06   \n",
       "mean   2.097175e+04       3.284794e+04  1.551491e+01    1.123978e+06   \n",
       "std    2.346015e+04       1.891065e+04  3.761283e+00    1.028017e+07   \n",
       "min    0.000000e+00       0.000000e+00  0.000000e+00    0.000000e+00   \n",
       "25%    7.420000e+02       1.649200e+04  1.700000e+01    1.000000e+00   \n",
       "50%    9.950000e+02       3.285900e+04  1.700000e+01    1.000000e+00   \n",
       "75%    4.419200e+04       4.924900e+04  1.700000e+01    4.500000e+01   \n",
       "max    6.553200e+04       6.553500e+04  1.700000e+01    1.199997e+08   \n",
       "\n",
       "        Total Fwd Packets   Total Backward Packets  \\\n",
       "count        2.386803e+06             2.386803e+06   \n",
       "mean         3.182320e+00             5.785270e-02   \n",
       "std          2.222298e+02             1.153972e+00   \n",
       "min          1.000000e+00             0.000000e+00   \n",
       "25%          2.000000e+00             0.000000e+00   \n",
       "50%          2.000000e+00             0.000000e+00   \n",
       "75%          2.000000e+00             0.000000e+00   \n",
       "max          8.617600e+04             8.170000e+02   \n",
       "\n",
       "       Total Length of Fwd Packets   Total Length of Bwd Packets  \\\n",
       "count                 2.386803e+06                  2.386803e+06   \n",
       "mean                  1.145349e+03                  7.080009e+00   \n",
       "std                   1.146429e+03                  1.458385e+03   \n",
       "min                   0.000000e+00                  0.000000e+00   \n",
       "25%                   4.580000e+02                  0.000000e+00   \n",
       "50%                   7.500000e+02                  0.000000e+00   \n",
       "75%                   1.438000e+03                  0.000000e+00   \n",
       "max                   6.931000e+04                  1.468048e+06   \n",
       "\n",
       "        Fwd Packet Length Max   Fwd Packet Length Min  ...   Active Mean  \\\n",
       "count            2.386803e+06            2.386803e+06  ...  2.386803e+06   \n",
       "mean             4.934489e+02            4.854706e+02  ...  4.793148e+02   \n",
       "std              4.875145e+02            4.894485e+02  ...  3.945608e+04   \n",
       "min              0.000000e+00            0.000000e+00  ...  0.000000e+00   \n",
       "25%              2.290000e+02            2.290000e+02  ...  0.000000e+00   \n",
       "50%              3.690000e+02            3.210000e+02  ...  0.000000e+00   \n",
       "75%              4.370000e+02            4.320000e+02  ...  0.000000e+00   \n",
       "max              3.547000e+03            1.472000e+03  ...  3.844614e+07   \n",
       "\n",
       "         Active Std    Active Max    Active Min     Idle Mean      Idle Std  \\\n",
       "count  2.386803e+06  2.386803e+06  2.386803e+06  2.386803e+06  2.386803e+06   \n",
       "mean   6.569008e+02  1.577671e+03  1.592042e+02  2.177373e+05  7.166529e+04   \n",
       "std    4.423971e+04  8.560506e+04  2.562625e+04  2.117073e+06  7.992343e+05   \n",
       "min    0.000000e+00  0.000000e+00  0.000000e+00  0.000000e+00  0.000000e+00   \n",
       "25%    0.000000e+00  0.000000e+00  0.000000e+00  0.000000e+00  0.000000e+00   \n",
       "50%    0.000000e+00  0.000000e+00  0.000000e+00  0.000000e+00  0.000000e+00   \n",
       "75%    0.000000e+00  0.000000e+00  0.000000e+00  0.000000e+00  0.000000e+00   \n",
       "max    4.868047e+07  7.286843e+07  1.310114e+07  1.166865e+08  5.424436e+07   \n",
       "\n",
       "           Idle Max      Idle Min       Inbound         Label  \n",
       "count  2.386803e+06  2.386803e+06  2.386803e+06  2.386803e+06  \n",
       "mean   3.225333e+05  1.465949e+05  9.969009e-01  3.313770e+00  \n",
       "std    3.123824e+06  1.536508e+06  5.558346e-02  1.265037e+00  \n",
       "min    0.000000e+00  0.000000e+00  0.000000e+00  0.000000e+00  \n",
       "25%    0.000000e+00  0.000000e+00  1.000000e+00  2.000000e+00  \n",
       "50%    0.000000e+00  0.000000e+00  1.000000e+00  3.000000e+00  \n",
       "75%    0.000000e+00  0.000000e+00  1.000000e+00  5.000000e+00  \n",
       "max    1.166865e+08  1.166865e+08  1.000000e+00  5.000000e+00  \n",
       "\n",
       "[8 rows x 80 columns]"
      ]
     },
     "execution_count": 49,
     "metadata": {},
     "output_type": "execute_result"
    }
   ],
   "source": [
    "all_df.describe()"
   ]
  },
  {
   "cell_type": "code",
   "execution_count": 50,
   "metadata": {},
   "outputs": [],
   "source": [
    "# Converting flow packets to float (was object)\n",
    "all_df[' Flow Packets/s']= all_df[' Flow Packets/s'].astype(float)\n",
    "# Converting flow bytes to float (was object)\n",
    "all_df['Flow Bytes/s']= all_df['Flow Bytes/s'].astype(float)"
   ]
  },
  {
   "cell_type": "code",
   "execution_count": 51,
   "metadata": {},
   "outputs": [
    {
     "data": {
      "text/plain": [
       "inf"
      ]
     },
     "execution_count": 51,
     "metadata": {},
     "output_type": "execute_result"
    }
   ],
   "source": [
    "# Maximum value \n",
    "all_df[' Flow Packets/s'].max()"
   ]
  },
  {
   "cell_type": "code",
   "execution_count": 52,
   "metadata": {},
   "outputs": [
    {
     "data": {
      "text/plain": [
       "87146"
      ]
     },
     "execution_count": 52,
     "metadata": {},
     "output_type": "execute_result"
    }
   ],
   "source": [
    "# Number of infinity values \n",
    "all_df[' Flow Packets/s'].loc[all_df[' Flow Packets/s'] == np.inf].count()"
   ]
  },
  {
   "cell_type": "code",
   "execution_count": 53,
   "metadata": {},
   "outputs": [
    {
     "data": {
      "text/plain": [
       "inf"
      ]
     },
     "execution_count": 53,
     "metadata": {},
     "output_type": "execute_result"
    }
   ],
   "source": [
    "# Maximum value \n",
    "all_df['Flow Bytes/s'].max()"
   ]
  },
  {
   "cell_type": "code",
   "execution_count": 54,
   "metadata": {},
   "outputs": [
    {
     "data": {
      "text/plain": [
       "46848"
      ]
     },
     "execution_count": 54,
     "metadata": {},
     "output_type": "execute_result"
    }
   ],
   "source": [
    "# Number of infinity values \n",
    "all_df['Flow Bytes/s'].loc[all_df['Flow Bytes/s'] == np.inf].count()"
   ]
  },
  {
   "cell_type": "code",
   "execution_count": 55,
   "metadata": {},
   "outputs": [
    {
     "data": {
      "text/plain": [
       "0"
      ]
     },
     "execution_count": 55,
     "metadata": {},
     "output_type": "execute_result"
    }
   ],
   "source": [
    "# Finding nans\n",
    "all_df[' Flow Packets/s'].isna().sum()"
   ]
  },
  {
   "cell_type": "code",
   "execution_count": 56,
   "metadata": {},
   "outputs": [
    {
     "data": {
      "text/plain": [
       "40298"
      ]
     },
     "execution_count": 56,
     "metadata": {},
     "output_type": "execute_result"
    }
   ],
   "source": [
    "# Finding nans\n",
    "all_df['Flow Bytes/s'].isna().sum()"
   ]
  },
  {
   "cell_type": "code",
   "execution_count": 57,
   "metadata": {},
   "outputs": [],
   "source": [
    "# Finding max value thats not infinity and assigning it to inf\n",
    "max_bytes = all_df.loc[all_df['Flow Bytes/s'] != np.inf, 'Flow Bytes/s'].max()\n",
    "all_df['Flow Bytes/s'].replace(np.inf,max_bytes,inplace=True)"
   ]
  },
  {
   "cell_type": "code",
   "execution_count": 58,
   "metadata": {},
   "outputs": [],
   "source": [
    "# Finding max value thats not infinity and assigning it to inf\n",
    "max_packets = all_df.loc[all_df[' Flow Packets/s'] != np.inf, ' Flow Packets/s'].max()\n",
    "all_df[' Flow Packets/s'].replace(np.inf,max_packets,inplace=True)"
   ]
  },
  {
   "cell_type": "code",
   "execution_count": 59,
   "metadata": {},
   "outputs": [
    {
     "data": {
      "text/plain": [
       "0"
      ]
     },
     "execution_count": 59,
     "metadata": {},
     "output_type": "execute_result"
    }
   ],
   "source": [
    "# Finding nans\n",
    "all_df[' Flow Packets/s'].isna().sum()"
   ]
  },
  {
   "cell_type": "code",
   "execution_count": 60,
   "metadata": {},
   "outputs": [
    {
     "data": {
      "text/plain": [
       "40298"
      ]
     },
     "execution_count": 60,
     "metadata": {},
     "output_type": "execute_result"
    }
   ],
   "source": [
    "# Finding nans\n",
    "all_df['Flow Bytes/s'].isna().sum()"
   ]
  },
  {
   "cell_type": "code",
   "execution_count": 61,
   "metadata": {
    "collapsed": true,
    "jupyter": {
     "outputs_hidden": true
    }
   },
   "outputs": [
    {
     "data": {
      "text/plain": [
       " Source Port                        0\n",
       " Destination Port                   0\n",
       " Protocol                           0\n",
       " Flow Duration                      0\n",
       " Total Fwd Packets                  0\n",
       " Total Backward Packets             0\n",
       "Total Length of Fwd Packets         0\n",
       " Total Length of Bwd Packets        0\n",
       " Fwd Packet Length Max              0\n",
       " Fwd Packet Length Min              0\n",
       " Fwd Packet Length Mean             0\n",
       " Fwd Packet Length Std              0\n",
       "Bwd Packet Length Max               0\n",
       " Bwd Packet Length Min              0\n",
       " Bwd Packet Length Mean             0\n",
       " Bwd Packet Length Std              0\n",
       "Flow Bytes/s                    40298\n",
       " Flow Packets/s                     0\n",
       " Flow IAT Mean                      0\n",
       " Flow IAT Std                       0\n",
       " Flow IAT Max                       0\n",
       " Flow IAT Min                       0\n",
       "Fwd IAT Total                       0\n",
       " Fwd IAT Mean                       0\n",
       " Fwd IAT Std                        0\n",
       " Fwd IAT Max                        0\n",
       " Fwd IAT Min                        0\n",
       "Bwd IAT Total                       0\n",
       " Bwd IAT Mean                       0\n",
       " Bwd IAT Std                        0\n",
       " Bwd IAT Max                        0\n",
       " Bwd IAT Min                        0\n",
       "Fwd PSH Flags                       0\n",
       " Bwd PSH Flags                      0\n",
       " Fwd URG Flags                      0\n",
       " Bwd URG Flags                      0\n",
       " Fwd Header Length                  0\n",
       " Bwd Header Length                  0\n",
       "Fwd Packets/s                       0\n",
       " Bwd Packets/s                      0\n",
       " Min Packet Length                  0\n",
       " Max Packet Length                  0\n",
       " Packet Length Mean                 0\n",
       " Packet Length Std                  0\n",
       " Packet Length Variance             0\n",
       "FIN Flag Count                      0\n",
       " SYN Flag Count                     0\n",
       " RST Flag Count                     0\n",
       " PSH Flag Count                     0\n",
       " ACK Flag Count                     0\n",
       " URG Flag Count                     0\n",
       " CWE Flag Count                     0\n",
       " ECE Flag Count                     0\n",
       " Down/Up Ratio                      0\n",
       " Average Packet Size                0\n",
       " Avg Fwd Segment Size               0\n",
       " Avg Bwd Segment Size               0\n",
       " Fwd Header Length.1                0\n",
       "Fwd Avg Bytes/Bulk                  0\n",
       " Fwd Avg Packets/Bulk               0\n",
       " Fwd Avg Bulk Rate                  0\n",
       " Bwd Avg Bytes/Bulk                 0\n",
       " Bwd Avg Packets/Bulk               0\n",
       "Bwd Avg Bulk Rate                   0\n",
       "Subflow Fwd Packets                 0\n",
       " Subflow Fwd Bytes                  0\n",
       " Subflow Bwd Packets                0\n",
       " Subflow Bwd Bytes                  0\n",
       "Init_Win_bytes_forward              0\n",
       " Init_Win_bytes_backward            0\n",
       " act_data_pkt_fwd                   0\n",
       " min_seg_size_forward               0\n",
       "Active Mean                         0\n",
       " Active Std                         0\n",
       " Active Max                         0\n",
       " Active Min                         0\n",
       "Idle Mean                           0\n",
       " Idle Std                           0\n",
       " Idle Max                           0\n",
       " Idle Min                           0\n",
       " Inbound                            0\n",
       " Label                              0\n",
       "dtype: int64"
      ]
     },
     "execution_count": 61,
     "metadata": {},
     "output_type": "execute_result"
    }
   ],
   "source": [
    "# 'Flow Bytes/s' has all of dfs nans\n",
    "pd.set_option('display.max_rows', None)\n",
    "all_df.isna().sum()"
   ]
  },
  {
   "cell_type": "code",
   "execution_count": 62,
   "metadata": {},
   "outputs": [
    {
     "data": {
      "text/plain": [
       "count    2.346505e+06\n",
       "mean     7.623327e+08\n",
       "std      9.627836e+08\n",
       "min      0.000000e+00\n",
       "25%      1.380144e+04\n",
       "50%      4.580000e+08\n",
       "75%      8.160000e+08\n",
       "max      2.944000e+09\n",
       "Name: Flow Bytes/s, dtype: float64"
      ]
     },
     "execution_count": 62,
     "metadata": {},
     "output_type": "execute_result"
    }
   ],
   "source": [
    "# 'Flow Bytes/s' quick stats\n",
    "all_df['Flow Bytes/s'].describe()"
   ]
  },
  {
   "cell_type": "code",
   "execution_count": 63,
   "metadata": {},
   "outputs": [
    {
     "data": {
      "image/png": "[encoded data removed]",
      "text/plain": [
       "<Figure size 432x288 with 1 Axes>"
      ]
     },
     "metadata": {
      "needs_background": "light"
     },
     "output_type": "display_data"
    }
   ],
   "source": [
    "# 'Flow Bytes/s' distribution\n",
    "plt.figure()\n",
    "plt.hist(all_df['Flow Bytes/s'], bins=20)\n",
    "plt.title('Flow Bytes/s Distribution')\n",
    "plt.show()"
   ]
  },
  {
   "cell_type": "code",
   "execution_count": 64,
   "metadata": {},
   "outputs": [
    {
     "data": {
      "text/plain": [
       " Label\n",
       "0       32\n",
       "1        1\n",
       "2        0\n",
       "3        1\n",
       "4    40264\n",
       "5        0\n",
       "Name: Flow Bytes/s, dtype: int64"
      ]
     },
     "execution_count": 64,
     "metadata": {},
     "output_type": "execute_result"
    }
   ],
   "source": [
    "# Which class has null values\n",
    "g = all_df.groupby(' Label')\n",
    "g = g.count().rsub(g.size(), axis=0)\n",
    "g['Flow Bytes/s']"
   ]
  },
  {
   "cell_type": "code",
   "execution_count": 65,
   "metadata": {},
   "outputs": [],
   "source": [
    "# This takes a bit\n",
    "# Filling nans with medians of each class\n",
    "all_df['Flow Bytes/s'] = all_df.groupby(\" Label\").transform(lambda x: x.fillna(x.median()))"
   ]
  },
  {
   "cell_type": "code",
   "execution_count": 66,
   "metadata": {},
   "outputs": [
    {
     "data": {
      "text/plain": [
       "0"
      ]
     },
     "execution_count": 66,
     "metadata": {},
     "output_type": "execute_result"
    }
   ],
   "source": [
    "# Finding nans\n",
    "all_df['Flow Bytes/s'].isna().sum()"
   ]
  },
  {
   "cell_type": "code",
   "execution_count": 67,
   "metadata": {
    "collapsed": true,
    "jupyter": {
     "outputs_hidden": true
    }
   },
   "outputs": [
    {
     "data": {
      "text/plain": [
       " Source Port                    0\n",
       " Destination Port               0\n",
       " Protocol                       0\n",
       " Flow Duration                  0\n",
       " Total Fwd Packets              0\n",
       " Total Backward Packets         0\n",
       "Total Length of Fwd Packets     0\n",
       " Total Length of Bwd Packets    0\n",
       " Fwd Packet Length Max          0\n",
       " Fwd Packet Length Min          0\n",
       " Fwd Packet Length Mean         0\n",
       " Fwd Packet Length Std          0\n",
       "Bwd Packet Length Max           0\n",
       " Bwd Packet Length Min          0\n",
       " Bwd Packet Length Mean         0\n",
       " Bwd Packet Length Std          0\n",
       "Flow Bytes/s                    0\n",
       " Flow Packets/s                 0\n",
       " Flow IAT Mean                  0\n",
       " Flow IAT Std                   0\n",
       " Flow IAT Max                   0\n",
       " Flow IAT Min                   0\n",
       "Fwd IAT Total                   0\n",
       " Fwd IAT Mean                   0\n",
       " Fwd IAT Std                    0\n",
       " Fwd IAT Max                    0\n",
       " Fwd IAT Min                    0\n",
       "Bwd IAT Total                   0\n",
       " Bwd IAT Mean                   0\n",
       " Bwd IAT Std                    0\n",
       " Bwd IAT Max                    0\n",
       " Bwd IAT Min                    0\n",
       "Fwd PSH Flags                   0\n",
       " Bwd PSH Flags                  0\n",
       " Fwd URG Flags                  0\n",
       " Bwd URG Flags                  0\n",
       " Fwd Header Length              0\n",
       " Bwd Header Length              0\n",
       "Fwd Packets/s                   0\n",
       " Bwd Packets/s                  0\n",
       " Min Packet Length              0\n",
       " Max Packet Length              0\n",
       " Packet Length Mean             0\n",
       " Packet Length Std              0\n",
       " Packet Length Variance         0\n",
       "FIN Flag Count                  0\n",
       " SYN Flag Count                 0\n",
       " RST Flag Count                 0\n",
       " PSH Flag Count                 0\n",
       " ACK Flag Count                 0\n",
       " URG Flag Count                 0\n",
       " CWE Flag Count                 0\n",
       " ECE Flag Count                 0\n",
       " Down/Up Ratio                  0\n",
       " Average Packet Size            0\n",
       " Avg Fwd Segment Size           0\n",
       " Avg Bwd Segment Size           0\n",
       " Fwd Header Length.1            0\n",
       "Fwd Avg Bytes/Bulk              0\n",
       " Fwd Avg Packets/Bulk           0\n",
       " Fwd Avg Bulk Rate              0\n",
       " Bwd Avg Bytes/Bulk             0\n",
       " Bwd Avg Packets/Bulk           0\n",
       "Bwd Avg Bulk Rate               0\n",
       "Subflow Fwd Packets             0\n",
       " Subflow Fwd Bytes              0\n",
       " Subflow Bwd Packets            0\n",
       " Subflow Bwd Bytes              0\n",
       "Init_Win_bytes_forward          0\n",
       " Init_Win_bytes_backward        0\n",
       " act_data_pkt_fwd               0\n",
       " min_seg_size_forward           0\n",
       "Active Mean                     0\n",
       " Active Std                     0\n",
       " Active Max                     0\n",
       " Active Min                     0\n",
       "Idle Mean                       0\n",
       " Idle Std                       0\n",
       " Idle Max                       0\n",
       " Idle Min                       0\n",
       " Inbound                        0\n",
       " Label                          0\n",
       "dtype: int64"
      ]
     },
     "execution_count": 67,
     "metadata": {},
     "output_type": "execute_result"
    }
   ],
   "source": [
    "all_df.isna().sum()"
   ]
  },
  {
   "cell_type": "markdown",
   "metadata": {},
   "source": [
    "### Assigning variables for Lasso Regression"
   ]
  },
  {
   "cell_type": "code",
   "execution_count": null,
   "metadata": {},
   "outputs": [],
   "source": []
  },
  {
   "cell_type": "code",
   "execution_count": 30,
   "metadata": {},
   "outputs": [],
   "source": [
    "# Shuffling rows \n",
    "all_df = all_df.sample(frac=1)"
   ]
  },
  {
   "cell_type": "code",
   "execution_count": 31,
   "metadata": {},
   "outputs": [],
   "source": [
    "# Defining my variables \n",
    "X = all_df.iloc[:,:-1]\n",
    "y = all_df.iloc[:,-1]"
   ]
  },
  {
   "cell_type": "code",
   "execution_count": 73,
   "metadata": {
    "collapsed": true,
    "jupyter": {
     "outputs_hidden": true
    }
   },
   "outputs": [
    {
     "data": {
      "text/plain": [
       "array([-6.00949837e-06,  6.23362650e-07, -0.00000000e+00,  7.53613434e-09,\n",
       "       -0.00000000e+00, -0.00000000e+00,  0.00000000e+00,  6.02315684e-05,\n",
       "        2.90659399e-03, -0.00000000e+00,  0.00000000e+00,  2.15180036e-02,\n",
       "       -0.00000000e+00, -0.00000000e+00, -0.00000000e+00, -0.00000000e+00,\n",
       "        2.80252354e-11, -1.65687549e-07, -4.67427189e-08,  2.66528428e-07,\n",
       "        2.50860933e-08, -6.33715941e-06, -9.79107932e-09,  3.14267150e-07,\n",
       "        2.59114996e-08, -2.25156720e-09,  5.95798213e-06, -3.44819218e-08,\n",
       "        1.15966153e-07, -1.51259203e-07,  8.36694387e-08, -0.00000000e+00,\n",
       "       -0.00000000e+00,  0.00000000e+00,  0.00000000e+00,  0.00000000e+00,\n",
       "        1.76070902e-11,  1.35740280e-09, -1.14423952e-07, -4.07269867e-06,\n",
       "       -0.00000000e+00,  0.00000000e+00,  0.00000000e+00,  0.00000000e+00,\n",
       "       -2.32282523e-05,  0.00000000e+00,  0.00000000e+00, -0.00000000e+00,\n",
       "        0.00000000e+00,  0.00000000e+00, -0.00000000e+00, -0.00000000e+00,\n",
       "        0.00000000e+00, -0.00000000e+00, -5.70520964e-03,  4.16213159e-03,\n",
       "       -0.00000000e+00, -9.33564608e-11,  0.00000000e+00,  0.00000000e+00,\n",
       "        0.00000000e+00,  0.00000000e+00,  0.00000000e+00,  0.00000000e+00,\n",
       "       -8.08220766e-07,  1.75860363e-04, -0.00000000e+00,  0.00000000e+00,\n",
       "        1.44261356e-04, -2.18226756e-04,  0.00000000e+00,  6.23468167e-10,\n",
       "       -5.77503285e-08,  0.00000000e+00,  1.07121152e-07, -7.34975946e-07,\n",
       "       -2.66670147e-07, -4.51380251e-08, -2.89611199e-08, -7.15130479e-10,\n",
       "        0.00000000e+00])"
      ]
     },
     "execution_count": 73,
     "metadata": {},
     "output_type": "execute_result"
    },
    {
     "name": "stdout",
     "output_type": "stream",
     "text": [
      "time: 3min 10s\n"
     ]
    },
    {
     "data": {
      "text/html": [
       "\n",
       "                <audio  controls=\"controls\" autoplay=\"autoplay\">\n",
       "                    <source src=\"data:audio/wav;base64,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\" type=\"audio/wav\" />\n",
       "                    Your browser does not support the audio element.\n",
       "                </audio>\n",
       "              "
      ],
      "text/plain": [
       "<IPython.lib.display.Audio object>"
      ]
     },
     "metadata": {},
     "output_type": "display_data"
    },
    {
     "data": {
      "text/html": [
       "<style>audio{display:none}</style>"
      ],
      "text/plain": [
       "<IPython.core.display.HTML object>"
      ]
     },
     "metadata": {},
     "output_type": "display_data"
    }
   ],
   "source": [
    "# Applying Lasso regression\n",
    "lasso_all_df = Lasso()\n",
    "lasso_all_df.fit(X,y)\n",
    "\n",
    "lasso_all_df.coef_"
   ]
  },
  {
   "cell_type": "code",
   "execution_count": 29,
   "metadata": {
    "collapsed": true,
    "jupyter": {
     "outputs_hidden": true
    }
   },
   "outputs": [
    {
     "ename": "NameError",
     "evalue": "name 'lasso_all_df' is not defined",
     "output_type": "error",
     "traceback": [
      "\u001b[0;31m---------------------------------------------------------------------------\u001b[0m",
      "\u001b[0;31mNameError\u001b[0m                                 Traceback (most recent call last)",
      "\u001b[0;32m<ipython-input-29-650ec44c39ad>\u001b[0m in \u001b[0;36m<module>\u001b[0;34m\u001b[0m\n\u001b[1;32m      1\u001b[0m \u001b[0;31m# Creating dataframe for lasso coeffs\u001b[0m\u001b[0;34m\u001b[0m\u001b[0;34m\u001b[0m\u001b[0;34m\u001b[0m\u001b[0m\n\u001b[0;32m----> 2\u001b[0;31m \u001b[0ma\u001b[0m \u001b[0;34m=\u001b[0m \u001b[0;34m[\u001b[0m\u001b[0mX\u001b[0m\u001b[0;34m.\u001b[0m\u001b[0mcolumns\u001b[0m\u001b[0;34m,\u001b[0m \u001b[0mlasso_all_df\u001b[0m\u001b[0;34m.\u001b[0m\u001b[0mcoef_\u001b[0m\u001b[0;34m]\u001b[0m\u001b[0;34m\u001b[0m\u001b[0;34m\u001b[0m\u001b[0m\n\u001b[0m\u001b[1;32m      3\u001b[0m \u001b[0mdf_lasso\u001b[0m \u001b[0;34m=\u001b[0m \u001b[0mpd\u001b[0m\u001b[0;34m.\u001b[0m\u001b[0mDataFrame\u001b[0m\u001b[0;34m(\u001b[0m\u001b[0ma\u001b[0m\u001b[0;34m)\u001b[0m\u001b[0;34m.\u001b[0m\u001b[0mT\u001b[0m\u001b[0;34m\u001b[0m\u001b[0;34m\u001b[0m\u001b[0m\n",
      "\u001b[0;31mNameError\u001b[0m: name 'lasso_all_df' is not defined"
     ]
    },
    {
     "name": "stdout",
     "output_type": "stream",
     "text": [
      "time: 183 ms\n"
     ]
    }
   ],
   "source": [
    "# Creating dataframe for lasso coeffs\n",
    "a = [X.columns, lasso_all_df.coef_]\n",
    "df_lasso = pd.DataFrame(a).T\n"
   ]
  },
  {
   "cell_type": "code",
   "execution_count": 47,
   "metadata": {
    "collapsed": true,
    "jupyter": {
     "outputs_hidden": true
    }
   },
   "outputs": [
    {
     "ename": "NameError",
     "evalue": "name 'df_lasso' is not defined",
     "output_type": "error",
     "traceback": [
      "\u001b[0;31m---------------------------------------------------------------------------\u001b[0m",
      "\u001b[0;31mNameError\u001b[0m                                 Traceback (most recent call last)",
      "\u001b[0;32m<ipython-input-47-d323c507c984>\u001b[0m in \u001b[0;36m<module>\u001b[0;34m\u001b[0m\n\u001b[1;32m      1\u001b[0m \u001b[0;31m# Renaming columns\u001b[0m\u001b[0;34m\u001b[0m\u001b[0;34m\u001b[0m\u001b[0;34m\u001b[0m\u001b[0m\n\u001b[0;32m----> 2\u001b[0;31m \u001b[0mdf_lasso\u001b[0m \u001b[0;34m=\u001b[0m \u001b[0mdf_lasso\u001b[0m\u001b[0;34m.\u001b[0m\u001b[0mrename\u001b[0m\u001b[0;34m(\u001b[0m\u001b[0mcolumns\u001b[0m\u001b[0;34m=\u001b[0m\u001b[0;34m{\u001b[0m\u001b[0;36m0\u001b[0m\u001b[0;34m:\u001b[0m\u001b[0;34m'variables'\u001b[0m\u001b[0;34m,\u001b[0m \u001b[0;36m1\u001b[0m\u001b[0;34m:\u001b[0m\u001b[0;34m'coeff'\u001b[0m\u001b[0;34m}\u001b[0m\u001b[0;34m)\u001b[0m\u001b[0;34m\u001b[0m\u001b[0;34m\u001b[0m\u001b[0m\n\u001b[0m",
      "\u001b[0;31mNameError\u001b[0m: name 'df_lasso' is not defined"
     ]
    },
    {
     "name": "stdout",
     "output_type": "stream",
     "text": [
      "time: 675 ms\n"
     ]
    }
   ],
   "source": [
    "# Renaming columns\n",
    "df_lasso = df_lasso.rename(columns={0:'variables', 1:'coeff'})"
   ]
  },
  {
   "cell_type": "code",
   "execution_count": 82,
   "metadata": {
    "collapsed": true,
    "jupyter": {
     "outputs_hidden": true
    }
   },
   "outputs": [
    {
     "data": {
      "text/html": [
       "<div>\n",
       "<style scoped>\n",
       "    .dataframe tbody tr th:only-of-type {\n",
       "        vertical-align: middle;\n",
       "    }\n",
       "\n",
       "    .dataframe tbody tr th {\n",
       "        vertical-align: top;\n",
       "    }\n",
       "\n",
       "    .dataframe thead th {\n",
       "        text-align: right;\n",
       "    }\n",
       "</style>\n",
       "<table border=\"1\" class=\"dataframe\">\n",
       "  <thead>\n",
       "    <tr style=\"text-align: right;\">\n",
       "      <th></th>\n",
       "      <th>variables</th>\n",
       "      <th>coeff</th>\n",
       "    </tr>\n",
       "  </thead>\n",
       "  <tbody>\n",
       "    <tr>\n",
       "      <td>11</td>\n",
       "      <td>Fwd Packet Length Std</td>\n",
       "      <td>0.021518</td>\n",
       "    </tr>\n",
       "    <tr>\n",
       "      <td>55</td>\n",
       "      <td>Avg Fwd Segment Size</td>\n",
       "      <td>0.00416213</td>\n",
       "    </tr>\n",
       "    <tr>\n",
       "      <td>8</td>\n",
       "      <td>Fwd Packet Length Max</td>\n",
       "      <td>0.00290659</td>\n",
       "    </tr>\n",
       "    <tr>\n",
       "      <td>65</td>\n",
       "      <td>Subflow Fwd Bytes</td>\n",
       "      <td>0.00017586</td>\n",
       "    </tr>\n",
       "    <tr>\n",
       "      <td>68</td>\n",
       "      <td>Init_Win_bytes_forward</td>\n",
       "      <td>0.000144261</td>\n",
       "    </tr>\n",
       "    <tr>\n",
       "      <td>7</td>\n",
       "      <td>Total Length of Bwd Packets</td>\n",
       "      <td>6.02316e-05</td>\n",
       "    </tr>\n",
       "    <tr>\n",
       "      <td>26</td>\n",
       "      <td>Fwd IAT Min</td>\n",
       "      <td>5.95798e-06</td>\n",
       "    </tr>\n",
       "    <tr>\n",
       "      <td>1</td>\n",
       "      <td>Destination Port</td>\n",
       "      <td>6.23363e-07</td>\n",
       "    </tr>\n",
       "    <tr>\n",
       "      <td>23</td>\n",
       "      <td>Fwd IAT Mean</td>\n",
       "      <td>3.14267e-07</td>\n",
       "    </tr>\n",
       "    <tr>\n",
       "      <td>19</td>\n",
       "      <td>Flow IAT Std</td>\n",
       "      <td>2.66528e-07</td>\n",
       "    </tr>\n",
       "    <tr>\n",
       "      <td>28</td>\n",
       "      <td>Bwd IAT Mean</td>\n",
       "      <td>1.15966e-07</td>\n",
       "    </tr>\n",
       "    <tr>\n",
       "      <td>74</td>\n",
       "      <td>Active Max</td>\n",
       "      <td>1.07121e-07</td>\n",
       "    </tr>\n",
       "    <tr>\n",
       "      <td>30</td>\n",
       "      <td>Bwd IAT Max</td>\n",
       "      <td>8.36694e-08</td>\n",
       "    </tr>\n",
       "    <tr>\n",
       "      <td>24</td>\n",
       "      <td>Fwd IAT Std</td>\n",
       "      <td>2.59115e-08</td>\n",
       "    </tr>\n",
       "    <tr>\n",
       "      <td>20</td>\n",
       "      <td>Flow IAT Max</td>\n",
       "      <td>2.50861e-08</td>\n",
       "    </tr>\n",
       "    <tr>\n",
       "      <td>3</td>\n",
       "      <td>Flow Duration</td>\n",
       "      <td>7.53613e-09</td>\n",
       "    </tr>\n",
       "    <tr>\n",
       "      <td>37</td>\n",
       "      <td>Bwd Header Length</td>\n",
       "      <td>1.3574e-09</td>\n",
       "    </tr>\n",
       "    <tr>\n",
       "      <td>71</td>\n",
       "      <td>min_seg_size_forward</td>\n",
       "      <td>6.23468e-10</td>\n",
       "    </tr>\n",
       "    <tr>\n",
       "      <td>16</td>\n",
       "      <td>Flow Bytes/s</td>\n",
       "      <td>2.80252e-11</td>\n",
       "    </tr>\n",
       "    <tr>\n",
       "      <td>36</td>\n",
       "      <td>Fwd Header Length</td>\n",
       "      <td>1.76071e-11</td>\n",
       "    </tr>\n",
       "    <tr>\n",
       "      <td>50</td>\n",
       "      <td>URG Flag Count</td>\n",
       "      <td>-0</td>\n",
       "    </tr>\n",
       "    <tr>\n",
       "      <td>51</td>\n",
       "      <td>CWE Flag Count</td>\n",
       "      <td>-0</td>\n",
       "    </tr>\n",
       "    <tr>\n",
       "      <td>52</td>\n",
       "      <td>ECE Flag Count</td>\n",
       "      <td>0</td>\n",
       "    </tr>\n",
       "    <tr>\n",
       "      <td>49</td>\n",
       "      <td>ACK Flag Count</td>\n",
       "      <td>0</td>\n",
       "    </tr>\n",
       "    <tr>\n",
       "      <td>48</td>\n",
       "      <td>PSH Flag Count</td>\n",
       "      <td>0</td>\n",
       "    </tr>\n",
       "    <tr>\n",
       "      <td>53</td>\n",
       "      <td>Down/Up Ratio</td>\n",
       "      <td>-0</td>\n",
       "    </tr>\n",
       "    <tr>\n",
       "      <td>47</td>\n",
       "      <td>RST Flag Count</td>\n",
       "      <td>-0</td>\n",
       "    </tr>\n",
       "    <tr>\n",
       "      <td>46</td>\n",
       "      <td>SYN Flag Count</td>\n",
       "      <td>0</td>\n",
       "    </tr>\n",
       "    <tr>\n",
       "      <td>40</td>\n",
       "      <td>Min Packet Length</td>\n",
       "      <td>-0</td>\n",
       "    </tr>\n",
       "    <tr>\n",
       "      <td>59</td>\n",
       "      <td>Fwd Avg Packets/Bulk</td>\n",
       "      <td>0</td>\n",
       "    </tr>\n",
       "    <tr>\n",
       "      <td>56</td>\n",
       "      <td>Avg Bwd Segment Size</td>\n",
       "      <td>-0</td>\n",
       "    </tr>\n",
       "    <tr>\n",
       "      <td>58</td>\n",
       "      <td>Fwd Avg Bytes/Bulk</td>\n",
       "      <td>0</td>\n",
       "    </tr>\n",
       "    <tr>\n",
       "      <td>43</td>\n",
       "      <td>Packet Length Std</td>\n",
       "      <td>0</td>\n",
       "    </tr>\n",
       "    <tr>\n",
       "      <td>60</td>\n",
       "      <td>Fwd Avg Bulk Rate</td>\n",
       "      <td>0</td>\n",
       "    </tr>\n",
       "    <tr>\n",
       "      <td>61</td>\n",
       "      <td>Bwd Avg Bytes/Bulk</td>\n",
       "      <td>0</td>\n",
       "    </tr>\n",
       "    <tr>\n",
       "      <td>62</td>\n",
       "      <td>Bwd Avg Packets/Bulk</td>\n",
       "      <td>0</td>\n",
       "    </tr>\n",
       "    <tr>\n",
       "      <td>63</td>\n",
       "      <td>Bwd Avg Bulk Rate</td>\n",
       "      <td>0</td>\n",
       "    </tr>\n",
       "    <tr>\n",
       "      <td>66</td>\n",
       "      <td>Subflow Bwd Packets</td>\n",
       "      <td>-0</td>\n",
       "    </tr>\n",
       "    <tr>\n",
       "      <td>67</td>\n",
       "      <td>Subflow Bwd Bytes</td>\n",
       "      <td>0</td>\n",
       "    </tr>\n",
       "    <tr>\n",
       "      <td>70</td>\n",
       "      <td>act_data_pkt_fwd</td>\n",
       "      <td>0</td>\n",
       "    </tr>\n",
       "    <tr>\n",
       "      <td>73</td>\n",
       "      <td>Active Std</td>\n",
       "      <td>0</td>\n",
       "    </tr>\n",
       "    <tr>\n",
       "      <td>45</td>\n",
       "      <td>FIN Flag Count</td>\n",
       "      <td>0</td>\n",
       "    </tr>\n",
       "    <tr>\n",
       "      <td>80</td>\n",
       "      <td>Inbound</td>\n",
       "      <td>0</td>\n",
       "    </tr>\n",
       "    <tr>\n",
       "      <td>42</td>\n",
       "      <td>Packet Length Mean</td>\n",
       "      <td>0</td>\n",
       "    </tr>\n",
       "    <tr>\n",
       "      <td>14</td>\n",
       "      <td>Bwd Packet Length Mean</td>\n",
       "      <td>-0</td>\n",
       "    </tr>\n",
       "    <tr>\n",
       "      <td>2</td>\n",
       "      <td>Protocol</td>\n",
       "      <td>-0</td>\n",
       "    </tr>\n",
       "    <tr>\n",
       "      <td>4</td>\n",
       "      <td>Total Fwd Packets</td>\n",
       "      <td>-0</td>\n",
       "    </tr>\n",
       "    <tr>\n",
       "      <td>5</td>\n",
       "      <td>Total Backward Packets</td>\n",
       "      <td>-0</td>\n",
       "    </tr>\n",
       "    <tr>\n",
       "      <td>6</td>\n",
       "      <td>Total Length of Fwd Packets</td>\n",
       "      <td>0</td>\n",
       "    </tr>\n",
       "    <tr>\n",
       "      <td>9</td>\n",
       "      <td>Fwd Packet Length Min</td>\n",
       "      <td>-0</td>\n",
       "    </tr>\n",
       "    <tr>\n",
       "      <td>10</td>\n",
       "      <td>Fwd Packet Length Mean</td>\n",
       "      <td>0</td>\n",
       "    </tr>\n",
       "    <tr>\n",
       "      <td>12</td>\n",
       "      <td>Bwd Packet Length Max</td>\n",
       "      <td>-0</td>\n",
       "    </tr>\n",
       "    <tr>\n",
       "      <td>13</td>\n",
       "      <td>Bwd Packet Length Min</td>\n",
       "      <td>-0</td>\n",
       "    </tr>\n",
       "    <tr>\n",
       "      <td>15</td>\n",
       "      <td>Bwd Packet Length Std</td>\n",
       "      <td>-0</td>\n",
       "    </tr>\n",
       "    <tr>\n",
       "      <td>33</td>\n",
       "      <td>Bwd PSH Flags</td>\n",
       "      <td>0</td>\n",
       "    </tr>\n",
       "    <tr>\n",
       "      <td>32</td>\n",
       "      <td>Fwd PSH Flags</td>\n",
       "      <td>-0</td>\n",
       "    </tr>\n",
       "    <tr>\n",
       "      <td>41</td>\n",
       "      <td>Max Packet Length</td>\n",
       "      <td>0</td>\n",
       "    </tr>\n",
       "    <tr>\n",
       "      <td>35</td>\n",
       "      <td>Bwd URG Flags</td>\n",
       "      <td>0</td>\n",
       "    </tr>\n",
       "    <tr>\n",
       "      <td>34</td>\n",
       "      <td>Fwd URG Flags</td>\n",
       "      <td>0</td>\n",
       "    </tr>\n",
       "    <tr>\n",
       "      <td>31</td>\n",
       "      <td>Bwd IAT Min</td>\n",
       "      <td>-0</td>\n",
       "    </tr>\n",
       "    <tr>\n",
       "      <td>57</td>\n",
       "      <td>Fwd Header Length.1</td>\n",
       "      <td>-9.33565e-11</td>\n",
       "    </tr>\n",
       "    <tr>\n",
       "      <td>79</td>\n",
       "      <td>Idle Min</td>\n",
       "      <td>-7.1513e-10</td>\n",
       "    </tr>\n",
       "    <tr>\n",
       "      <td>25</td>\n",
       "      <td>Fwd IAT Max</td>\n",
       "      <td>-2.25157e-09</td>\n",
       "    </tr>\n",
       "    <tr>\n",
       "      <td>22</td>\n",
       "      <td>Fwd IAT Total</td>\n",
       "      <td>-9.79108e-09</td>\n",
       "    </tr>\n",
       "    <tr>\n",
       "      <td>78</td>\n",
       "      <td>Idle Max</td>\n",
       "      <td>-2.89611e-08</td>\n",
       "    </tr>\n",
       "    <tr>\n",
       "      <td>27</td>\n",
       "      <td>Bwd IAT Total</td>\n",
       "      <td>-3.44819e-08</td>\n",
       "    </tr>\n",
       "    <tr>\n",
       "      <td>77</td>\n",
       "      <td>Idle Std</td>\n",
       "      <td>-4.5138e-08</td>\n",
       "    </tr>\n",
       "    <tr>\n",
       "      <td>18</td>\n",
       "      <td>Flow IAT Mean</td>\n",
       "      <td>-4.67427e-08</td>\n",
       "    </tr>\n",
       "    <tr>\n",
       "      <td>72</td>\n",
       "      <td>Active Mean</td>\n",
       "      <td>-5.77503e-08</td>\n",
       "    </tr>\n",
       "    <tr>\n",
       "      <td>38</td>\n",
       "      <td>Fwd Packets/s</td>\n",
       "      <td>-1.14424e-07</td>\n",
       "    </tr>\n",
       "    <tr>\n",
       "      <td>29</td>\n",
       "      <td>Bwd IAT Std</td>\n",
       "      <td>-1.51259e-07</td>\n",
       "    </tr>\n",
       "    <tr>\n",
       "      <td>17</td>\n",
       "      <td>Flow Packets/s</td>\n",
       "      <td>-1.65688e-07</td>\n",
       "    </tr>\n",
       "    <tr>\n",
       "      <td>76</td>\n",
       "      <td>Idle Mean</td>\n",
       "      <td>-2.6667e-07</td>\n",
       "    </tr>\n",
       "    <tr>\n",
       "      <td>75</td>\n",
       "      <td>Active Min</td>\n",
       "      <td>-7.34976e-07</td>\n",
       "    </tr>\n",
       "    <tr>\n",
       "      <td>64</td>\n",
       "      <td>Subflow Fwd Packets</td>\n",
       "      <td>-8.08221e-07</td>\n",
       "    </tr>\n",
       "    <tr>\n",
       "      <td>39</td>\n",
       "      <td>Bwd Packets/s</td>\n",
       "      <td>-4.0727e-06</td>\n",
       "    </tr>\n",
       "    <tr>\n",
       "      <td>0</td>\n",
       "      <td>Source Port</td>\n",
       "      <td>-6.0095e-06</td>\n",
       "    </tr>\n",
       "    <tr>\n",
       "      <td>21</td>\n",
       "      <td>Flow IAT Min</td>\n",
       "      <td>-6.33716e-06</td>\n",
       "    </tr>\n",
       "    <tr>\n",
       "      <td>44</td>\n",
       "      <td>Packet Length Variance</td>\n",
       "      <td>-2.32283e-05</td>\n",
       "    </tr>\n",
       "    <tr>\n",
       "      <td>69</td>\n",
       "      <td>Init_Win_bytes_backward</td>\n",
       "      <td>-0.000218227</td>\n",
       "    </tr>\n",
       "    <tr>\n",
       "      <td>54</td>\n",
       "      <td>Average Packet Size</td>\n",
       "      <td>-0.00570521</td>\n",
       "    </tr>\n",
       "  </tbody>\n",
       "</table>\n",
       "</div>"
      ],
      "text/plain": [
       "                       variables        coeff\n",
       "11         Fwd Packet Length Std     0.021518\n",
       "55          Avg Fwd Segment Size   0.00416213\n",
       "8          Fwd Packet Length Max   0.00290659\n",
       "65             Subflow Fwd Bytes   0.00017586\n",
       "68        Init_Win_bytes_forward  0.000144261\n",
       "7    Total Length of Bwd Packets  6.02316e-05\n",
       "26                   Fwd IAT Min  5.95798e-06\n",
       "1               Destination Port  6.23363e-07\n",
       "23                  Fwd IAT Mean  3.14267e-07\n",
       "19                  Flow IAT Std  2.66528e-07\n",
       "28                  Bwd IAT Mean  1.15966e-07\n",
       "74                    Active Max  1.07121e-07\n",
       "30                   Bwd IAT Max  8.36694e-08\n",
       "24                   Fwd IAT Std  2.59115e-08\n",
       "20                  Flow IAT Max  2.50861e-08\n",
       "3                  Flow Duration  7.53613e-09\n",
       "37             Bwd Header Length   1.3574e-09\n",
       "71          min_seg_size_forward  6.23468e-10\n",
       "16                  Flow Bytes/s  2.80252e-11\n",
       "36             Fwd Header Length  1.76071e-11\n",
       "50                URG Flag Count           -0\n",
       "51                CWE Flag Count           -0\n",
       "52                ECE Flag Count            0\n",
       "49                ACK Flag Count            0\n",
       "48                PSH Flag Count            0\n",
       "53                 Down/Up Ratio           -0\n",
       "47                RST Flag Count           -0\n",
       "46                SYN Flag Count            0\n",
       "40             Min Packet Length           -0\n",
       "59          Fwd Avg Packets/Bulk            0\n",
       "56          Avg Bwd Segment Size           -0\n",
       "58            Fwd Avg Bytes/Bulk            0\n",
       "43             Packet Length Std            0\n",
       "60             Fwd Avg Bulk Rate            0\n",
       "61            Bwd Avg Bytes/Bulk            0\n",
       "62          Bwd Avg Packets/Bulk            0\n",
       "63             Bwd Avg Bulk Rate            0\n",
       "66           Subflow Bwd Packets           -0\n",
       "67             Subflow Bwd Bytes            0\n",
       "70              act_data_pkt_fwd            0\n",
       "73                    Active Std            0\n",
       "45                FIN Flag Count            0\n",
       "80                       Inbound            0\n",
       "42            Packet Length Mean            0\n",
       "14        Bwd Packet Length Mean           -0\n",
       "2                       Protocol           -0\n",
       "4              Total Fwd Packets           -0\n",
       "5         Total Backward Packets           -0\n",
       "6    Total Length of Fwd Packets            0\n",
       "9          Fwd Packet Length Min           -0\n",
       "10        Fwd Packet Length Mean            0\n",
       "12         Bwd Packet Length Max           -0\n",
       "13         Bwd Packet Length Min           -0\n",
       "15         Bwd Packet Length Std           -0\n",
       "33                 Bwd PSH Flags            0\n",
       "32                 Fwd PSH Flags           -0\n",
       "41             Max Packet Length            0\n",
       "35                 Bwd URG Flags            0\n",
       "34                 Fwd URG Flags            0\n",
       "31                   Bwd IAT Min           -0\n",
       "57           Fwd Header Length.1 -9.33565e-11\n",
       "79                      Idle Min  -7.1513e-10\n",
       "25                   Fwd IAT Max -2.25157e-09\n",
       "22                 Fwd IAT Total -9.79108e-09\n",
       "78                      Idle Max -2.89611e-08\n",
       "27                 Bwd IAT Total -3.44819e-08\n",
       "77                      Idle Std  -4.5138e-08\n",
       "18                 Flow IAT Mean -4.67427e-08\n",
       "72                   Active Mean -5.77503e-08\n",
       "38                 Fwd Packets/s -1.14424e-07\n",
       "29                   Bwd IAT Std -1.51259e-07\n",
       "17                Flow Packets/s -1.65688e-07\n",
       "76                     Idle Mean  -2.6667e-07\n",
       "75                    Active Min -7.34976e-07\n",
       "64           Subflow Fwd Packets -8.08221e-07\n",
       "39                 Bwd Packets/s  -4.0727e-06\n",
       "0                    Source Port  -6.0095e-06\n",
       "21                  Flow IAT Min -6.33716e-06\n",
       "44        Packet Length Variance -2.32283e-05\n",
       "69       Init_Win_bytes_backward -0.000218227\n",
       "54           Average Packet Size  -0.00570521"
      ]
     },
     "execution_count": 82,
     "metadata": {},
     "output_type": "execute_result"
    },
    {
     "name": "stdout",
     "output_type": "stream",
     "text": [
      "time: 20.1 ms\n"
     ]
    }
   ],
   "source": [
    "# Sorting \n",
    "df_lasso.sort_values(by='coeff', ascending=False)"
   ]
  },
  {
   "cell_type": "code",
   "execution_count": 83,
   "metadata": {},
   "outputs": [
    {
     "name": "stdout",
     "output_type": "stream",
     "text": [
      "time: 8.06 ms\n"
     ]
    }
   ],
   "source": [
    "# Assignig zero coefficients \n",
    "zero_coeffs = df_lasso[df_lasso.coeff == 0]"
   ]
  },
  {
   "cell_type": "code",
   "execution_count": 84,
   "metadata": {},
   "outputs": [
    {
     "data": {
      "text/plain": [
       "array([' Protocol', ' Total Fwd Packets', ' Total Backward Packets',\n",
       "       'Total Length of Fwd Packets', ' Fwd Packet Length Min',\n",
       "       ' Fwd Packet Length Mean', 'Bwd Packet Length Max',\n",
       "       ' Bwd Packet Length Min', ' Bwd Packet Length Mean',\n",
       "       ' Bwd Packet Length Std', ' Bwd IAT Min', 'Fwd PSH Flags',\n",
       "       ' Bwd PSH Flags', ' Fwd URG Flags', ' Bwd URG Flags',\n",
       "       ' Min Packet Length', ' Max Packet Length', ' Packet Length Mean',\n",
       "       ' Packet Length Std', 'FIN Flag Count', ' SYN Flag Count',\n",
       "       ' RST Flag Count', ' PSH Flag Count', ' ACK Flag Count',\n",
       "       ' URG Flag Count', ' CWE Flag Count', ' ECE Flag Count',\n",
       "       ' Down/Up Ratio', ' Avg Bwd Segment Size', 'Fwd Avg Bytes/Bulk',\n",
       "       ' Fwd Avg Packets/Bulk', ' Fwd Avg Bulk Rate',\n",
       "       ' Bwd Avg Bytes/Bulk', ' Bwd Avg Packets/Bulk',\n",
       "       'Bwd Avg Bulk Rate', ' Subflow Bwd Packets', ' Subflow Bwd Bytes',\n",
       "       ' act_data_pkt_fwd', ' Active Std', ' Inbound'], dtype=object)"
      ]
     },
     "execution_count": 84,
     "metadata": {},
     "output_type": "execute_result"
    },
    {
     "name": "stdout",
     "output_type": "stream",
     "text": [
      "time: 2.97 ms\n"
     ]
    }
   ],
   "source": [
    "zero_coeffs['variables'].values"
   ]
  },
  {
   "cell_type": "code",
   "execution_count": 68,
   "metadata": {},
   "outputs": [],
   "source": [
    "# Dropping variables with zero coefficient\n",
    "all_df = all_df.drop(columns=[' Protocol', ' Total Fwd Packets', ' Total Backward Packets',\n",
    "       'Total Length of Fwd Packets', ' Fwd Packet Length Min',\n",
    "       ' Fwd Packet Length Mean', 'Bwd Packet Length Max',\n",
    "       ' Bwd Packet Length Min', ' Bwd Packet Length Mean',\n",
    "       ' Bwd Packet Length Std', ' Bwd IAT Min', 'Fwd PSH Flags',\n",
    "       ' Bwd PSH Flags', ' Fwd URG Flags', ' Bwd URG Flags',\n",
    "       ' Min Packet Length', ' Max Packet Length', ' Packet Length Mean',\n",
    "       ' Packet Length Std', 'FIN Flag Count', ' SYN Flag Count',\n",
    "       ' RST Flag Count', ' PSH Flag Count', ' ACK Flag Count',\n",
    "       ' URG Flag Count', ' CWE Flag Count', ' ECE Flag Count',\n",
    "       ' Down/Up Ratio', ' Avg Bwd Segment Size', 'Fwd Avg Bytes/Bulk',\n",
    "       ' Fwd Avg Packets/Bulk', ' Fwd Avg Bulk Rate',\n",
    "       ' Bwd Avg Bytes/Bulk', ' Bwd Avg Packets/Bulk',\n",
    "       'Bwd Avg Bulk Rate', ' Subflow Bwd Packets', ' Subflow Bwd Bytes',\n",
    "       ' act_data_pkt_fwd', ' Active Std', ' Inbound'])"
   ]
  },
  {
   "cell_type": "code",
   "execution_count": 33,
   "metadata": {},
   "outputs": [
    {
     "data": {
      "text/plain": [
       "(2386803, 42)"
      ]
     },
     "execution_count": 33,
     "metadata": {},
     "output_type": "execute_result"
    }
   ],
   "source": [
    "all_df.shape"
   ]
  },
  {
   "cell_type": "code",
   "execution_count": 92,
   "metadata": {},
   "outputs": [
    {
     "data": {
      "text/html": [
       "<div>\n",
       "<style scoped>\n",
       "    .dataframe tbody tr th:only-of-type {\n",
       "        vertical-align: middle;\n",
       "    }\n",
       "\n",
       "    .dataframe tbody tr th {\n",
       "        vertical-align: top;\n",
       "    }\n",
       "\n",
       "    .dataframe thead th {\n",
       "        text-align: right;\n",
       "    }\n",
       "</style>\n",
       "<table border=\"1\" class=\"dataframe\">\n",
       "  <thead>\n",
       "    <tr style=\"text-align: right;\">\n",
       "      <th></th>\n",
       "      <th>variables</th>\n",
       "      <th>coeff</th>\n",
       "      <th>coeff_abs</th>\n",
       "    </tr>\n",
       "  </thead>\n",
       "  <tbody>\n",
       "    <tr>\n",
       "      <td>11</td>\n",
       "      <td>Fwd Packet Length Std</td>\n",
       "      <td>0.021518</td>\n",
       "      <td>0.021518</td>\n",
       "    </tr>\n",
       "    <tr>\n",
       "      <td>54</td>\n",
       "      <td>Average Packet Size</td>\n",
       "      <td>-0.00570521</td>\n",
       "      <td>0.00570521</td>\n",
       "    </tr>\n",
       "    <tr>\n",
       "      <td>55</td>\n",
       "      <td>Avg Fwd Segment Size</td>\n",
       "      <td>0.00416213</td>\n",
       "      <td>0.00416213</td>\n",
       "    </tr>\n",
       "    <tr>\n",
       "      <td>8</td>\n",
       "      <td>Fwd Packet Length Max</td>\n",
       "      <td>0.00290659</td>\n",
       "      <td>0.00290659</td>\n",
       "    </tr>\n",
       "    <tr>\n",
       "      <td>69</td>\n",
       "      <td>Init_Win_bytes_backward</td>\n",
       "      <td>-0.000218227</td>\n",
       "      <td>0.000218227</td>\n",
       "    </tr>\n",
       "  </tbody>\n",
       "</table>\n",
       "</div>"
      ],
      "text/plain": [
       "                   variables        coeff    coeff_abs\n",
       "11     Fwd Packet Length Std     0.021518     0.021518\n",
       "54       Average Packet Size  -0.00570521   0.00570521\n",
       "55      Avg Fwd Segment Size   0.00416213   0.00416213\n",
       "8      Fwd Packet Length Max   0.00290659   0.00290659\n",
       "69   Init_Win_bytes_backward -0.000218227  0.000218227"
      ]
     },
     "execution_count": 92,
     "metadata": {},
     "output_type": "execute_result"
    },
    {
     "name": "stdout",
     "output_type": "stream",
     "text": [
      "time: 8.97 ms\n"
     ]
    }
   ],
   "source": [
    "# Finding top coefficients \n",
    "df_lasso = df_lasso.sort_values(by=\"coeff_abs\", ascending=False)\n",
    "df_lasso.head(5)"
   ]
  },
  {
   "cell_type": "code",
   "execution_count": 19,
   "metadata": {},
   "outputs": [
    {
     "data": {
      "text/plain": [
       "Counter({1: 723606, 3: 654930, 5: 501542, 2: 348773, 4: 220841, 0: 1262})"
      ]
     },
     "execution_count": 19,
     "metadata": {},
     "output_type": "execute_result"
    }
   ],
   "source": [
    "from collections import Counter\n",
    "# Counting y\n",
    "Counter(y_train)"
   ]
  },
  {
   "cell_type": "code",
   "execution_count": 70,
   "metadata": {},
   "outputs": [],
   "source": [
    "# Generating a csv file for easy access to cleaned data\n",
    "all_df.to_csv('/Users/karlamuller/my_notebooks/mydata/all_dfclean.csv')"
   ]
  },
  {
   "cell_type": "code",
   "execution_count": 71,
   "metadata": {},
   "outputs": [
    {
     "data": {
      "text/html": [
       "<div>\n",
       "<style scoped>\n",
       "    .dataframe tbody tr th:only-of-type {\n",
       "        vertical-align: middle;\n",
       "    }\n",
       "\n",
       "    .dataframe tbody tr th {\n",
       "        vertical-align: top;\n",
       "    }\n",
       "\n",
       "    .dataframe thead th {\n",
       "        text-align: right;\n",
       "    }\n",
       "</style>\n",
       "<table border=\"1\" class=\"dataframe\">\n",
       "  <thead>\n",
       "    <tr style=\"text-align: right;\">\n",
       "      <th></th>\n",
       "      <th>Source Port</th>\n",
       "      <th>Destination Port</th>\n",
       "      <th>Flow Duration</th>\n",
       "      <th>Total Length of Bwd Packets</th>\n",
       "      <th>Fwd Packet Length Max</th>\n",
       "      <th>Fwd Packet Length Std</th>\n",
       "      <th>Flow Bytes/s</th>\n",
       "      <th>Flow Packets/s</th>\n",
       "      <th>Flow IAT Mean</th>\n",
       "      <th>Flow IAT Std</th>\n",
       "      <th>...</th>\n",
       "      <th>Init_Win_bytes_backward</th>\n",
       "      <th>min_seg_size_forward</th>\n",
       "      <th>Active Mean</th>\n",
       "      <th>Active Max</th>\n",
       "      <th>Active Min</th>\n",
       "      <th>Idle Mean</th>\n",
       "      <th>Idle Std</th>\n",
       "      <th>Idle Max</th>\n",
       "      <th>Idle Min</th>\n",
       "      <th>Label</th>\n",
       "    </tr>\n",
       "  </thead>\n",
       "  <tbody>\n",
       "    <tr>\n",
       "      <td>0</td>\n",
       "      <td>47827</td>\n",
       "      <td>47090</td>\n",
       "      <td>981829</td>\n",
       "      <td>0.0</td>\n",
       "      <td>401.0</td>\n",
       "      <td>30.127623</td>\n",
       "      <td>47827.0</td>\n",
       "      <td>2.037015e+01</td>\n",
       "      <td>51675.210526</td>\n",
       "      <td>55996.987620</td>\n",
       "      <td>...</td>\n",
       "      <td>-1</td>\n",
       "      <td>0</td>\n",
       "      <td>0.0</td>\n",
       "      <td>0.0</td>\n",
       "      <td>0.0</td>\n",
       "      <td>0.0</td>\n",
       "      <td>0.0</td>\n",
       "      <td>0.0</td>\n",
       "      <td>0.0</td>\n",
       "      <td>5</td>\n",
       "    </tr>\n",
       "    <tr>\n",
       "      <td>1</td>\n",
       "      <td>50388</td>\n",
       "      <td>43249</td>\n",
       "      <td>218355</td>\n",
       "      <td>0.0</td>\n",
       "      <td>393.0</td>\n",
       "      <td>35.088460</td>\n",
       "      <td>50388.0</td>\n",
       "      <td>2.747819e+01</td>\n",
       "      <td>43671.000000</td>\n",
       "      <td>59800.359932</td>\n",
       "      <td>...</td>\n",
       "      <td>-1</td>\n",
       "      <td>20</td>\n",
       "      <td>0.0</td>\n",
       "      <td>0.0</td>\n",
       "      <td>0.0</td>\n",
       "      <td>0.0</td>\n",
       "      <td>0.0</td>\n",
       "      <td>0.0</td>\n",
       "      <td>0.0</td>\n",
       "      <td>5</td>\n",
       "    </tr>\n",
       "    <tr>\n",
       "      <td>2</td>\n",
       "      <td>598</td>\n",
       "      <td>23283</td>\n",
       "      <td>2</td>\n",
       "      <td>0.0</td>\n",
       "      <td>1472.0</td>\n",
       "      <td>0.000000</td>\n",
       "      <td>598.0</td>\n",
       "      <td>1.000000e+06</td>\n",
       "      <td>2.000000</td>\n",
       "      <td>0.000000</td>\n",
       "      <td>...</td>\n",
       "      <td>-1</td>\n",
       "      <td>1473</td>\n",
       "      <td>0.0</td>\n",
       "      <td>0.0</td>\n",
       "      <td>0.0</td>\n",
       "      <td>0.0</td>\n",
       "      <td>0.0</td>\n",
       "      <td>0.0</td>\n",
       "      <td>0.0</td>\n",
       "      <td>2</td>\n",
       "    </tr>\n",
       "    <tr>\n",
       "      <td>3</td>\n",
       "      <td>664</td>\n",
       "      <td>25980</td>\n",
       "      <td>1</td>\n",
       "      <td>0.0</td>\n",
       "      <td>1472.0</td>\n",
       "      <td>0.000000</td>\n",
       "      <td>664.0</td>\n",
       "      <td>2.000000e+06</td>\n",
       "      <td>1.000000</td>\n",
       "      <td>0.000000</td>\n",
       "      <td>...</td>\n",
       "      <td>-1</td>\n",
       "      <td>0</td>\n",
       "      <td>0.0</td>\n",
       "      <td>0.0</td>\n",
       "      <td>0.0</td>\n",
       "      <td>0.0</td>\n",
       "      <td>0.0</td>\n",
       "      <td>0.0</td>\n",
       "      <td>0.0</td>\n",
       "      <td>2</td>\n",
       "    </tr>\n",
       "    <tr>\n",
       "      <td>4</td>\n",
       "      <td>574</td>\n",
       "      <td>13836</td>\n",
       "      <td>1</td>\n",
       "      <td>0.0</td>\n",
       "      <td>229.0</td>\n",
       "      <td>0.000000</td>\n",
       "      <td>574.0</td>\n",
       "      <td>2.000000e+06</td>\n",
       "      <td>1.000000</td>\n",
       "      <td>0.000000</td>\n",
       "      <td>...</td>\n",
       "      <td>-1</td>\n",
       "      <td>0</td>\n",
       "      <td>0.0</td>\n",
       "      <td>0.0</td>\n",
       "      <td>0.0</td>\n",
       "      <td>0.0</td>\n",
       "      <td>0.0</td>\n",
       "      <td>0.0</td>\n",
       "      <td>0.0</td>\n",
       "      <td>3</td>\n",
       "    </tr>\n",
       "  </tbody>\n",
       "</table>\n",
       "<p>5 rows × 42 columns</p>\n",
       "</div>"
      ],
      "text/plain": [
       "    Source Port   Destination Port   Flow Duration  \\\n",
       "0         47827              47090          981829   \n",
       "1         50388              43249          218355   \n",
       "2           598              23283               2   \n",
       "3           664              25980               1   \n",
       "4           574              13836               1   \n",
       "\n",
       "    Total Length of Bwd Packets   Fwd Packet Length Max  \\\n",
       "0                           0.0                   401.0   \n",
       "1                           0.0                   393.0   \n",
       "2                           0.0                  1472.0   \n",
       "3                           0.0                  1472.0   \n",
       "4                           0.0                   229.0   \n",
       "\n",
       "    Fwd Packet Length Std  Flow Bytes/s   Flow Packets/s   Flow IAT Mean  \\\n",
       "0               30.127623       47827.0     2.037015e+01    51675.210526   \n",
       "1               35.088460       50388.0     2.747819e+01    43671.000000   \n",
       "2                0.000000         598.0     1.000000e+06        2.000000   \n",
       "3                0.000000         664.0     2.000000e+06        1.000000   \n",
       "4                0.000000         574.0     2.000000e+06        1.000000   \n",
       "\n",
       "    Flow IAT Std  ...   Init_Win_bytes_backward   min_seg_size_forward  \\\n",
       "0   55996.987620  ...                        -1                      0   \n",
       "1   59800.359932  ...                        -1                     20   \n",
       "2       0.000000  ...                        -1                   1473   \n",
       "3       0.000000  ...                        -1                      0   \n",
       "4       0.000000  ...                        -1                      0   \n",
       "\n",
       "   Active Mean   Active Max   Active Min  Idle Mean   Idle Std   Idle Max  \\\n",
       "0          0.0          0.0          0.0        0.0        0.0        0.0   \n",
       "1          0.0          0.0          0.0        0.0        0.0        0.0   \n",
       "2          0.0          0.0          0.0        0.0        0.0        0.0   \n",
       "3          0.0          0.0          0.0        0.0        0.0        0.0   \n",
       "4          0.0          0.0          0.0        0.0        0.0        0.0   \n",
       "\n",
       "    Idle Min   Label  \n",
       "0        0.0       5  \n",
       "1        0.0       5  \n",
       "2        0.0       2  \n",
       "3        0.0       2  \n",
       "4        0.0       3  \n",
       "\n",
       "[5 rows x 42 columns]"
      ]
     },
     "execution_count": 71,
     "metadata": {},
     "output_type": "execute_result"
    }
   ],
   "source": [
    "all_df.head()"
   ]
  },
  {
   "cell_type": "code",
   "execution_count": null,
   "metadata": {},
   "outputs": [],
   "source": []
  }
 ],
 "metadata": {
  "kernelspec": {
   "display_name": "Python 3",
   "language": "python",
   "name": "python3"
  },
  "language_info": {
   "codemirror_mode": {
    "name": "ipython",
    "version": 3
   },
   "file_extension": ".py",
   "mimetype": "text/x-python",
   "name": "python",
   "nbconvert_exporter": "python",
   "pygments_lexer": "ipython3",
   "version": "3.7.4"
  }
 },
 "nbformat": 4,
 "nbformat_minor": 4
}
