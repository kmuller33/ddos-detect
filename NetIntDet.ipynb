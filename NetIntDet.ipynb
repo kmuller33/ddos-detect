{
 "cells": [
  {
   "cell_type": "markdown",
   "metadata": {},
   "source": [
    "# DDoS Network Intrusion Detection and Classification"
   ]
  },
  {
   "cell_type": "code",
   "execution_count": 1,
   "metadata": {},
   "outputs": [],
   "source": [
    "import warnings\n",
    "warnings.filterwarnings(\"ignore\")"
   ]
  },
  {
   "cell_type": "code",
   "execution_count": 2,
   "metadata": {},
   "outputs": [],
   "source": [
    "import numpy as np\n",
    "import pandas as pd\n",
    "import matplotlib.pyplot as plt\n",
    "%matplotlib inline\n",
    "from scipy import stats\n",
    "import statsmodels.api as sm\n",
    "from sklearn.linear_model import LogisticRegression\n",
    "from sklearn.metrics import classification_report\n",
    "from sklearn.linear_model import Lasso\n",
    "from sklearn.metrics import precision_score\n",
    "from sklearn.metrics import recall_score\n",
    "from sklearn.metrics import confusion_matrix\n",
    "from sklearn.metrics import roc_curve, roc_auc_score\n",
    "from sklearn.model_selection import cross_val_score\n",
    "from sklearn.metrics import accuracy_score"
   ]
  },
  {
   "cell_type": "code",
   "execution_count": 3,
   "metadata": {},
   "outputs": [
    {
     "data": {
      "text/plain": [
       "'/Users/karlamuller/my_notebooks'"
      ]
     },
     "execution_count": 3,
     "metadata": {},
     "output_type": "execute_result"
    }
   ],
   "source": [
    "pwd"
   ]
  },
  {
   "cell_type": "code",
   "execution_count": 4,
   "metadata": {},
   "outputs": [
    {
     "data": {
      "text/html": [
       "<style>audio{display:none}</style>"
      ],
      "text/plain": [
       "<IPython.core.display.HTML object>"
      ]
     },
     "metadata": {},
     "output_type": "display_data"
    }
   ],
   "source": [
    "# This extension for sound notification and cell completion time\n",
    "get_ipython().magic('load_ext cellevents')"
   ]
  },
  {
   "cell_type": "code",
   "execution_count": null,
   "metadata": {},
   "outputs": [],
   "source": [
    "# Loading data for MSSQL, LDAP, NetBIOS, Syn and UDP attacks \n",
    "df_mssql = pd.read_csv('mydata/01-12/DrDoS_MSSQL.csv')\n",
    "df_ldap = pd.read_csv('mydata/01-12/DrDoS_LDAP.csv')\n",
    "df_netbios = pd.read_csv('mydata/01-12/DrDoS_NetBIOS.csv')\n",
    "df_syn = pd.read_csv('mydata/01-12/Syn.csv')\n",
    "df_udp = pd.read_csv('mydata/01-12/DrDoS_UDP.csv')"
   ]
  },
  {
   "cell_type": "markdown",
   "metadata": {},
   "source": [
    "## Loading dataframe with all attacks"
   ]
  },
  {
   "cell_type": "code",
   "execution_count": null,
   "metadata": {},
   "outputs": [],
   "source": []
  },
  {
   "cell_type": "code",
   "execution_count": 226,
   "metadata": {},
   "outputs": [
    {
     "name": "stdout",
     "output_type": "stream",
     "text": [
      "time: 23.3 s\n"
     ]
    }
   ],
   "source": [
    "df = pd.read_csv('mydata/all_df2.csv')"
   ]
  },
  {
   "cell_type": "code",
   "execution_count": 227,
   "metadata": {},
   "outputs": [
    {
     "name": "stdout",
     "output_type": "stream",
     "text": [
      "time: 3.06 s\n"
     ]
    }
   ],
   "source": [
    "all_df = df.copy()"
   ]
  },
  {
   "cell_type": "markdown",
   "metadata": {},
   "source": [
    "### EDA"
   ]
  },
  {
   "cell_type": "code",
   "execution_count": null,
   "metadata": {},
   "outputs": [],
   "source": []
  },
  {
   "cell_type": "code",
   "execution_count": 228,
   "metadata": {},
   "outputs": [
    {
     "data": {
      "text/html": [
       "<div>\n",
       "<style scoped>\n",
       "    .dataframe tbody tr th:only-of-type {\n",
       "        vertical-align: middle;\n",
       "    }\n",
       "\n",
       "    .dataframe tbody tr th {\n",
       "        vertical-align: top;\n",
       "    }\n",
       "\n",
       "    .dataframe thead th {\n",
       "        text-align: right;\n",
       "    }\n",
       "</style>\n",
       "<table border=\"1\" class=\"dataframe\">\n",
       "  <thead>\n",
       "    <tr style=\"text-align: right;\">\n",
       "      <th></th>\n",
       "      <th>Unnamed: 0</th>\n",
       "      <th>Unnamed: 0.1</th>\n",
       "      <th>Flow ID</th>\n",
       "      <th>Source IP</th>\n",
       "      <th>Source Port</th>\n",
       "      <th>Destination IP</th>\n",
       "      <th>Destination Port</th>\n",
       "      <th>Protocol</th>\n",
       "      <th>Timestamp</th>\n",
       "      <th>Flow Duration</th>\n",
       "      <th>...</th>\n",
       "      <th>Active Std</th>\n",
       "      <th>Active Max</th>\n",
       "      <th>Active Min</th>\n",
       "      <th>Idle Mean</th>\n",
       "      <th>Idle Std</th>\n",
       "      <th>Idle Max</th>\n",
       "      <th>Idle Min</th>\n",
       "      <th>SimillarHTTP</th>\n",
       "      <th>Inbound</th>\n",
       "      <th>Label</th>\n",
       "    </tr>\n",
       "  </thead>\n",
       "  <tbody>\n",
       "    <tr>\n",
       "      <td>0</td>\n",
       "      <td>2141543</td>\n",
       "      <td>7652</td>\n",
       "      <td>172.16.0.5-192.168.50.1-47827-47090-17</td>\n",
       "      <td>172.16.0.5</td>\n",
       "      <td>47827</td>\n",
       "      <td>192.168.50.1</td>\n",
       "      <td>47090</td>\n",
       "      <td>17</td>\n",
       "      <td>2018-12-01 13:04:42.030242</td>\n",
       "      <td>981829</td>\n",
       "      <td>...</td>\n",
       "      <td>0.0</td>\n",
       "      <td>0.0</td>\n",
       "      <td>0.0</td>\n",
       "      <td>0.0</td>\n",
       "      <td>0.0</td>\n",
       "      <td>0.0</td>\n",
       "      <td>0.0</td>\n",
       "      <td>0</td>\n",
       "      <td>1</td>\n",
       "      <td>DrDoS_UDP</td>\n",
       "    </tr>\n",
       "    <tr>\n",
       "      <td>1</td>\n",
       "      <td>1833555</td>\n",
       "      <td>16041</td>\n",
       "      <td>172.16.0.5-192.168.50.1-50388-43249-17</td>\n",
       "      <td>172.16.0.5</td>\n",
       "      <td>50388</td>\n",
       "      <td>192.168.50.1</td>\n",
       "      <td>43249</td>\n",
       "      <td>17</td>\n",
       "      <td>2018-12-01 12:59:00.749867</td>\n",
       "      <td>218355</td>\n",
       "      <td>...</td>\n",
       "      <td>0.0</td>\n",
       "      <td>0.0</td>\n",
       "      <td>0.0</td>\n",
       "      <td>0.0</td>\n",
       "      <td>0.0</td>\n",
       "      <td>0.0</td>\n",
       "      <td>0.0</td>\n",
       "      <td>0</td>\n",
       "      <td>1</td>\n",
       "      <td>DrDoS_UDP</td>\n",
       "    </tr>\n",
       "  </tbody>\n",
       "</table>\n",
       "<p>2 rows × 89 columns</p>\n",
       "</div>"
      ],
      "text/plain": [
       "   Unnamed: 0  Unnamed: 0.1                                 Flow ID  \\\n",
       "0     2141543          7652  172.16.0.5-192.168.50.1-47827-47090-17   \n",
       "1     1833555         16041  172.16.0.5-192.168.50.1-50388-43249-17   \n",
       "\n",
       "    Source IP   Source Port  Destination IP   Destination Port   Protocol  \\\n",
       "0  172.16.0.5         47827    192.168.50.1              47090         17   \n",
       "1  172.16.0.5         50388    192.168.50.1              43249         17   \n",
       "\n",
       "                    Timestamp   Flow Duration  ...   Active Std   Active Max  \\\n",
       "0  2018-12-01 13:04:42.030242          981829  ...          0.0          0.0   \n",
       "1  2018-12-01 12:59:00.749867          218355  ...          0.0          0.0   \n",
       "\n",
       "    Active Min  Idle Mean   Idle Std   Idle Max   Idle Min  SimillarHTTP  \\\n",
       "0          0.0        0.0        0.0        0.0        0.0             0   \n",
       "1          0.0        0.0        0.0        0.0        0.0             0   \n",
       "\n",
       "    Inbound      Label  \n",
       "0         1  DrDoS_UDP  \n",
       "1         1  DrDoS_UDP  \n",
       "\n",
       "[2 rows x 89 columns]"
      ]
     },
     "execution_count": 228,
     "metadata": {},
     "output_type": "execute_result"
    },
    {
     "name": "stdout",
     "output_type": "stream",
     "text": [
      "time: 112 ms\n"
     ]
    }
   ],
   "source": [
    "all_df.head(2)"
   ]
  },
  {
   "cell_type": "code",
   "execution_count": 229,
   "metadata": {},
   "outputs": [
    {
     "data": {
      "text/plain": [
       "(2386803, 89)"
      ]
     },
     "execution_count": 229,
     "metadata": {},
     "output_type": "execute_result"
    },
    {
     "name": "stdout",
     "output_type": "stream",
     "text": [
      "time: 9.45 ms\n"
     ]
    }
   ],
   "source": [
    "all_df.shape"
   ]
  },
  {
   "cell_type": "code",
   "execution_count": 230,
   "metadata": {},
   "outputs": [
    {
     "name": "stdout",
     "output_type": "stream",
     "text": [
      "time: 117 ms\n"
     ]
    }
   ],
   "source": [
    "# Classification labels for dependent variable \n",
    "classes_names = all_df[' Label'].unique()"
   ]
  },
  {
   "cell_type": "code",
   "execution_count": 231,
   "metadata": {},
   "outputs": [
    {
     "name": "stdout",
     "output_type": "stream",
     "text": [
      "time: 3.5 s\n"
     ]
    }
   ],
   "source": [
    "# Assigning numeric values for classification variable \n",
    "all_df = all_df.replace({' Label': {'DrDoS_MSSQL':1, 'DrDoS_LDAP':2, 'DrDoS_NetBIOS':3, 'Syn':4,\n",
    "       'DrDoS_UDP':5, 'BENIGN':0}})"
   ]
  },
  {
   "cell_type": "code",
   "execution_count": 232,
   "metadata": {},
   "outputs": [
    {
     "name": "stdout",
     "output_type": "stream",
     "text": [
      "time: 5.87 ms\n"
     ]
    }
   ],
   "source": [
    "# Converting to type int\n",
    "all_df[' Label'].astype(int)\n",
    "pd.set_option('display.min_rows', None)"
   ]
  },
  {
   "cell_type": "code",
   "execution_count": 233,
   "metadata": {},
   "outputs": [
    {
     "name": "stdout",
     "output_type": "stream",
     "text": [
      "time: 10.1 s\n"
     ]
    }
   ],
   "source": [
    "# Shuffling rows \n",
    "all_df = all_df.sample(frac=1)"
   ]
  },
  {
   "cell_type": "code",
   "execution_count": 234,
   "metadata": {},
   "outputs": [
    {
     "data": {
      "text/plain": [
       "3    818656\n",
       "5    626929\n",
       "2    435986\n",
       "4    316458\n",
       "1    180900\n",
       "0      7874\n",
       "Name:  Label, dtype: int64"
      ]
     },
     "execution_count": 234,
     "metadata": {},
     "output_type": "execute_result"
    },
    {
     "name": "stdout",
     "output_type": "stream",
     "text": [
      "time: 63 ms\n"
     ]
    }
   ],
   "source": [
    "# Checking unbalance\n",
    "all_df[' Label'].value_counts()"
   ]
  },
  {
   "cell_type": "code",
   "execution_count": 235,
   "metadata": {},
   "outputs": [
    {
     "data": {
      "text/plain": [
       "Unnamed: 0                        int64\n",
       "Unnamed: 0.1                      int64\n",
       "Flow ID                          object\n",
       " Source IP                       object\n",
       " Source Port                      int64\n",
       " Destination IP                  object\n",
       " Destination Port                 int64\n",
       " Protocol                         int64\n",
       " Timestamp                       object\n",
       " Flow Duration                    int64\n",
       " Total Fwd Packets                int64\n",
       " Total Backward Packets           int64\n",
       "Total Length of Fwd Packets     float64\n",
       " Total Length of Bwd Packets    float64\n",
       " Fwd Packet Length Max          float64\n",
       " Fwd Packet Length Min          float64\n",
       " Fwd Packet Length Mean         float64\n",
       " Fwd Packet Length Std          float64\n",
       "Bwd Packet Length Max           float64\n",
       " Bwd Packet Length Min          float64\n",
       " Bwd Packet Length Mean         float64\n",
       " Bwd Packet Length Std          float64\n",
       "Flow Bytes/s                     object\n",
       " Flow Packets/s                  object\n",
       " Flow IAT Mean                  float64\n",
       " Flow IAT Std                   float64\n",
       " Flow IAT Max                   float64\n",
       " Flow IAT Min                   float64\n",
       "Fwd IAT Total                   float64\n",
       " Fwd IAT Mean                   float64\n",
       " Fwd IAT Std                    float64\n",
       " Fwd IAT Max                    float64\n",
       " Fwd IAT Min                    float64\n",
       "Bwd IAT Total                   float64\n",
       " Bwd IAT Mean                   float64\n",
       " Bwd IAT Std                    float64\n",
       " Bwd IAT Max                    float64\n",
       " Bwd IAT Min                    float64\n",
       "Fwd PSH Flags                     int64\n",
       " Bwd PSH Flags                    int64\n",
       " Fwd URG Flags                    int64\n",
       " Bwd URG Flags                    int64\n",
       " Fwd Header Length                int64\n",
       " Bwd Header Length                int64\n",
       "Fwd Packets/s                   float64\n",
       " Bwd Packets/s                  float64\n",
       " Min Packet Length              float64\n",
       " Max Packet Length              float64\n",
       " Packet Length Mean             float64\n",
       " Packet Length Std              float64\n",
       " Packet Length Variance         float64\n",
       "FIN Flag Count                    int64\n",
       " SYN Flag Count                   int64\n",
       " RST Flag Count                   int64\n",
       " PSH Flag Count                   int64\n",
       " ACK Flag Count                   int64\n",
       " URG Flag Count                   int64\n",
       " CWE Flag Count                   int64\n",
       " ECE Flag Count                   int64\n",
       " Down/Up Ratio                  float64\n",
       " Average Packet Size            float64\n",
       " Avg Fwd Segment Size           float64\n",
       " Avg Bwd Segment Size           float64\n",
       " Fwd Header Length.1              int64\n",
       "Fwd Avg Bytes/Bulk                int64\n",
       " Fwd Avg Packets/Bulk             int64\n",
       " Fwd Avg Bulk Rate                int64\n",
       " Bwd Avg Bytes/Bulk               int64\n",
       " Bwd Avg Packets/Bulk             int64\n",
       "Bwd Avg Bulk Rate                 int64\n",
       "Subflow Fwd Packets               int64\n",
       " Subflow Fwd Bytes                int64\n",
       " Subflow Bwd Packets              int64\n",
       " Subflow Bwd Bytes                int64\n",
       "Init_Win_bytes_forward            int64\n",
       " Init_Win_bytes_backward          int64\n",
       " act_data_pkt_fwd                 int64\n",
       " min_seg_size_forward             int64\n",
       "Active Mean                     float64\n",
       " Active Std                     float64\n",
       " Active Max                     float64\n",
       " Active Min                     float64\n",
       "Idle Mean                       float64\n",
       " Idle Std                       float64\n",
       " Idle Max                       float64\n",
       " Idle Min                       float64\n",
       "SimillarHTTP                     object\n",
       " Inbound                          int64\n",
       " Label                            int64\n",
       "dtype: object"
      ]
     },
     "execution_count": 235,
     "metadata": {},
     "output_type": "execute_result"
    },
    {
     "name": "stdout",
     "output_type": "stream",
     "text": [
      "time: 8.65 ms\n"
     ]
    }
   ],
   "source": [
    "# Finding variables datatypes\n",
    "pd.set_option('display.max_rows', None)\n",
    "all_df.dtypes"
   ]
  },
  {
   "cell_type": "code",
   "execution_count": 236,
   "metadata": {},
   "outputs": [
    {
     "name": "stdout",
     "output_type": "stream",
     "text": [
      "time: 2.86 s\n"
     ]
    }
   ],
   "source": [
    "# Dropping non numeric identifiers \n",
    "all_df = all_df.drop(columns=['Unnamed: 0','Unnamed: 0.1','Flow ID', ' Source IP', ' Timestamp',\n",
    "       ' Destination IP', 'SimillarHTTP'])"
   ]
  },
  {
   "cell_type": "code",
   "execution_count": 237,
   "metadata": {},
   "outputs": [
    {
     "name": "stdout",
     "output_type": "stream",
     "text": [
      "time: 938 ms\n"
     ]
    }
   ],
   "source": [
    "# Converting flow packets to float (was object)\n",
    "all_df[' Flow Packets/s']= all_df[' Flow Packets/s'].astype(float)\n",
    "\n",
    "# Converting flow bytes to float (was object)\n",
    "all_df['Flow Bytes/s']= all_df['Flow Bytes/s'].astype(float)"
   ]
  },
  {
   "cell_type": "code",
   "execution_count": 238,
   "metadata": {},
   "outputs": [
    {
     "data": {
      "text/plain": [
       "inf"
      ]
     },
     "execution_count": 238,
     "metadata": {},
     "output_type": "execute_result"
    },
    {
     "name": "stdout",
     "output_type": "stream",
     "text": [
      "time: 35.8 ms\n"
     ]
    }
   ],
   "source": [
    "# Maximum value \n",
    "all_df[' Flow Packets/s'].max()"
   ]
  },
  {
   "cell_type": "code",
   "execution_count": 239,
   "metadata": {},
   "outputs": [
    {
     "data": {
      "text/plain": [
       "87146"
      ]
     },
     "execution_count": 239,
     "metadata": {},
     "output_type": "execute_result"
    },
    {
     "name": "stdout",
     "output_type": "stream",
     "text": [
      "time: 32.9 ms\n"
     ]
    }
   ],
   "source": [
    "# Number of infinity values \n",
    "all_df[' Flow Packets/s'].loc[all_df[' Flow Packets/s'] == np.inf].count()"
   ]
  },
  {
   "cell_type": "code",
   "execution_count": 240,
   "metadata": {},
   "outputs": [
    {
     "data": {
      "text/plain": [
       "inf"
      ]
     },
     "execution_count": 240,
     "metadata": {},
     "output_type": "execute_result"
    },
    {
     "name": "stdout",
     "output_type": "stream",
     "text": [
      "time: 22 ms\n"
     ]
    }
   ],
   "source": [
    "# Maximum value \n",
    "all_df['Flow Bytes/s'].max()"
   ]
  },
  {
   "cell_type": "code",
   "execution_count": 241,
   "metadata": {},
   "outputs": [
    {
     "data": {
      "text/plain": [
       "46848"
      ]
     },
     "execution_count": 241,
     "metadata": {},
     "output_type": "execute_result"
    },
    {
     "name": "stdout",
     "output_type": "stream",
     "text": [
      "time: 7.35 ms\n"
     ]
    }
   ],
   "source": [
    "# Number of infinity values \n",
    "all_df['Flow Bytes/s'].loc[all_df['Flow Bytes/s'] == np.inf].count()"
   ]
  },
  {
   "cell_type": "code",
   "execution_count": 242,
   "metadata": {},
   "outputs": [
    {
     "data": {
      "text/plain": [
       "0"
      ]
     },
     "execution_count": 242,
     "metadata": {},
     "output_type": "execute_result"
    },
    {
     "name": "stdout",
     "output_type": "stream",
     "text": [
      "time: 9.51 ms\n"
     ]
    }
   ],
   "source": [
    "# Finding nans\n",
    "all_df[' Flow Packets/s'].isna().sum()"
   ]
  },
  {
   "cell_type": "code",
   "execution_count": 244,
   "metadata": {},
   "outputs": [
    {
     "name": "stdout",
     "output_type": "stream",
     "text": [
      "time: 46.9 ms\n"
     ]
    }
   ],
   "source": [
    "# Finding max value thats not infinity and assigning it to inf\n",
    "max_bytes = all_df.loc[all_df['Flow Bytes/s'] != np.inf, 'Flow Bytes/s'].max()\n",
    "all_df['Flow Bytes/s'].replace(np.inf,max_bytes,inplace=True)"
   ]
  },
  {
   "cell_type": "code",
   "execution_count": 245,
   "metadata": {},
   "outputs": [
    {
     "name": "stdout",
     "output_type": "stream",
     "text": [
      "time: 34.5 ms\n"
     ]
    }
   ],
   "source": [
    "# Finding max value thats not infinity and assigning it to inf\n",
    "max_packets = all_df.loc[all_df[' Flow Packets/s'] != np.inf, ' Flow Packets/s'].max()\n",
    "all_df[' Flow Packets/s'].replace(np.inf,max_packets,inplace=True)"
   ]
  },
  {
   "cell_type": "code",
   "execution_count": 246,
   "metadata": {},
   "outputs": [
    {
     "data": {
      "text/plain": [
       "40298"
      ]
     },
     "execution_count": 246,
     "metadata": {},
     "output_type": "execute_result"
    },
    {
     "name": "stdout",
     "output_type": "stream",
     "text": [
      "time: 6.7 ms\n"
     ]
    }
   ],
   "source": [
    "# Finding nans\n",
    "all_df['Flow Bytes/s'].isna().sum()"
   ]
  },
  {
   "cell_type": "code",
   "execution_count": 247,
   "metadata": {
    "collapsed": true,
    "jupyter": {
     "outputs_hidden": true
    }
   },
   "outputs": [
    {
     "data": {
      "text/plain": [
       " Source Port                        0\n",
       " Destination Port                   0\n",
       " Protocol                           0\n",
       " Flow Duration                      0\n",
       " Total Fwd Packets                  0\n",
       " Total Backward Packets             0\n",
       "Total Length of Fwd Packets         0\n",
       " Total Length of Bwd Packets        0\n",
       " Fwd Packet Length Max              0\n",
       " Fwd Packet Length Min              0\n",
       " Fwd Packet Length Mean             0\n",
       " Fwd Packet Length Std              0\n",
       "Bwd Packet Length Max               0\n",
       " Bwd Packet Length Min              0\n",
       " Bwd Packet Length Mean             0\n",
       " Bwd Packet Length Std              0\n",
       "Flow Bytes/s                    40298\n",
       " Flow Packets/s                     0\n",
       " Flow IAT Mean                      0\n",
       " Flow IAT Std                       0\n",
       " Flow IAT Max                       0\n",
       " Flow IAT Min                       0\n",
       "Fwd IAT Total                       0\n",
       " Fwd IAT Mean                       0\n",
       " Fwd IAT Std                        0\n",
       " Fwd IAT Max                        0\n",
       " Fwd IAT Min                        0\n",
       "Bwd IAT Total                       0\n",
       " Bwd IAT Mean                       0\n",
       " Bwd IAT Std                        0\n",
       " Bwd IAT Max                        0\n",
       " Bwd IAT Min                        0\n",
       "Fwd PSH Flags                       0\n",
       " Bwd PSH Flags                      0\n",
       " Fwd URG Flags                      0\n",
       " Bwd URG Flags                      0\n",
       " Fwd Header Length                  0\n",
       " Bwd Header Length                  0\n",
       "Fwd Packets/s                       0\n",
       " Bwd Packets/s                      0\n",
       " Min Packet Length                  0\n",
       " Max Packet Length                  0\n",
       " Packet Length Mean                 0\n",
       " Packet Length Std                  0\n",
       " Packet Length Variance             0\n",
       "FIN Flag Count                      0\n",
       " SYN Flag Count                     0\n",
       " RST Flag Count                     0\n",
       " PSH Flag Count                     0\n",
       " ACK Flag Count                     0\n",
       " URG Flag Count                     0\n",
       " CWE Flag Count                     0\n",
       " ECE Flag Count                     0\n",
       " Down/Up Ratio                      0\n",
       " Average Packet Size                0\n",
       " Avg Fwd Segment Size               0\n",
       " Avg Bwd Segment Size               0\n",
       " Fwd Header Length.1                0\n",
       "Fwd Avg Bytes/Bulk                  0\n",
       " Fwd Avg Packets/Bulk               0\n",
       " Fwd Avg Bulk Rate                  0\n",
       " Bwd Avg Bytes/Bulk                 0\n",
       " Bwd Avg Packets/Bulk               0\n",
       "Bwd Avg Bulk Rate                   0\n",
       "Subflow Fwd Packets                 0\n",
       " Subflow Fwd Bytes                  0\n",
       " Subflow Bwd Packets                0\n",
       " Subflow Bwd Bytes                  0\n",
       "Init_Win_bytes_forward              0\n",
       " Init_Win_bytes_backward            0\n",
       " act_data_pkt_fwd                   0\n",
       " min_seg_size_forward               0\n",
       "Active Mean                         0\n",
       " Active Std                         0\n",
       " Active Max                         0\n",
       " Active Min                         0\n",
       "Idle Mean                           0\n",
       " Idle Std                           0\n",
       " Idle Max                           0\n",
       " Idle Min                           0\n",
       " Inbound                            0\n",
       " Label                              0\n",
       "dtype: int64"
      ]
     },
     "execution_count": 247,
     "metadata": {},
     "output_type": "execute_result"
    },
    {
     "name": "stdout",
     "output_type": "stream",
     "text": [
      "time: 1.61 s\n"
     ]
    }
   ],
   "source": [
    "# 'Flow Bytes/s' has all of dfs nans\n",
    "pd.set_option('display.max_rows', None)\n",
    "all_df.isna().sum()"
   ]
  },
  {
   "cell_type": "code",
   "execution_count": 248,
   "metadata": {},
   "outputs": [
    {
     "data": {
      "text/plain": [
       "count    2.346505e+06\n",
       "mean     7.623327e+08\n",
       "std      9.627836e+08\n",
       "min      0.000000e+00\n",
       "25%      1.380144e+04\n",
       "50%      4.580000e+08\n",
       "75%      8.160000e+08\n",
       "max      2.944000e+09\n",
       "Name: Flow Bytes/s, dtype: float64"
      ]
     },
     "execution_count": 248,
     "metadata": {},
     "output_type": "execute_result"
    },
    {
     "name": "stdout",
     "output_type": "stream",
     "text": [
      "time: 136 ms\n"
     ]
    }
   ],
   "source": [
    "# 'Flow Bytes/s' quick stats\n",
    "all_df['Flow Bytes/s'].describe()"
   ]
  },
  {
   "cell_type": "code",
   "execution_count": 249,
   "metadata": {},
   "outputs": [
    {
     "data": {
      "image/png": "[encoded data removed]",
      "text/plain": [
       "<Figure size 432x288 with 1 Axes>"
      ]
     },
     "metadata": {
      "needs_background": "light"
     },
     "output_type": "display_data"
    },
    {
     "name": "stdout",
     "output_type": "stream",
     "text": [
      "time: 568 ms\n"
     ]
    }
   ],
   "source": [
    "# 'Flow Bytes/s' distribution\n",
    "plt.figure()\n",
    "plt.hist(all_df['Flow Bytes/s'], bins=20)\n",
    "plt.title('Flow Bytes/s Distribution')\n",
    "plt.show()"
   ]
  },
  {
   "cell_type": "code",
   "execution_count": 250,
   "metadata": {},
   "outputs": [
    {
     "data": {
      "text/plain": [
       " Label\n",
       "0       32\n",
       "1        1\n",
       "2        0\n",
       "3        1\n",
       "4    40264\n",
       "5        0\n",
       "Name: Flow Bytes/s, dtype: int64"
      ]
     },
     "execution_count": 250,
     "metadata": {},
     "output_type": "execute_result"
    },
    {
     "name": "stdout",
     "output_type": "stream",
     "text": [
      "time: 2.38 s\n"
     ]
    }
   ],
   "source": [
    "# Which class has null values\n",
    "g = all_df.groupby(' Label')\n",
    "g = g.count().rsub(g.size(), axis=0)\n",
    "g['Flow Bytes/s']"
   ]
  },
  {
   "cell_type": "code",
   "execution_count": 251,
   "metadata": {},
   "outputs": [
    {
     "name": "stdout",
     "output_type": "stream",
     "text": [
      "time: 3min 35s\n"
     ]
    },
    {
     "data": {
      "text/html": [
       "\n",
       "                <audio  controls=\"controls\" autoplay=\"autoplay\">\n",
       "                    <source src=\"data:audio/wav;base64,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\" type=\"audio/wav\" />\n",
       "                    Your browser does not support the audio element.\n",
       "                </audio>\n",
       "              "
      ],
      "text/plain": [
       "<IPython.lib.display.Audio object>"
      ]
     },
     "metadata": {},
     "output_type": "display_data"
    },
    {
     "data": {
      "text/html": [
       "<style>audio{display:none}</style>"
      ],
      "text/plain": [
       "<IPython.core.display.HTML object>"
      ]
     },
     "metadata": {},
     "output_type": "display_data"
    }
   ],
   "source": [
    "# This takes a bit\n",
    "# Filling nans with medians of each class\n",
    "all_df['Flow Bytes/s'] = all_df.groupby(\" Label\").transform(lambda x: x.fillna(x.median()))"
   ]
  },
  {
   "cell_type": "code",
   "execution_count": 253,
   "metadata": {},
   "outputs": [
    {
     "data": {
      "text/plain": [
       "0"
      ]
     },
     "execution_count": 253,
     "metadata": {},
     "output_type": "execute_result"
    },
    {
     "name": "stdout",
     "output_type": "stream",
     "text": [
      "time: 6.15 ms\n"
     ]
    }
   ],
   "source": [
    "# Finding nans\n",
    "all_df['Flow Bytes/s'].isna().sum()"
   ]
  },
  {
   "cell_type": "code",
   "execution_count": null,
   "metadata": {},
   "outputs": [],
   "source": []
  },
  {
   "cell_type": "markdown",
   "metadata": {},
   "source": [
    "### Defining variables"
   ]
  },
  {
   "cell_type": "code",
   "execution_count": null,
   "metadata": {},
   "outputs": [],
   "source": []
  },
  {
   "cell_type": "code",
   "execution_count": 255,
   "metadata": {},
   "outputs": [
    {
     "name": "stdout",
     "output_type": "stream",
     "text": [
      "time: 2.52 s\n"
     ]
    }
   ],
   "source": [
    "# Defining vaariables \n",
    "X = all_df.iloc[:,:-1]\n",
    "y = all_df.iloc[:,-1]"
   ]
  },
  {
   "cell_type": "code",
   "execution_count": 188,
   "metadata": {
    "collapsed": true,
    "jupyter": {
     "outputs_hidden": true
    }
   },
   "outputs": [
    {
     "data": {
      "text/plain": [
       "array([-1.35800177e-05,  6.91145465e-07, -0.00000000e+00, -1.81658544e-09,\n",
       "       -0.00000000e+00, -0.00000000e+00,  0.00000000e+00, -0.00000000e+00,\n",
       "        2.79192329e-03, -0.00000000e+00,  0.00000000e+00,  2.25948944e-02,\n",
       "       -0.00000000e+00, -0.00000000e+00, -0.00000000e+00, -0.00000000e+00,\n",
       "        7.65340166e-06, -1.17549891e-07, -3.54779040e-08,  2.51586440e-07,\n",
       "        9.87639062e-09, -5.45740878e-07, -9.53267909e-10,  3.30382024e-07,\n",
       "        3.70462029e-08,  9.07164473e-09,  0.00000000e+00, -3.22977195e-08,\n",
       "        1.65163355e-07, -1.64829966e-07,  7.31088257e-08, -0.00000000e+00,\n",
       "       -0.00000000e+00,  0.00000000e+00,  0.00000000e+00,  0.00000000e+00,\n",
       "        2.18691128e-11,  1.38661417e-09, -1.46424798e-07, -4.21676103e-06,\n",
       "       -0.00000000e+00,  0.00000000e+00,  0.00000000e+00,  0.00000000e+00,\n",
       "       -1.79015347e-05,  0.00000000e+00,  0.00000000e+00, -0.00000000e+00,\n",
       "        0.00000000e+00,  0.00000000e+00, -0.00000000e+00, -0.00000000e+00,\n",
       "        0.00000000e+00, -0.00000000e+00, -5.45161304e-03,  3.93032295e-03,\n",
       "       -0.00000000e+00, -1.03927117e-10,  0.00000000e+00,  0.00000000e+00,\n",
       "        0.00000000e+00,  0.00000000e+00,  0.00000000e+00,  0.00000000e+00,\n",
       "       -0.00000000e+00,  1.79727977e-04, -0.00000000e+00, -0.00000000e+00,\n",
       "        1.46134159e-04, -2.03487924e-04,  0.00000000e+00,  6.37073573e-10,\n",
       "        4.30257759e-07,  1.75403130e-07, -4.34813582e-08, -2.24305551e-07,\n",
       "       -2.71525155e-07, -5.51574850e-08, -2.18151180e-08, -5.35098458e-09,\n",
       "        0.00000000e+00])"
      ]
     },
     "execution_count": 188,
     "metadata": {},
     "output_type": "execute_result"
    },
    {
     "name": "stdout",
     "output_type": "stream",
     "text": [
      "time: 3min 23s\n"
     ]
    },
    {
     "data": {
      "text/html": [
       "\n",
       "                <audio  controls=\"controls\" autoplay=\"autoplay\">\n",
       "                    <source src=\"data:audio/wav;base64,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\" type=\"audio/wav\" />\n",
       "                    Your browser does not support the audio element.\n",
       "                </audio>\n",
       "              "
      ],
      "text/plain": [
       "<IPython.lib.display.Audio object>"
      ]
     },
     "metadata": {},
     "output_type": "display_data"
    },
    {
     "data": {
      "text/html": [
       "<style>audio{display:none}</style>"
      ],
      "text/plain": [
       "<IPython.core.display.HTML object>"
      ]
     },
     "metadata": {},
     "output_type": "display_data"
    }
   ],
   "source": [
    "# This takes a bit to run\n",
    "# Applying Lasso regression\n",
    "lasso_all_df = Lasso()\n",
    "lasso_all_df.fit(X,y)\n",
    "\n",
    "lasso_all_df.coef_"
   ]
  },
  {
   "cell_type": "code",
   "execution_count": 189,
   "metadata": {},
   "outputs": [
    {
     "name": "stdout",
     "output_type": "stream",
     "text": [
      "time: 93 ms\n"
     ]
    }
   ],
   "source": [
    "# Creating dataframe for lasso coeffs\n",
    "a = [X.columns, lasso_all_df.coef_]\n",
    "df_lasso = pd.DataFrame(a).T"
   ]
  },
  {
   "cell_type": "code",
   "execution_count": 190,
   "metadata": {},
   "outputs": [
    {
     "name": "stdout",
     "output_type": "stream",
     "text": [
      "time: 10.5 ms\n"
     ]
    }
   ],
   "source": [
    "# Renaming columns\n",
    "df_lasso = df_lasso.rename(columns={0:'variables', 1:'coeff'})"
   ]
  },
  {
   "cell_type": "code",
   "execution_count": 191,
   "metadata": {
    "collapsed": true,
    "jupyter": {
     "outputs_hidden": true
    }
   },
   "outputs": [
    {
     "data": {
      "text/html": [
       "<div>\n",
       "<style scoped>\n",
       "    .dataframe tbody tr th:only-of-type {\n",
       "        vertical-align: middle;\n",
       "    }\n",
       "\n",
       "    .dataframe tbody tr th {\n",
       "        vertical-align: top;\n",
       "    }\n",
       "\n",
       "    .dataframe thead th {\n",
       "        text-align: right;\n",
       "    }\n",
       "</style>\n",
       "<table border=\"1\" class=\"dataframe\">\n",
       "  <thead>\n",
       "    <tr style=\"text-align: right;\">\n",
       "      <th></th>\n",
       "      <th>variables</th>\n",
       "      <th>coeff</th>\n",
       "    </tr>\n",
       "  </thead>\n",
       "  <tbody>\n",
       "    <tr>\n",
       "      <td>11</td>\n",
       "      <td>Fwd Packet Length Std</td>\n",
       "      <td>0.0225949</td>\n",
       "    </tr>\n",
       "    <tr>\n",
       "      <td>55</td>\n",
       "      <td>Avg Fwd Segment Size</td>\n",
       "      <td>0.00393032</td>\n",
       "    </tr>\n",
       "    <tr>\n",
       "      <td>8</td>\n",
       "      <td>Fwd Packet Length Max</td>\n",
       "      <td>0.00279192</td>\n",
       "    </tr>\n",
       "    <tr>\n",
       "      <td>65</td>\n",
       "      <td>Subflow Fwd Bytes</td>\n",
       "      <td>0.000179728</td>\n",
       "    </tr>\n",
       "    <tr>\n",
       "      <td>68</td>\n",
       "      <td>Init_Win_bytes_forward</td>\n",
       "      <td>0.000146134</td>\n",
       "    </tr>\n",
       "    <tr>\n",
       "      <td>16</td>\n",
       "      <td>Flow Bytes/s</td>\n",
       "      <td>7.6534e-06</td>\n",
       "    </tr>\n",
       "    <tr>\n",
       "      <td>1</td>\n",
       "      <td>Destination Port</td>\n",
       "      <td>6.91145e-07</td>\n",
       "    </tr>\n",
       "    <tr>\n",
       "      <td>72</td>\n",
       "      <td>Active Mean</td>\n",
       "      <td>4.30258e-07</td>\n",
       "    </tr>\n",
       "    <tr>\n",
       "      <td>23</td>\n",
       "      <td>Fwd IAT Mean</td>\n",
       "      <td>3.30382e-07</td>\n",
       "    </tr>\n",
       "    <tr>\n",
       "      <td>19</td>\n",
       "      <td>Flow IAT Std</td>\n",
       "      <td>2.51586e-07</td>\n",
       "    </tr>\n",
       "    <tr>\n",
       "      <td>73</td>\n",
       "      <td>Active Std</td>\n",
       "      <td>1.75403e-07</td>\n",
       "    </tr>\n",
       "    <tr>\n",
       "      <td>28</td>\n",
       "      <td>Bwd IAT Mean</td>\n",
       "      <td>1.65163e-07</td>\n",
       "    </tr>\n",
       "    <tr>\n",
       "      <td>30</td>\n",
       "      <td>Bwd IAT Max</td>\n",
       "      <td>7.31088e-08</td>\n",
       "    </tr>\n",
       "    <tr>\n",
       "      <td>24</td>\n",
       "      <td>Fwd IAT Std</td>\n",
       "      <td>3.70462e-08</td>\n",
       "    </tr>\n",
       "    <tr>\n",
       "      <td>20</td>\n",
       "      <td>Flow IAT Max</td>\n",
       "      <td>9.87639e-09</td>\n",
       "    </tr>\n",
       "    <tr>\n",
       "      <td>25</td>\n",
       "      <td>Fwd IAT Max</td>\n",
       "      <td>9.07164e-09</td>\n",
       "    </tr>\n",
       "    <tr>\n",
       "      <td>37</td>\n",
       "      <td>Bwd Header Length</td>\n",
       "      <td>1.38661e-09</td>\n",
       "    </tr>\n",
       "    <tr>\n",
       "      <td>71</td>\n",
       "      <td>min_seg_size_forward</td>\n",
       "      <td>6.37074e-10</td>\n",
       "    </tr>\n",
       "    <tr>\n",
       "      <td>36</td>\n",
       "      <td>Fwd Header Length</td>\n",
       "      <td>2.18691e-11</td>\n",
       "    </tr>\n",
       "    <tr>\n",
       "      <td>51</td>\n",
       "      <td>CWE Flag Count</td>\n",
       "      <td>-0</td>\n",
       "    </tr>\n",
       "    <tr>\n",
       "      <td>40</td>\n",
       "      <td>Min Packet Length</td>\n",
       "      <td>-0</td>\n",
       "    </tr>\n",
       "    <tr>\n",
       "      <td>47</td>\n",
       "      <td>RST Flag Count</td>\n",
       "      <td>-0</td>\n",
       "    </tr>\n",
       "    <tr>\n",
       "      <td>50</td>\n",
       "      <td>URG Flag Count</td>\n",
       "      <td>-0</td>\n",
       "    </tr>\n",
       "    <tr>\n",
       "      <td>49</td>\n",
       "      <td>ACK Flag Count</td>\n",
       "      <td>0</td>\n",
       "    </tr>\n",
       "    <tr>\n",
       "      <td>48</td>\n",
       "      <td>PSH Flag Count</td>\n",
       "      <td>0</td>\n",
       "    </tr>\n",
       "    <tr>\n",
       "      <td>46</td>\n",
       "      <td>SYN Flag Count</td>\n",
       "      <td>0</td>\n",
       "    </tr>\n",
       "    <tr>\n",
       "      <td>45</td>\n",
       "      <td>FIN Flag Count</td>\n",
       "      <td>0</td>\n",
       "    </tr>\n",
       "    <tr>\n",
       "      <td>52</td>\n",
       "      <td>ECE Flag Count</td>\n",
       "      <td>0</td>\n",
       "    </tr>\n",
       "    <tr>\n",
       "      <td>58</td>\n",
       "      <td>Fwd Avg Bytes/Bulk</td>\n",
       "      <td>0</td>\n",
       "    </tr>\n",
       "    <tr>\n",
       "      <td>53</td>\n",
       "      <td>Down/Up Ratio</td>\n",
       "      <td>-0</td>\n",
       "    </tr>\n",
       "    <tr>\n",
       "      <td>56</td>\n",
       "      <td>Avg Bwd Segment Size</td>\n",
       "      <td>-0</td>\n",
       "    </tr>\n",
       "    <tr>\n",
       "      <td>42</td>\n",
       "      <td>Packet Length Mean</td>\n",
       "      <td>0</td>\n",
       "    </tr>\n",
       "    <tr>\n",
       "      <td>59</td>\n",
       "      <td>Fwd Avg Packets/Bulk</td>\n",
       "      <td>0</td>\n",
       "    </tr>\n",
       "    <tr>\n",
       "      <td>60</td>\n",
       "      <td>Fwd Avg Bulk Rate</td>\n",
       "      <td>0</td>\n",
       "    </tr>\n",
       "    <tr>\n",
       "      <td>61</td>\n",
       "      <td>Bwd Avg Bytes/Bulk</td>\n",
       "      <td>0</td>\n",
       "    </tr>\n",
       "    <tr>\n",
       "      <td>62</td>\n",
       "      <td>Bwd Avg Packets/Bulk</td>\n",
       "      <td>0</td>\n",
       "    </tr>\n",
       "    <tr>\n",
       "      <td>63</td>\n",
       "      <td>Bwd Avg Bulk Rate</td>\n",
       "      <td>0</td>\n",
       "    </tr>\n",
       "    <tr>\n",
       "      <td>64</td>\n",
       "      <td>Subflow Fwd Packets</td>\n",
       "      <td>-0</td>\n",
       "    </tr>\n",
       "    <tr>\n",
       "      <td>66</td>\n",
       "      <td>Subflow Bwd Packets</td>\n",
       "      <td>-0</td>\n",
       "    </tr>\n",
       "    <tr>\n",
       "      <td>67</td>\n",
       "      <td>Subflow Bwd Bytes</td>\n",
       "      <td>-0</td>\n",
       "    </tr>\n",
       "    <tr>\n",
       "      <td>70</td>\n",
       "      <td>act_data_pkt_fwd</td>\n",
       "      <td>0</td>\n",
       "    </tr>\n",
       "    <tr>\n",
       "      <td>43</td>\n",
       "      <td>Packet Length Std</td>\n",
       "      <td>0</td>\n",
       "    </tr>\n",
       "    <tr>\n",
       "      <td>80</td>\n",
       "      <td>Inbound</td>\n",
       "      <td>0</td>\n",
       "    </tr>\n",
       "    <tr>\n",
       "      <td>41</td>\n",
       "      <td>Max Packet Length</td>\n",
       "      <td>0</td>\n",
       "    </tr>\n",
       "    <tr>\n",
       "      <td>26</td>\n",
       "      <td>Fwd IAT Min</td>\n",
       "      <td>0</td>\n",
       "    </tr>\n",
       "    <tr>\n",
       "      <td>2</td>\n",
       "      <td>Protocol</td>\n",
       "      <td>-0</td>\n",
       "    </tr>\n",
       "    <tr>\n",
       "      <td>4</td>\n",
       "      <td>Total Fwd Packets</td>\n",
       "      <td>-0</td>\n",
       "    </tr>\n",
       "    <tr>\n",
       "      <td>5</td>\n",
       "      <td>Total Backward Packets</td>\n",
       "      <td>-0</td>\n",
       "    </tr>\n",
       "    <tr>\n",
       "      <td>6</td>\n",
       "      <td>Total Length of Fwd Packets</td>\n",
       "      <td>0</td>\n",
       "    </tr>\n",
       "    <tr>\n",
       "      <td>7</td>\n",
       "      <td>Total Length of Bwd Packets</td>\n",
       "      <td>-0</td>\n",
       "    </tr>\n",
       "    <tr>\n",
       "      <td>9</td>\n",
       "      <td>Fwd Packet Length Min</td>\n",
       "      <td>-0</td>\n",
       "    </tr>\n",
       "    <tr>\n",
       "      <td>10</td>\n",
       "      <td>Fwd Packet Length Mean</td>\n",
       "      <td>0</td>\n",
       "    </tr>\n",
       "    <tr>\n",
       "      <td>12</td>\n",
       "      <td>Bwd Packet Length Max</td>\n",
       "      <td>-0</td>\n",
       "    </tr>\n",
       "    <tr>\n",
       "      <td>13</td>\n",
       "      <td>Bwd Packet Length Min</td>\n",
       "      <td>-0</td>\n",
       "    </tr>\n",
       "    <tr>\n",
       "      <td>15</td>\n",
       "      <td>Bwd Packet Length Std</td>\n",
       "      <td>-0</td>\n",
       "    </tr>\n",
       "    <tr>\n",
       "      <td>14</td>\n",
       "      <td>Bwd Packet Length Mean</td>\n",
       "      <td>-0</td>\n",
       "    </tr>\n",
       "    <tr>\n",
       "      <td>34</td>\n",
       "      <td>Fwd URG Flags</td>\n",
       "      <td>0</td>\n",
       "    </tr>\n",
       "    <tr>\n",
       "      <td>31</td>\n",
       "      <td>Bwd IAT Min</td>\n",
       "      <td>-0</td>\n",
       "    </tr>\n",
       "    <tr>\n",
       "      <td>35</td>\n",
       "      <td>Bwd URG Flags</td>\n",
       "      <td>0</td>\n",
       "    </tr>\n",
       "    <tr>\n",
       "      <td>33</td>\n",
       "      <td>Bwd PSH Flags</td>\n",
       "      <td>0</td>\n",
       "    </tr>\n",
       "    <tr>\n",
       "      <td>32</td>\n",
       "      <td>Fwd PSH Flags</td>\n",
       "      <td>-0</td>\n",
       "    </tr>\n",
       "    <tr>\n",
       "      <td>57</td>\n",
       "      <td>Fwd Header Length.1</td>\n",
       "      <td>-1.03927e-10</td>\n",
       "    </tr>\n",
       "    <tr>\n",
       "      <td>22</td>\n",
       "      <td>Fwd IAT Total</td>\n",
       "      <td>-9.53268e-10</td>\n",
       "    </tr>\n",
       "    <tr>\n",
       "      <td>3</td>\n",
       "      <td>Flow Duration</td>\n",
       "      <td>-1.81659e-09</td>\n",
       "    </tr>\n",
       "    <tr>\n",
       "      <td>79</td>\n",
       "      <td>Idle Min</td>\n",
       "      <td>-5.35098e-09</td>\n",
       "    </tr>\n",
       "    <tr>\n",
       "      <td>78</td>\n",
       "      <td>Idle Max</td>\n",
       "      <td>-2.18151e-08</td>\n",
       "    </tr>\n",
       "    <tr>\n",
       "      <td>27</td>\n",
       "      <td>Bwd IAT Total</td>\n",
       "      <td>-3.22977e-08</td>\n",
       "    </tr>\n",
       "    <tr>\n",
       "      <td>18</td>\n",
       "      <td>Flow IAT Mean</td>\n",
       "      <td>-3.54779e-08</td>\n",
       "    </tr>\n",
       "    <tr>\n",
       "      <td>74</td>\n",
       "      <td>Active Max</td>\n",
       "      <td>-4.34814e-08</td>\n",
       "    </tr>\n",
       "    <tr>\n",
       "      <td>77</td>\n",
       "      <td>Idle Std</td>\n",
       "      <td>-5.51575e-08</td>\n",
       "    </tr>\n",
       "    <tr>\n",
       "      <td>17</td>\n",
       "      <td>Flow Packets/s</td>\n",
       "      <td>-1.1755e-07</td>\n",
       "    </tr>\n",
       "    <tr>\n",
       "      <td>38</td>\n",
       "      <td>Fwd Packets/s</td>\n",
       "      <td>-1.46425e-07</td>\n",
       "    </tr>\n",
       "    <tr>\n",
       "      <td>29</td>\n",
       "      <td>Bwd IAT Std</td>\n",
       "      <td>-1.6483e-07</td>\n",
       "    </tr>\n",
       "    <tr>\n",
       "      <td>75</td>\n",
       "      <td>Active Min</td>\n",
       "      <td>-2.24306e-07</td>\n",
       "    </tr>\n",
       "    <tr>\n",
       "      <td>76</td>\n",
       "      <td>Idle Mean</td>\n",
       "      <td>-2.71525e-07</td>\n",
       "    </tr>\n",
       "    <tr>\n",
       "      <td>21</td>\n",
       "      <td>Flow IAT Min</td>\n",
       "      <td>-5.45741e-07</td>\n",
       "    </tr>\n",
       "    <tr>\n",
       "      <td>39</td>\n",
       "      <td>Bwd Packets/s</td>\n",
       "      <td>-4.21676e-06</td>\n",
       "    </tr>\n",
       "    <tr>\n",
       "      <td>0</td>\n",
       "      <td>Source Port</td>\n",
       "      <td>-1.358e-05</td>\n",
       "    </tr>\n",
       "    <tr>\n",
       "      <td>44</td>\n",
       "      <td>Packet Length Variance</td>\n",
       "      <td>-1.79015e-05</td>\n",
       "    </tr>\n",
       "    <tr>\n",
       "      <td>69</td>\n",
       "      <td>Init_Win_bytes_backward</td>\n",
       "      <td>-0.000203488</td>\n",
       "    </tr>\n",
       "    <tr>\n",
       "      <td>54</td>\n",
       "      <td>Average Packet Size</td>\n",
       "      <td>-0.00545161</td>\n",
       "    </tr>\n",
       "  </tbody>\n",
       "</table>\n",
       "</div>"
      ],
      "text/plain": [
       "                       variables        coeff\n",
       "11         Fwd Packet Length Std    0.0225949\n",
       "55          Avg Fwd Segment Size   0.00393032\n",
       "8          Fwd Packet Length Max   0.00279192\n",
       "65             Subflow Fwd Bytes  0.000179728\n",
       "68        Init_Win_bytes_forward  0.000146134\n",
       "16                  Flow Bytes/s   7.6534e-06\n",
       "1               Destination Port  6.91145e-07\n",
       "72                   Active Mean  4.30258e-07\n",
       "23                  Fwd IAT Mean  3.30382e-07\n",
       "19                  Flow IAT Std  2.51586e-07\n",
       "73                    Active Std  1.75403e-07\n",
       "28                  Bwd IAT Mean  1.65163e-07\n",
       "30                   Bwd IAT Max  7.31088e-08\n",
       "24                   Fwd IAT Std  3.70462e-08\n",
       "20                  Flow IAT Max  9.87639e-09\n",
       "25                   Fwd IAT Max  9.07164e-09\n",
       "37             Bwd Header Length  1.38661e-09\n",
       "71          min_seg_size_forward  6.37074e-10\n",
       "36             Fwd Header Length  2.18691e-11\n",
       "51                CWE Flag Count           -0\n",
       "40             Min Packet Length           -0\n",
       "47                RST Flag Count           -0\n",
       "50                URG Flag Count           -0\n",
       "49                ACK Flag Count            0\n",
       "48                PSH Flag Count            0\n",
       "46                SYN Flag Count            0\n",
       "45                FIN Flag Count            0\n",
       "52                ECE Flag Count            0\n",
       "58            Fwd Avg Bytes/Bulk            0\n",
       "53                 Down/Up Ratio           -0\n",
       "56          Avg Bwd Segment Size           -0\n",
       "42            Packet Length Mean            0\n",
       "59          Fwd Avg Packets/Bulk            0\n",
       "60             Fwd Avg Bulk Rate            0\n",
       "61            Bwd Avg Bytes/Bulk            0\n",
       "62          Bwd Avg Packets/Bulk            0\n",
       "63             Bwd Avg Bulk Rate            0\n",
       "64           Subflow Fwd Packets           -0\n",
       "66           Subflow Bwd Packets           -0\n",
       "67             Subflow Bwd Bytes           -0\n",
       "70              act_data_pkt_fwd            0\n",
       "43             Packet Length Std            0\n",
       "80                       Inbound            0\n",
       "41             Max Packet Length            0\n",
       "26                   Fwd IAT Min            0\n",
       "2                       Protocol           -0\n",
       "4              Total Fwd Packets           -0\n",
       "5         Total Backward Packets           -0\n",
       "6    Total Length of Fwd Packets            0\n",
       "7    Total Length of Bwd Packets           -0\n",
       "9          Fwd Packet Length Min           -0\n",
       "10        Fwd Packet Length Mean            0\n",
       "12         Bwd Packet Length Max           -0\n",
       "13         Bwd Packet Length Min           -0\n",
       "15         Bwd Packet Length Std           -0\n",
       "14        Bwd Packet Length Mean           -0\n",
       "34                 Fwd URG Flags            0\n",
       "31                   Bwd IAT Min           -0\n",
       "35                 Bwd URG Flags            0\n",
       "33                 Bwd PSH Flags            0\n",
       "32                 Fwd PSH Flags           -0\n",
       "57           Fwd Header Length.1 -1.03927e-10\n",
       "22                 Fwd IAT Total -9.53268e-10\n",
       "3                  Flow Duration -1.81659e-09\n",
       "79                      Idle Min -5.35098e-09\n",
       "78                      Idle Max -2.18151e-08\n",
       "27                 Bwd IAT Total -3.22977e-08\n",
       "18                 Flow IAT Mean -3.54779e-08\n",
       "74                    Active Max -4.34814e-08\n",
       "77                      Idle Std -5.51575e-08\n",
       "17                Flow Packets/s  -1.1755e-07\n",
       "38                 Fwd Packets/s -1.46425e-07\n",
       "29                   Bwd IAT Std  -1.6483e-07\n",
       "75                    Active Min -2.24306e-07\n",
       "76                     Idle Mean -2.71525e-07\n",
       "21                  Flow IAT Min -5.45741e-07\n",
       "39                 Bwd Packets/s -4.21676e-06\n",
       "0                    Source Port   -1.358e-05\n",
       "44        Packet Length Variance -1.79015e-05\n",
       "69       Init_Win_bytes_backward -0.000203488\n",
       "54           Average Packet Size  -0.00545161"
      ]
     },
     "execution_count": 191,
     "metadata": {},
     "output_type": "execute_result"
    },
    {
     "name": "stdout",
     "output_type": "stream",
     "text": [
      "time: 23.8 ms\n"
     ]
    }
   ],
   "source": [
    "# Sorting \n",
    "df_lasso.sort_values(by='coeff', ascending=False)"
   ]
  },
  {
   "cell_type": "code",
   "execution_count": 192,
   "metadata": {},
   "outputs": [
    {
     "data": {
      "text/plain": [
       "array([' Protocol', ' Total Fwd Packets', ' Total Backward Packets',\n",
       "       'Total Length of Fwd Packets', ' Total Length of Bwd Packets',\n",
       "       ' Fwd Packet Length Min', ' Fwd Packet Length Mean',\n",
       "       'Bwd Packet Length Max', ' Bwd Packet Length Min',\n",
       "       ' Bwd Packet Length Mean', ' Bwd Packet Length Std',\n",
       "       ' Fwd IAT Min', ' Bwd IAT Min', 'Fwd PSH Flags', ' Bwd PSH Flags',\n",
       "       ' Fwd URG Flags', ' Bwd URG Flags', ' Min Packet Length',\n",
       "       ' Max Packet Length', ' Packet Length Mean', ' Packet Length Std',\n",
       "       'FIN Flag Count', ' SYN Flag Count', ' RST Flag Count',\n",
       "       ' PSH Flag Count', ' ACK Flag Count', ' URG Flag Count',\n",
       "       ' CWE Flag Count', ' ECE Flag Count', ' Down/Up Ratio',\n",
       "       ' Avg Bwd Segment Size', 'Fwd Avg Bytes/Bulk',\n",
       "       ' Fwd Avg Packets/Bulk', ' Fwd Avg Bulk Rate',\n",
       "       ' Bwd Avg Bytes/Bulk', ' Bwd Avg Packets/Bulk',\n",
       "       'Bwd Avg Bulk Rate', 'Subflow Fwd Packets', ' Subflow Bwd Packets',\n",
       "       ' Subflow Bwd Bytes', ' act_data_pkt_fwd', ' Inbound'],\n",
       "      dtype=object)"
      ]
     },
     "execution_count": 192,
     "metadata": {},
     "output_type": "execute_result"
    },
    {
     "name": "stdout",
     "output_type": "stream",
     "text": [
      "time: 8.2 ms\n"
     ]
    }
   ],
   "source": [
    "# Assignig zero coefficients \n",
    "zero_coeffs = df_lasso[df_lasso.coeff == 0]\n",
    "\n",
    "# Values of zero lasso coefficients\n",
    "zero_coeffs['variables'].values"
   ]
  },
  {
   "cell_type": "code",
   "execution_count": 256,
   "metadata": {},
   "outputs": [
    {
     "name": "stdout",
     "output_type": "stream",
     "text": [
      "time: 529 ms\n"
     ]
    }
   ],
   "source": [
    "# Dropping zero coefficient variables\n",
    "all_df = all_df.drop(columns=[' Protocol', ' Total Fwd Packets', ' Total Backward Packets',\n",
    "       'Total Length of Fwd Packets', ' Total Length of Bwd Packets',\n",
    "       ' Fwd Packet Length Min', ' Fwd Packet Length Mean',\n",
    "       'Bwd Packet Length Max', ' Bwd Packet Length Min',\n",
    "       ' Bwd Packet Length Mean', ' Bwd Packet Length Std',\n",
    "       ' Fwd IAT Min', ' Bwd IAT Min', 'Fwd PSH Flags', ' Bwd PSH Flags',\n",
    "       ' Fwd URG Flags', ' Bwd URG Flags', ' Min Packet Length',\n",
    "       ' Max Packet Length', ' Packet Length Mean', ' Packet Length Std',\n",
    "       'FIN Flag Count', ' SYN Flag Count', ' RST Flag Count',\n",
    "       ' PSH Flag Count', ' ACK Flag Count', ' URG Flag Count',\n",
    "       ' CWE Flag Count', ' ECE Flag Count', ' Down/Up Ratio',\n",
    "       ' Avg Bwd Segment Size', 'Fwd Avg Bytes/Bulk',\n",
    "       ' Fwd Avg Packets/Bulk', ' Fwd Avg Bulk Rate',\n",
    "       ' Bwd Avg Bytes/Bulk', ' Bwd Avg Packets/Bulk',\n",
    "       'Bwd Avg Bulk Rate', 'Subflow Fwd Packets', ' Subflow Bwd Packets',\n",
    "       ' Subflow Bwd Bytes', ' act_data_pkt_fwd', ' Inbound'])"
   ]
  },
  {
   "cell_type": "code",
   "execution_count": 257,
   "metadata": {},
   "outputs": [
    {
     "data": {
      "text/plain": [
       "(2386803, 40)"
      ]
     },
     "execution_count": 257,
     "metadata": {},
     "output_type": "execute_result"
    },
    {
     "name": "stdout",
     "output_type": "stream",
     "text": [
      "time: 4.35 ms\n"
     ]
    }
   ],
   "source": [
    "all_df.shape"
   ]
  },
  {
   "cell_type": "code",
   "execution_count": 258,
   "metadata": {},
   "outputs": [
    {
     "name": "stdout",
     "output_type": "stream",
     "text": [
      "time: 481 ms\n"
     ]
    }
   ],
   "source": [
    "# Destination Port and Source Port will be dropped as they're both identifier variables \n",
    "# Including them in model would likely result in data leakage\n",
    "all_df = all_df.drop(columns=[' Destination Port', ' Source Port'])"
   ]
  },
  {
   "cell_type": "code",
   "execution_count": 349,
   "metadata": {},
   "outputs": [
    {
     "name": "stdout",
     "output_type": "stream",
     "text": [
      "time: 1.75 s\n"
     ]
    }
   ],
   "source": [
    "# Reassigning X\n",
    "X = all_df.iloc[:,:-1]\n",
    "y = all_df.iloc[:,-1]"
   ]
  },
  {
   "cell_type": "markdown",
   "metadata": {},
   "source": [
    "### Splitting data"
   ]
  },
  {
   "cell_type": "code",
   "execution_count": 350,
   "metadata": {},
   "outputs": [
    {
     "name": "stdout",
     "output_type": "stream",
     "text": [
      "time: 3.42 s\n"
     ]
    }
   ],
   "source": [
    "# Splitting data\n",
    "from sklearn.model_selection import train_test_split\n",
    "X_train, X_test, y_train, y_test = train_test_split(X, y, test_size = 0.2, stratify=y, random_state=1)"
   ]
  },
  {
   "cell_type": "code",
   "execution_count": null,
   "metadata": {},
   "outputs": [],
   "source": []
  },
  {
   "cell_type": "markdown",
   "metadata": {},
   "source": [
    "### My first DT - unbalanced data"
   ]
  },
  {
   "cell_type": "code",
   "execution_count": 351,
   "metadata": {},
   "outputs": [
    {
     "name": "stdout",
     "output_type": "stream",
     "text": [
      "time: 2.14 ms\n"
     ]
    }
   ],
   "source": [
    "from sklearn.model_selection import cross_val_score\n",
    "from sklearn.pipeline import Pipeline\n",
    "from sklearn.tree import DecisionTreeClassifier\n",
    "from sklearn.model_selection import GridSearchCV"
   ]
  },
  {
   "cell_type": "code",
   "execution_count": 352,
   "metadata": {},
   "outputs": [
    {
     "name": "stdout",
     "output_type": "stream",
     "text": [
      "Best cross-validation score: 0.99\n",
      "Best parameters:  {'max_depth': 15}\n",
      "Best estimator:  DecisionTreeClassifier(ccp_alpha=0.0, class_weight=None, criterion='gini',\n",
      "                       max_depth=15, max_features=None, max_leaf_nodes=None,\n",
      "                       min_impurity_decrease=0.0, min_impurity_split=None,\n",
      "                       min_samples_leaf=1, min_samples_split=2,\n",
      "                       min_weight_fraction_leaf=0.0, presort='deprecated',\n",
      "                       random_state=None, splitter='best')\n",
      "time: 6min 3s\n"
     ]
    },
    {
     "data": {
      "text/html": [
       "\n",
       "                <audio  controls=\"controls\" autoplay=\"autoplay\">\n",
       "                    <source src=\"data:audio/wav;base64,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\" type=\"audio/wav\" />\n",
       "                    Your browser does not support the audio element.\n",
       "                </audio>\n",
       "              "
      ],
      "text/plain": [
       "<IPython.lib.display.Audio object>"
      ]
     },
     "metadata": {},
     "output_type": "display_data"
    },
    {
     "data": {
      "text/html": [
       "<style>audio{display:none}</style>"
      ],
      "text/plain": [
       "<IPython.core.display.HTML object>"
      ]
     },
     "metadata": {},
     "output_type": "display_data"
    }
   ],
   "source": [
    "# This takes long\n",
    "# GridSearch for decision tree classifier \n",
    "params = {'max_depth':[5,10,15,20]}\n",
    "\n",
    "grid = GridSearchCV(DecisionTreeClassifier(), params, cv=5)\n",
    "\n",
    "grid.fit(X_train, y_train)\n",
    "print(\"Best cross-validation score: {:.2f}\".format(grid.best_score_))\n",
    "print(\"Best parameters: \", grid.best_params_)\n",
    "print(\"Best estimator: \", grid.best_estimator_)"
   ]
  },
  {
   "cell_type": "code",
   "execution_count": 353,
   "metadata": {},
   "outputs": [
    {
     "name": "stdout",
     "output_type": "stream",
     "text": [
      "Score on train: 0.9936840186818976\n",
      "Score on test: 0.9930241473434152\n",
      "time: 27.3 s\n"
     ]
    }
   ],
   "source": [
    "my_DT = DecisionTreeClassifier(max_depth=15)\n",
    "my_DT.fit(X_train,y_train)\n",
    "print(f'Score on train: {my_DT.score(X_train, y_train)}')\n",
    "print(f'Score on test: {my_DT.score(X_test, y_test)}')"
   ]
  },
  {
   "cell_type": "code",
   "execution_count": 354,
   "metadata": {},
   "outputs": [
    {
     "name": "stdout",
     "output_type": "stream",
     "text": [
      "time: 28.3 ms\n"
     ]
    }
   ],
   "source": [
    "# Creating a dataframe for gini feature importance \n",
    "feat_imp=[X.columns, my_DT.feature_importances_]\n",
    "df_feat_imp =pd.DataFrame(feat_imp).T\n",
    "df_feat_imp = df_feat_imp.rename(columns= {0:'Variables', 1:'Gini_Importance'})"
   ]
  },
  {
   "cell_type": "code",
   "execution_count": 355,
   "metadata": {},
   "outputs": [
    {
     "data": {
      "text/html": [
       "<div>\n",
       "<style scoped>\n",
       "    .dataframe tbody tr th:only-of-type {\n",
       "        vertical-align: middle;\n",
       "    }\n",
       "\n",
       "    .dataframe tbody tr th {\n",
       "        vertical-align: top;\n",
       "    }\n",
       "\n",
       "    .dataframe thead th {\n",
       "        text-align: right;\n",
       "    }\n",
       "</style>\n",
       "<table border=\"1\" class=\"dataframe\">\n",
       "  <thead>\n",
       "    <tr style=\"text-align: right;\">\n",
       "      <th></th>\n",
       "      <th>Variables</th>\n",
       "      <th>Gini_Importance</th>\n",
       "    </tr>\n",
       "  </thead>\n",
       "  <tbody>\n",
       "    <tr>\n",
       "      <td>1</td>\n",
       "      <td>Fwd Packet Length Max</td>\n",
       "      <td>0.322797</td>\n",
       "    </tr>\n",
       "    <tr>\n",
       "      <td>22</td>\n",
       "      <td>Average Packet Size</td>\n",
       "      <td>0.265005</td>\n",
       "    </tr>\n",
       "    <tr>\n",
       "      <td>23</td>\n",
       "      <td>Avg Fwd Segment Size</td>\n",
       "      <td>0.254379</td>\n",
       "    </tr>\n",
       "    <tr>\n",
       "      <td>3</td>\n",
       "      <td>Flow Bytes/s</td>\n",
       "      <td>0.143218</td>\n",
       "    </tr>\n",
       "    <tr>\n",
       "      <td>26</td>\n",
       "      <td>Init_Win_bytes_forward</td>\n",
       "      <td>0.00757908</td>\n",
       "    </tr>\n",
       "    <tr>\n",
       "      <td>25</td>\n",
       "      <td>Subflow Fwd Bytes</td>\n",
       "      <td>0.00300818</td>\n",
       "    </tr>\n",
       "    <tr>\n",
       "      <td>28</td>\n",
       "      <td>min_seg_size_forward</td>\n",
       "      <td>0.00130968</td>\n",
       "    </tr>\n",
       "    <tr>\n",
       "      <td>21</td>\n",
       "      <td>Packet Length Variance</td>\n",
       "      <td>0.000976774</td>\n",
       "    </tr>\n",
       "    <tr>\n",
       "      <td>17</td>\n",
       "      <td>Fwd Header Length</td>\n",
       "      <td>0.000565324</td>\n",
       "    </tr>\n",
       "    <tr>\n",
       "      <td>24</td>\n",
       "      <td>Fwd Header Length.1</td>\n",
       "      <td>0.000458267</td>\n",
       "    </tr>\n",
       "  </tbody>\n",
       "</table>\n",
       "</div>"
      ],
      "text/plain": [
       "                  Variables Gini_Importance\n",
       "1     Fwd Packet Length Max        0.322797\n",
       "22      Average Packet Size        0.265005\n",
       "23     Avg Fwd Segment Size        0.254379\n",
       "3              Flow Bytes/s        0.143218\n",
       "26   Init_Win_bytes_forward      0.00757908\n",
       "25        Subflow Fwd Bytes      0.00300818\n",
       "28     min_seg_size_forward      0.00130968\n",
       "21   Packet Length Variance     0.000976774\n",
       "17        Fwd Header Length     0.000565324\n",
       "24      Fwd Header Length.1     0.000458267"
      ]
     },
     "execution_count": 355,
     "metadata": {},
     "output_type": "execute_result"
    },
    {
     "name": "stdout",
     "output_type": "stream",
     "text": [
      "time: 10.6 ms\n"
     ]
    }
   ],
   "source": [
    "df_feat_imp.sort_values(by='Gini_Importance', ascending=False).head(10)"
   ]
  },
  {
   "cell_type": "code",
   "execution_count": 356,
   "metadata": {},
   "outputs": [
    {
     "data": {
      "text/plain": [
       "array([[  1572,      1,      2,      0,      0,      0],\n",
       "       [     2,  35326,    218,    155,      0,    479],\n",
       "       [     0,     22,  87145,      3,      1,     26],\n",
       "       [     4,   1754,      4, 161903,      0,     66],\n",
       "       [     0,      5,      0,      2,  63282,      3],\n",
       "       [     0,    552,     18,     11,      2, 124803]])"
      ]
     },
     "execution_count": 356,
     "metadata": {},
     "output_type": "execute_result"
    },
    {
     "name": "stdout",
     "output_type": "stream",
     "text": [
      "time: 445 ms\n"
     ]
    }
   ],
   "source": [
    "from sklearn.metrics import confusion_matrix\n",
    "# Defining y predict\n",
    "\n",
    "y_pred = my_DT.predict(X_test)\n",
    "from sklearn.metrics import confusion_matrix\n",
    "\n",
    "# Confusion mastrix\n",
    "confusion_matrix(y_test, y_pred)"
   ]
  },
  {
   "cell_type": "code",
   "execution_count": 361,
   "metadata": {},
   "outputs": [
    {
     "data": {
      "text/html": [
       "<style  type=\"text/css\" >\n",
       "    #T_5617a324_6cc7_11ea_b9f7_acde48001122row0_col0 {\n",
       "            background-color:  #084081;\n",
       "            color:  #f1f1f1;\n",
       "        }    #T_5617a324_6cc7_11ea_b9f7_acde48001122row0_col1 {\n",
       "            background-color:  #f7fcf0;\n",
       "            color:  #000000;\n",
       "        }    #T_5617a324_6cc7_11ea_b9f7_acde48001122row0_col2 {\n",
       "            background-color:  #f7fcf0;\n",
       "            color:  #000000;\n",
       "        }    #T_5617a324_6cc7_11ea_b9f7_acde48001122row0_col3 {\n",
       "            background-color:  #f7fcf0;\n",
       "            color:  #000000;\n",
       "        }    #T_5617a324_6cc7_11ea_b9f7_acde48001122row0_col4 {\n",
       "            background-color:  #f7fcf0;\n",
       "            color:  #000000;\n",
       "        }    #T_5617a324_6cc7_11ea_b9f7_acde48001122row0_col5 {\n",
       "            background-color:  #f7fcf0;\n",
       "            color:  #000000;\n",
       "        }    #T_5617a324_6cc7_11ea_b9f7_acde48001122row1_col0 {\n",
       "            background-color:  #f7fcf0;\n",
       "            color:  #000000;\n",
       "        }    #T_5617a324_6cc7_11ea_b9f7_acde48001122row1_col1 {\n",
       "            background-color:  #084081;\n",
       "            color:  #f1f1f1;\n",
       "        }    #T_5617a324_6cc7_11ea_b9f7_acde48001122row1_col2 {\n",
       "            background-color:  #f7fcf0;\n",
       "            color:  #000000;\n",
       "        }    #T_5617a324_6cc7_11ea_b9f7_acde48001122row1_col3 {\n",
       "            background-color:  #f7fcf0;\n",
       "            color:  #000000;\n",
       "        }    #T_5617a324_6cc7_11ea_b9f7_acde48001122row1_col4 {\n",
       "            background-color:  #f7fcf0;\n",
       "            color:  #000000;\n",
       "        }    #T_5617a324_6cc7_11ea_b9f7_acde48001122row1_col5 {\n",
       "            background-color:  #f7fcf0;\n",
       "            color:  #000000;\n",
       "        }    #T_5617a324_6cc7_11ea_b9f7_acde48001122row2_col0 {\n",
       "            background-color:  #f7fcf0;\n",
       "            color:  #000000;\n",
       "        }    #T_5617a324_6cc7_11ea_b9f7_acde48001122row2_col1 {\n",
       "            background-color:  #f7fcf0;\n",
       "            color:  #000000;\n",
       "        }    #T_5617a324_6cc7_11ea_b9f7_acde48001122row2_col2 {\n",
       "            background-color:  #084081;\n",
       "            color:  #f1f1f1;\n",
       "        }    #T_5617a324_6cc7_11ea_b9f7_acde48001122row2_col3 {\n",
       "            background-color:  #f7fcf0;\n",
       "            color:  #000000;\n",
       "        }    #T_5617a324_6cc7_11ea_b9f7_acde48001122row2_col4 {\n",
       "            background-color:  #f7fcf0;\n",
       "            color:  #000000;\n",
       "        }    #T_5617a324_6cc7_11ea_b9f7_acde48001122row2_col5 {\n",
       "            background-color:  #f7fcf0;\n",
       "            color:  #000000;\n",
       "        }    #T_5617a324_6cc7_11ea_b9f7_acde48001122row3_col0 {\n",
       "            background-color:  #f7fcf0;\n",
       "            color:  #000000;\n",
       "        }    #T_5617a324_6cc7_11ea_b9f7_acde48001122row3_col1 {\n",
       "            background-color:  #eef9e8;\n",
       "            color:  #000000;\n",
       "        }    #T_5617a324_6cc7_11ea_b9f7_acde48001122row3_col2 {\n",
       "            background-color:  #f7fcf0;\n",
       "            color:  #000000;\n",
       "        }    #T_5617a324_6cc7_11ea_b9f7_acde48001122row3_col3 {\n",
       "            background-color:  #084081;\n",
       "            color:  #f1f1f1;\n",
       "        }    #T_5617a324_6cc7_11ea_b9f7_acde48001122row3_col4 {\n",
       "            background-color:  #f7fcf0;\n",
       "            color:  #000000;\n",
       "        }    #T_5617a324_6cc7_11ea_b9f7_acde48001122row3_col5 {\n",
       "            background-color:  #f7fcf0;\n",
       "            color:  #000000;\n",
       "        }    #T_5617a324_6cc7_11ea_b9f7_acde48001122row4_col0 {\n",
       "            background-color:  #f7fcf0;\n",
       "            color:  #000000;\n",
       "        }    #T_5617a324_6cc7_11ea_b9f7_acde48001122row4_col1 {\n",
       "            background-color:  #f7fcf0;\n",
       "            color:  #000000;\n",
       "        }    #T_5617a324_6cc7_11ea_b9f7_acde48001122row4_col2 {\n",
       "            background-color:  #f7fcf0;\n",
       "            color:  #000000;\n",
       "        }    #T_5617a324_6cc7_11ea_b9f7_acde48001122row4_col3 {\n",
       "            background-color:  #f7fcf0;\n",
       "            color:  #000000;\n",
       "        }    #T_5617a324_6cc7_11ea_b9f7_acde48001122row4_col4 {\n",
       "            background-color:  #084081;\n",
       "            color:  #f1f1f1;\n",
       "        }    #T_5617a324_6cc7_11ea_b9f7_acde48001122row4_col5 {\n",
       "            background-color:  #f7fcf0;\n",
       "            color:  #000000;\n",
       "        }    #T_5617a324_6cc7_11ea_b9f7_acde48001122row5_col0 {\n",
       "            background-color:  #f7fcf0;\n",
       "            color:  #000000;\n",
       "        }    #T_5617a324_6cc7_11ea_b9f7_acde48001122row5_col1 {\n",
       "            background-color:  #f5fbee;\n",
       "            color:  #000000;\n",
       "        }    #T_5617a324_6cc7_11ea_b9f7_acde48001122row5_col2 {\n",
       "            background-color:  #f7fcf0;\n",
       "            color:  #000000;\n",
       "        }    #T_5617a324_6cc7_11ea_b9f7_acde48001122row5_col3 {\n",
       "            background-color:  #f7fcf0;\n",
       "            color:  #000000;\n",
       "        }    #T_5617a324_6cc7_11ea_b9f7_acde48001122row5_col4 {\n",
       "            background-color:  #f7fcf0;\n",
       "            color:  #000000;\n",
       "        }    #T_5617a324_6cc7_11ea_b9f7_acde48001122row5_col5 {\n",
       "            background-color:  #084081;\n",
       "            color:  #f1f1f1;\n",
       "        }</style><table id=\"T_5617a324_6cc7_11ea_b9f7_acde48001122\" ><thead>    <tr>        <th class=\"blank level0\" ></th>        <th class=\"col_heading level0 col0\" >Predictec Class 0</th>        <th class=\"col_heading level0 col1\" >Predicted Class 1</th>        <th class=\"col_heading level0 col2\" >Predicted Class 2</th>        <th class=\"col_heading level0 col3\" >Predicted Class 3</th>        <th class=\"col_heading level0 col4\" >Predicted Class 4</th>        <th class=\"col_heading level0 col5\" >Predicted Class 5</th>    </tr></thead><tbody>\n",
       "                <tr>\n",
       "                        <th id=\"T_5617a324_6cc7_11ea_b9f7_acde48001122level0_row0\" class=\"row_heading level0 row0\" >True 0</th>\n",
       "                        <td id=\"T_5617a324_6cc7_11ea_b9f7_acde48001122row0_col0\" class=\"data row0 col0\" >1572</td>\n",
       "                        <td id=\"T_5617a324_6cc7_11ea_b9f7_acde48001122row0_col1\" class=\"data row0 col1\" >1</td>\n",
       "                        <td id=\"T_5617a324_6cc7_11ea_b9f7_acde48001122row0_col2\" class=\"data row0 col2\" >2</td>\n",
       "                        <td id=\"T_5617a324_6cc7_11ea_b9f7_acde48001122row0_col3\" class=\"data row0 col3\" >0</td>\n",
       "                        <td id=\"T_5617a324_6cc7_11ea_b9f7_acde48001122row0_col4\" class=\"data row0 col4\" >0</td>\n",
       "                        <td id=\"T_5617a324_6cc7_11ea_b9f7_acde48001122row0_col5\" class=\"data row0 col5\" >0</td>\n",
       "            </tr>\n",
       "            <tr>\n",
       "                        <th id=\"T_5617a324_6cc7_11ea_b9f7_acde48001122level0_row1\" class=\"row_heading level0 row1\" >True 1</th>\n",
       "                        <td id=\"T_5617a324_6cc7_11ea_b9f7_acde48001122row1_col0\" class=\"data row1 col0\" >2</td>\n",
       "                        <td id=\"T_5617a324_6cc7_11ea_b9f7_acde48001122row1_col1\" class=\"data row1 col1\" >35326</td>\n",
       "                        <td id=\"T_5617a324_6cc7_11ea_b9f7_acde48001122row1_col2\" class=\"data row1 col2\" >218</td>\n",
       "                        <td id=\"T_5617a324_6cc7_11ea_b9f7_acde48001122row1_col3\" class=\"data row1 col3\" >155</td>\n",
       "                        <td id=\"T_5617a324_6cc7_11ea_b9f7_acde48001122row1_col4\" class=\"data row1 col4\" >0</td>\n",
       "                        <td id=\"T_5617a324_6cc7_11ea_b9f7_acde48001122row1_col5\" class=\"data row1 col5\" >479</td>\n",
       "            </tr>\n",
       "            <tr>\n",
       "                        <th id=\"T_5617a324_6cc7_11ea_b9f7_acde48001122level0_row2\" class=\"row_heading level0 row2\" >True 2</th>\n",
       "                        <td id=\"T_5617a324_6cc7_11ea_b9f7_acde48001122row2_col0\" class=\"data row2 col0\" >0</td>\n",
       "                        <td id=\"T_5617a324_6cc7_11ea_b9f7_acde48001122row2_col1\" class=\"data row2 col1\" >22</td>\n",
       "                        <td id=\"T_5617a324_6cc7_11ea_b9f7_acde48001122row2_col2\" class=\"data row2 col2\" >87145</td>\n",
       "                        <td id=\"T_5617a324_6cc7_11ea_b9f7_acde48001122row2_col3\" class=\"data row2 col3\" >3</td>\n",
       "                        <td id=\"T_5617a324_6cc7_11ea_b9f7_acde48001122row2_col4\" class=\"data row2 col4\" >1</td>\n",
       "                        <td id=\"T_5617a324_6cc7_11ea_b9f7_acde48001122row2_col5\" class=\"data row2 col5\" >26</td>\n",
       "            </tr>\n",
       "            <tr>\n",
       "                        <th id=\"T_5617a324_6cc7_11ea_b9f7_acde48001122level0_row3\" class=\"row_heading level0 row3\" >True 3</th>\n",
       "                        <td id=\"T_5617a324_6cc7_11ea_b9f7_acde48001122row3_col0\" class=\"data row3 col0\" >4</td>\n",
       "                        <td id=\"T_5617a324_6cc7_11ea_b9f7_acde48001122row3_col1\" class=\"data row3 col1\" >1754</td>\n",
       "                        <td id=\"T_5617a324_6cc7_11ea_b9f7_acde48001122row3_col2\" class=\"data row3 col2\" >4</td>\n",
       "                        <td id=\"T_5617a324_6cc7_11ea_b9f7_acde48001122row3_col3\" class=\"data row3 col3\" >161903</td>\n",
       "                        <td id=\"T_5617a324_6cc7_11ea_b9f7_acde48001122row3_col4\" class=\"data row3 col4\" >0</td>\n",
       "                        <td id=\"T_5617a324_6cc7_11ea_b9f7_acde48001122row3_col5\" class=\"data row3 col5\" >66</td>\n",
       "            </tr>\n",
       "            <tr>\n",
       "                        <th id=\"T_5617a324_6cc7_11ea_b9f7_acde48001122level0_row4\" class=\"row_heading level0 row4\" >True 4</th>\n",
       "                        <td id=\"T_5617a324_6cc7_11ea_b9f7_acde48001122row4_col0\" class=\"data row4 col0\" >0</td>\n",
       "                        <td id=\"T_5617a324_6cc7_11ea_b9f7_acde48001122row4_col1\" class=\"data row4 col1\" >5</td>\n",
       "                        <td id=\"T_5617a324_6cc7_11ea_b9f7_acde48001122row4_col2\" class=\"data row4 col2\" >0</td>\n",
       "                        <td id=\"T_5617a324_6cc7_11ea_b9f7_acde48001122row4_col3\" class=\"data row4 col3\" >2</td>\n",
       "                        <td id=\"T_5617a324_6cc7_11ea_b9f7_acde48001122row4_col4\" class=\"data row4 col4\" >63282</td>\n",
       "                        <td id=\"T_5617a324_6cc7_11ea_b9f7_acde48001122row4_col5\" class=\"data row4 col5\" >3</td>\n",
       "            </tr>\n",
       "            <tr>\n",
       "                        <th id=\"T_5617a324_6cc7_11ea_b9f7_acde48001122level0_row5\" class=\"row_heading level0 row5\" >True 5</th>\n",
       "                        <td id=\"T_5617a324_6cc7_11ea_b9f7_acde48001122row5_col0\" class=\"data row5 col0\" >0</td>\n",
       "                        <td id=\"T_5617a324_6cc7_11ea_b9f7_acde48001122row5_col1\" class=\"data row5 col1\" >552</td>\n",
       "                        <td id=\"T_5617a324_6cc7_11ea_b9f7_acde48001122row5_col2\" class=\"data row5 col2\" >18</td>\n",
       "                        <td id=\"T_5617a324_6cc7_11ea_b9f7_acde48001122row5_col3\" class=\"data row5 col3\" >11</td>\n",
       "                        <td id=\"T_5617a324_6cc7_11ea_b9f7_acde48001122row5_col4\" class=\"data row5 col4\" >2</td>\n",
       "                        <td id=\"T_5617a324_6cc7_11ea_b9f7_acde48001122row5_col5\" class=\"data row5 col5\" >124803</td>\n",
       "            </tr>\n",
       "    </tbody></table>"
      ],
      "text/plain": [
       "<pandas.io.formats.style.Styler at 0x1a45b394d0>"
      ]
     },
     "execution_count": 361,
     "metadata": {},
     "output_type": "execute_result"
    },
    {
     "name": "stdout",
     "output_type": "stream",
     "text": [
      "time: 368 ms\n"
     ]
    }
   ],
   "source": [
    "# Creating a df of confusion matrix\n",
    "con_mat = confusion_matrix(y_test, y_pred) \n",
    "df_conmat = pd.DataFrame(con_mat, columns=['Predictec Class 0', 'Predicted Class 1','Predicted Class 2','Predicted Class 3','Predicted Class 4','Predicted Class 5'] )\n",
    "df_conmat = df_conmat.rename('True {}'.format)\n",
    "df_conmat.style.background_gradient(cmap='GnBu')"
   ]
  },
  {
   "cell_type": "code",
   "execution_count": 358,
   "metadata": {},
   "outputs": [
    {
     "name": "stdout",
     "output_type": "stream",
     "text": [
      "              precision    recall  f1-score   support\n",
      "\n",
      "           0       1.00      1.00      1.00      1575\n",
      "           1       0.94      0.98      0.96     36180\n",
      "           2       1.00      1.00      1.00     87197\n",
      "           3       1.00      0.99      0.99    163731\n",
      "           4       1.00      1.00      1.00     63292\n",
      "           5       1.00      1.00      1.00    125386\n",
      "\n",
      "    accuracy                           0.99    477361\n",
      "   macro avg       0.99      0.99      0.99    477361\n",
      "weighted avg       0.99      0.99      0.99    477361\n",
      "\n",
      "time: 555 ms\n"
     ]
    }
   ],
   "source": [
    "# Classification report\n",
    "print(classification_report(y_test, y_pred))"
   ]
  },
  {
   "cell_type": "code",
   "execution_count": null,
   "metadata": {},
   "outputs": [],
   "source": []
  },
  {
   "cell_type": "markdown",
   "metadata": {},
   "source": [
    "### My second DT - Resampled balanced train data"
   ]
  },
  {
   "cell_type": "code",
   "execution_count": 363,
   "metadata": {},
   "outputs": [
    {
     "name": "stdout",
     "output_type": "stream",
     "text": [
      "Original dataset shape Counter({3: 654925, 5: 501543, 2: 348789, 4: 253166, 1: 144720, 0: 6299})\n",
      "Resampled dataset shape Counter({0: 6299, 1: 6299, 2: 6299, 3: 6299, 4: 6299, 5: 6299})\n",
      "time: 1.95 s\n"
     ]
    }
   ],
   "source": [
    "# Undersampling for more managable data\n",
    "from imblearn.under_sampling import RandomUnderSampler\n",
    "print('Original dataset shape %s' % Counter(y_train))\n",
    "rus = RandomUnderSampler(random_state=42)\n",
    "X_train, y_train = rus.fit_resample(X_train, y_train)\n",
    "print('Resampled dataset shape %s' % Counter(y_train))"
   ]
  },
  {
   "cell_type": "code",
   "execution_count": null,
   "metadata": {},
   "outputs": [],
   "source": []
  },
  {
   "cell_type": "code",
   "execution_count": 364,
   "metadata": {},
   "outputs": [
    {
     "name": "stdout",
     "output_type": "stream",
     "text": [
      "Best cross-validation score: 0.99\n",
      "Best parameters:  {'max_depth': 10}\n",
      "Best estimator:  DecisionTreeClassifier(ccp_alpha=0.0, class_weight=None, criterion='gini',\n",
      "                       max_depth=10, max_features=None, max_leaf_nodes=None,\n",
      "                       min_impurity_decrease=0.0, min_impurity_split=None,\n",
      "                       min_samples_leaf=1, min_samples_split=2,\n",
      "                       min_weight_fraction_leaf=0.0, presort='deprecated',\n",
      "                       random_state=None, splitter='best')\n",
      "time: 2.8 s\n"
     ]
    }
   ],
   "source": [
    "# GridSearch for second decision tree classifier \n",
    "params = {'max_depth':[5,10,15,20]}\n",
    "\n",
    "grid = GridSearchCV(DecisionTreeClassifier(), params, cv=5)\n",
    "\n",
    "grid.fit(X_train, y_train)\n",
    "print(\"Best cross-validation score: {:.2f}\".format(grid.best_score_))\n",
    "print(\"Best parameters: \", grid.best_params_)\n",
    "print(\"Best estimator: \", grid.best_estimator_)"
   ]
  },
  {
   "cell_type": "code",
   "execution_count": 365,
   "metadata": {},
   "outputs": [
    {
     "name": "stdout",
     "output_type": "stream",
     "text": [
      "Score on train: 0.9944171032439012\n",
      "Score on test: 0.9891612427491981\n",
      "time: 456 ms\n"
     ]
    }
   ],
   "source": [
    "my_DT2 = DecisionTreeClassifier(max_depth=10)\n",
    "my_DT2.fit(X_train,y_train)\n",
    "print(f'Score on train: {my_DT2.score(X_train, y_train)}')\n",
    "print(f'Score on test: {my_DT2.score(X_test, y_test)}')"
   ]
  },
  {
   "cell_type": "code",
   "execution_count": 366,
   "metadata": {},
   "outputs": [
    {
     "data": {
      "text/html": [
       "<div>\n",
       "<style scoped>\n",
       "    .dataframe tbody tr th:only-of-type {\n",
       "        vertical-align: middle;\n",
       "    }\n",
       "\n",
       "    .dataframe tbody tr th {\n",
       "        vertical-align: top;\n",
       "    }\n",
       "\n",
       "    .dataframe thead th {\n",
       "        text-align: right;\n",
       "    }\n",
       "</style>\n",
       "<table border=\"1\" class=\"dataframe\">\n",
       "  <thead>\n",
       "    <tr style=\"text-align: right;\">\n",
       "      <th></th>\n",
       "      <th>Variables</th>\n",
       "      <th>Gini_Importance</th>\n",
       "    </tr>\n",
       "  </thead>\n",
       "  <tbody>\n",
       "    <tr>\n",
       "      <td>23</td>\n",
       "      <td>Avg Fwd Segment Size</td>\n",
       "      <td>0.394213</td>\n",
       "    </tr>\n",
       "    <tr>\n",
       "      <td>3</td>\n",
       "      <td>Flow Bytes/s</td>\n",
       "      <td>0.202639</td>\n",
       "    </tr>\n",
       "    <tr>\n",
       "      <td>22</td>\n",
       "      <td>Average Packet Size</td>\n",
       "      <td>0.192328</td>\n",
       "    </tr>\n",
       "    <tr>\n",
       "      <td>4</td>\n",
       "      <td>Flow Packets/s</td>\n",
       "      <td>0.110732</td>\n",
       "    </tr>\n",
       "    <tr>\n",
       "      <td>26</td>\n",
       "      <td>Init_Win_bytes_forward</td>\n",
       "      <td>0.0570107</td>\n",
       "    </tr>\n",
       "  </tbody>\n",
       "</table>\n",
       "</div>"
      ],
      "text/plain": [
       "                 Variables Gini_Importance\n",
       "23    Avg Fwd Segment Size        0.394213\n",
       "3             Flow Bytes/s        0.202639\n",
       "22     Average Packet Size        0.192328\n",
       "4           Flow Packets/s        0.110732\n",
       "26  Init_Win_bytes_forward       0.0570107"
      ]
     },
     "execution_count": 366,
     "metadata": {},
     "output_type": "execute_result"
    },
    {
     "name": "stdout",
     "output_type": "stream",
     "text": [
      "time: 20.9 ms\n"
     ]
    }
   ],
   "source": [
    "# New feature importance dataframe\n",
    "feat_imp = [X.columns, my_DT2.feature_importances_]\n",
    "df_feat_imp = pd.DataFrame(feat_imp).T\n",
    "df_feat_imp = df_feat_imp.rename(columns= {0:'Variables', 1:'Gini_Importance'})\n",
    "df_feat_imp.sort_values(by='Gini_Importance', ascending=False).head()"
   ]
  },
  {
   "cell_type": "code",
   "execution_count": 367,
   "metadata": {},
   "outputs": [
    {
     "data": {
      "text/plain": [
       "array([[  1574,      0,      0,      0,      1,      0],\n",
       "       [     3,  35848,    206,     52,      0,     71],\n",
       "       [    14,    183,  86974,      6,      2,     18],\n",
       "       [    38,   2072,     12, 161602,      1,      6],\n",
       "       [    53,      6,      2,      0,  63229,      2],\n",
       "       [    94,   2164,     58,     14,     96, 122960]])"
      ]
     },
     "execution_count": 367,
     "metadata": {},
     "output_type": "execute_result"
    },
    {
     "name": "stdout",
     "output_type": "stream",
     "text": [
      "time: 455 ms\n"
     ]
    }
   ],
   "source": [
    "# Defining y predict\n",
    "y_pred = my_DT2.predict(X_test)\n",
    "from sklearn.metrics import confusion_matrix\n",
    "\n",
    "# Confusion mastrix\n",
    "confusion_matrix(y_test, y_pred)"
   ]
  },
  {
   "cell_type": "code",
   "execution_count": 372,
   "metadata": {},
   "outputs": [
    {
     "data": {
      "text/html": [
       "<style  type=\"text/css\" >\n",
       "    #T_7a71120e_6ccd_11ea_b9f7_acde48001122row0_col0 {\n",
       "            background-color:  #014636;\n",
       "            color:  #f1f1f1;\n",
       "        }    #T_7a71120e_6ccd_11ea_b9f7_acde48001122row0_col1 {\n",
       "            background-color:  #fff7fb;\n",
       "            color:  #000000;\n",
       "        }    #T_7a71120e_6ccd_11ea_b9f7_acde48001122row0_col2 {\n",
       "            background-color:  #fff7fb;\n",
       "            color:  #000000;\n",
       "        }    #T_7a71120e_6ccd_11ea_b9f7_acde48001122row0_col3 {\n",
       "            background-color:  #fff7fb;\n",
       "            color:  #000000;\n",
       "        }    #T_7a71120e_6ccd_11ea_b9f7_acde48001122row0_col4 {\n",
       "            background-color:  #fff7fb;\n",
       "            color:  #000000;\n",
       "        }    #T_7a71120e_6ccd_11ea_b9f7_acde48001122row0_col5 {\n",
       "            background-color:  #fff7fb;\n",
       "            color:  #000000;\n",
       "        }    #T_7a71120e_6ccd_11ea_b9f7_acde48001122row1_col0 {\n",
       "            background-color:  #fff7fb;\n",
       "            color:  #000000;\n",
       "        }    #T_7a71120e_6ccd_11ea_b9f7_acde48001122row1_col1 {\n",
       "            background-color:  #014636;\n",
       "            color:  #f1f1f1;\n",
       "        }    #T_7a71120e_6ccd_11ea_b9f7_acde48001122row1_col2 {\n",
       "            background-color:  #fff7fb;\n",
       "            color:  #000000;\n",
       "        }    #T_7a71120e_6ccd_11ea_b9f7_acde48001122row1_col3 {\n",
       "            background-color:  #fff7fb;\n",
       "            color:  #000000;\n",
       "        }    #T_7a71120e_6ccd_11ea_b9f7_acde48001122row1_col4 {\n",
       "            background-color:  #fff7fb;\n",
       "            color:  #000000;\n",
       "        }    #T_7a71120e_6ccd_11ea_b9f7_acde48001122row1_col5 {\n",
       "            background-color:  #fff7fb;\n",
       "            color:  #000000;\n",
       "        }    #T_7a71120e_6ccd_11ea_b9f7_acde48001122row2_col0 {\n",
       "            background-color:  #fef6fb;\n",
       "            color:  #000000;\n",
       "        }    #T_7a71120e_6ccd_11ea_b9f7_acde48001122row2_col1 {\n",
       "            background-color:  #fef6fb;\n",
       "            color:  #000000;\n",
       "        }    #T_7a71120e_6ccd_11ea_b9f7_acde48001122row2_col2 {\n",
       "            background-color:  #014636;\n",
       "            color:  #f1f1f1;\n",
       "        }    #T_7a71120e_6ccd_11ea_b9f7_acde48001122row2_col3 {\n",
       "            background-color:  #fff7fb;\n",
       "            color:  #000000;\n",
       "        }    #T_7a71120e_6ccd_11ea_b9f7_acde48001122row2_col4 {\n",
       "            background-color:  #fff7fb;\n",
       "            color:  #000000;\n",
       "        }    #T_7a71120e_6ccd_11ea_b9f7_acde48001122row2_col5 {\n",
       "            background-color:  #fff7fb;\n",
       "            color:  #000000;\n",
       "        }    #T_7a71120e_6ccd_11ea_b9f7_acde48001122row3_col0 {\n",
       "            background-color:  #fcf4f9;\n",
       "            color:  #000000;\n",
       "        }    #T_7a71120e_6ccd_11ea_b9f7_acde48001122row3_col1 {\n",
       "            background-color:  #f7eef6;\n",
       "            color:  #000000;\n",
       "        }    #T_7a71120e_6ccd_11ea_b9f7_acde48001122row3_col2 {\n",
       "            background-color:  #fff7fb;\n",
       "            color:  #000000;\n",
       "        }    #T_7a71120e_6ccd_11ea_b9f7_acde48001122row3_col3 {\n",
       "            background-color:  #014636;\n",
       "            color:  #f1f1f1;\n",
       "        }    #T_7a71120e_6ccd_11ea_b9f7_acde48001122row3_col4 {\n",
       "            background-color:  #fff7fb;\n",
       "            color:  #000000;\n",
       "        }    #T_7a71120e_6ccd_11ea_b9f7_acde48001122row3_col5 {\n",
       "            background-color:  #fff7fb;\n",
       "            color:  #000000;\n",
       "        }    #T_7a71120e_6ccd_11ea_b9f7_acde48001122row4_col0 {\n",
       "            background-color:  #faf2f8;\n",
       "            color:  #000000;\n",
       "        }    #T_7a71120e_6ccd_11ea_b9f7_acde48001122row4_col1 {\n",
       "            background-color:  #fff7fb;\n",
       "            color:  #000000;\n",
       "        }    #T_7a71120e_6ccd_11ea_b9f7_acde48001122row4_col2 {\n",
       "            background-color:  #fff7fb;\n",
       "            color:  #000000;\n",
       "        }    #T_7a71120e_6ccd_11ea_b9f7_acde48001122row4_col3 {\n",
       "            background-color:  #fff7fb;\n",
       "            color:  #000000;\n",
       "        }    #T_7a71120e_6ccd_11ea_b9f7_acde48001122row4_col4 {\n",
       "            background-color:  #014636;\n",
       "            color:  #f1f1f1;\n",
       "        }    #T_7a71120e_6ccd_11ea_b9f7_acde48001122row4_col5 {\n",
       "            background-color:  #fff7fb;\n",
       "            color:  #000000;\n",
       "        }    #T_7a71120e_6ccd_11ea_b9f7_acde48001122row5_col0 {\n",
       "            background-color:  #f7eef6;\n",
       "            color:  #000000;\n",
       "        }    #T_7a71120e_6ccd_11ea_b9f7_acde48001122row5_col1 {\n",
       "            background-color:  #f6edf6;\n",
       "            color:  #000000;\n",
       "        }    #T_7a71120e_6ccd_11ea_b9f7_acde48001122row5_col2 {\n",
       "            background-color:  #fff7fb;\n",
       "            color:  #000000;\n",
       "        }    #T_7a71120e_6ccd_11ea_b9f7_acde48001122row5_col3 {\n",
       "            background-color:  #fff7fb;\n",
       "            color:  #000000;\n",
       "        }    #T_7a71120e_6ccd_11ea_b9f7_acde48001122row5_col4 {\n",
       "            background-color:  #fff7fb;\n",
       "            color:  #000000;\n",
       "        }    #T_7a71120e_6ccd_11ea_b9f7_acde48001122row5_col5 {\n",
       "            background-color:  #014636;\n",
       "            color:  #f1f1f1;\n",
       "        }</style><table id=\"T_7a71120e_6ccd_11ea_b9f7_acde48001122\" ><thead>    <tr>        <th class=\"blank level0\" ></th>        <th class=\"col_heading level0 col0\" >Predictec Class 0</th>        <th class=\"col_heading level0 col1\" >Predicted Class 1</th>        <th class=\"col_heading level0 col2\" >Predicted Class 2</th>        <th class=\"col_heading level0 col3\" >Predicted Class 3</th>        <th class=\"col_heading level0 col4\" >Predicted Class 4</th>        <th class=\"col_heading level0 col5\" >Predicted Class 5</th>    </tr></thead><tbody>\n",
       "                <tr>\n",
       "                        <th id=\"T_7a71120e_6ccd_11ea_b9f7_acde48001122level0_row0\" class=\"row_heading level0 row0\" >True 0</th>\n",
       "                        <td id=\"T_7a71120e_6ccd_11ea_b9f7_acde48001122row0_col0\" class=\"data row0 col0\" >1574</td>\n",
       "                        <td id=\"T_7a71120e_6ccd_11ea_b9f7_acde48001122row0_col1\" class=\"data row0 col1\" >0</td>\n",
       "                        <td id=\"T_7a71120e_6ccd_11ea_b9f7_acde48001122row0_col2\" class=\"data row0 col2\" >0</td>\n",
       "                        <td id=\"T_7a71120e_6ccd_11ea_b9f7_acde48001122row0_col3\" class=\"data row0 col3\" >0</td>\n",
       "                        <td id=\"T_7a71120e_6ccd_11ea_b9f7_acde48001122row0_col4\" class=\"data row0 col4\" >1</td>\n",
       "                        <td id=\"T_7a71120e_6ccd_11ea_b9f7_acde48001122row0_col5\" class=\"data row0 col5\" >0</td>\n",
       "            </tr>\n",
       "            <tr>\n",
       "                        <th id=\"T_7a71120e_6ccd_11ea_b9f7_acde48001122level0_row1\" class=\"row_heading level0 row1\" >True 1</th>\n",
       "                        <td id=\"T_7a71120e_6ccd_11ea_b9f7_acde48001122row1_col0\" class=\"data row1 col0\" >3</td>\n",
       "                        <td id=\"T_7a71120e_6ccd_11ea_b9f7_acde48001122row1_col1\" class=\"data row1 col1\" >35848</td>\n",
       "                        <td id=\"T_7a71120e_6ccd_11ea_b9f7_acde48001122row1_col2\" class=\"data row1 col2\" >206</td>\n",
       "                        <td id=\"T_7a71120e_6ccd_11ea_b9f7_acde48001122row1_col3\" class=\"data row1 col3\" >52</td>\n",
       "                        <td id=\"T_7a71120e_6ccd_11ea_b9f7_acde48001122row1_col4\" class=\"data row1 col4\" >0</td>\n",
       "                        <td id=\"T_7a71120e_6ccd_11ea_b9f7_acde48001122row1_col5\" class=\"data row1 col5\" >71</td>\n",
       "            </tr>\n",
       "            <tr>\n",
       "                        <th id=\"T_7a71120e_6ccd_11ea_b9f7_acde48001122level0_row2\" class=\"row_heading level0 row2\" >True 2</th>\n",
       "                        <td id=\"T_7a71120e_6ccd_11ea_b9f7_acde48001122row2_col0\" class=\"data row2 col0\" >14</td>\n",
       "                        <td id=\"T_7a71120e_6ccd_11ea_b9f7_acde48001122row2_col1\" class=\"data row2 col1\" >183</td>\n",
       "                        <td id=\"T_7a71120e_6ccd_11ea_b9f7_acde48001122row2_col2\" class=\"data row2 col2\" >86974</td>\n",
       "                        <td id=\"T_7a71120e_6ccd_11ea_b9f7_acde48001122row2_col3\" class=\"data row2 col3\" >6</td>\n",
       "                        <td id=\"T_7a71120e_6ccd_11ea_b9f7_acde48001122row2_col4\" class=\"data row2 col4\" >2</td>\n",
       "                        <td id=\"T_7a71120e_6ccd_11ea_b9f7_acde48001122row2_col5\" class=\"data row2 col5\" >18</td>\n",
       "            </tr>\n",
       "            <tr>\n",
       "                        <th id=\"T_7a71120e_6ccd_11ea_b9f7_acde48001122level0_row3\" class=\"row_heading level0 row3\" >True 3</th>\n",
       "                        <td id=\"T_7a71120e_6ccd_11ea_b9f7_acde48001122row3_col0\" class=\"data row3 col0\" >38</td>\n",
       "                        <td id=\"T_7a71120e_6ccd_11ea_b9f7_acde48001122row3_col1\" class=\"data row3 col1\" >2072</td>\n",
       "                        <td id=\"T_7a71120e_6ccd_11ea_b9f7_acde48001122row3_col2\" class=\"data row3 col2\" >12</td>\n",
       "                        <td id=\"T_7a71120e_6ccd_11ea_b9f7_acde48001122row3_col3\" class=\"data row3 col3\" >161602</td>\n",
       "                        <td id=\"T_7a71120e_6ccd_11ea_b9f7_acde48001122row3_col4\" class=\"data row3 col4\" >1</td>\n",
       "                        <td id=\"T_7a71120e_6ccd_11ea_b9f7_acde48001122row3_col5\" class=\"data row3 col5\" >6</td>\n",
       "            </tr>\n",
       "            <tr>\n",
       "                        <th id=\"T_7a71120e_6ccd_11ea_b9f7_acde48001122level0_row4\" class=\"row_heading level0 row4\" >True 4</th>\n",
       "                        <td id=\"T_7a71120e_6ccd_11ea_b9f7_acde48001122row4_col0\" class=\"data row4 col0\" >53</td>\n",
       "                        <td id=\"T_7a71120e_6ccd_11ea_b9f7_acde48001122row4_col1\" class=\"data row4 col1\" >6</td>\n",
       "                        <td id=\"T_7a71120e_6ccd_11ea_b9f7_acde48001122row4_col2\" class=\"data row4 col2\" >2</td>\n",
       "                        <td id=\"T_7a71120e_6ccd_11ea_b9f7_acde48001122row4_col3\" class=\"data row4 col3\" >0</td>\n",
       "                        <td id=\"T_7a71120e_6ccd_11ea_b9f7_acde48001122row4_col4\" class=\"data row4 col4\" >63229</td>\n",
       "                        <td id=\"T_7a71120e_6ccd_11ea_b9f7_acde48001122row4_col5\" class=\"data row4 col5\" >2</td>\n",
       "            </tr>\n",
       "            <tr>\n",
       "                        <th id=\"T_7a71120e_6ccd_11ea_b9f7_acde48001122level0_row5\" class=\"row_heading level0 row5\" >True 5</th>\n",
       "                        <td id=\"T_7a71120e_6ccd_11ea_b9f7_acde48001122row5_col0\" class=\"data row5 col0\" >94</td>\n",
       "                        <td id=\"T_7a71120e_6ccd_11ea_b9f7_acde48001122row5_col1\" class=\"data row5 col1\" >2164</td>\n",
       "                        <td id=\"T_7a71120e_6ccd_11ea_b9f7_acde48001122row5_col2\" class=\"data row5 col2\" >58</td>\n",
       "                        <td id=\"T_7a71120e_6ccd_11ea_b9f7_acde48001122row5_col3\" class=\"data row5 col3\" >14</td>\n",
       "                        <td id=\"T_7a71120e_6ccd_11ea_b9f7_acde48001122row5_col4\" class=\"data row5 col4\" >96</td>\n",
       "                        <td id=\"T_7a71120e_6ccd_11ea_b9f7_acde48001122row5_col5\" class=\"data row5 col5\" >122960</td>\n",
       "            </tr>\n",
       "    </tbody></table>"
      ],
      "text/plain": [
       "<pandas.io.formats.style.Styler at 0x1a316ec050>"
      ]
     },
     "execution_count": 372,
     "metadata": {},
     "output_type": "execute_result"
    },
    {
     "name": "stdout",
     "output_type": "stream",
     "text": [
      "time: 331 ms\n"
     ]
    }
   ],
   "source": [
    "# Creating a df of confusion matrix\n",
    "con_mat = confusion_matrix(y_test, y_pred) \n",
    "df_conmat = pd.DataFrame(con_mat, columns=['Predictec Class 0', 'Predicted Class 1','Predicted Class 2','Predicted Class 3','Predicted Class 4','Predicted Class 5'] )\n",
    "df_conmat = df_conmat.rename('True {}'.format)\n",
    "df_conmat.style.background_gradient(cmap='PuBuGn')"
   ]
  },
  {
   "cell_type": "code",
   "execution_count": 373,
   "metadata": {},
   "outputs": [
    {
     "name": "stdout",
     "output_type": "stream",
     "text": [
      "              precision    recall  f1-score   support\n",
      "\n",
      "           0       0.89      1.00      0.94      1575\n",
      "           1       0.89      0.99      0.94     36180\n",
      "           2       1.00      1.00      1.00     87197\n",
      "           3       1.00      0.99      0.99    163731\n",
      "           4       1.00      1.00      1.00     63292\n",
      "           5       1.00      0.98      0.99    125386\n",
      "\n",
      "    accuracy                           0.99    477361\n",
      "   macro avg       0.96      0.99      0.98    477361\n",
      "weighted avg       0.99      0.99      0.99    477361\n",
      "\n",
      "time: 585 ms\n"
     ]
    }
   ],
   "source": [
    "# Classification report\n",
    "print(classification_report(y_test, y_pred))"
   ]
  },
  {
   "cell_type": "code",
   "execution_count": null,
   "metadata": {},
   "outputs": [],
   "source": [
    "from sklearn.externals.six import StringIO  \n",
    "from IPython.display import Image  \n",
    "from sklearn.tree import export_graphviz\n",
    "import pydotplus\n",
    "\n",
    "dot_data = StringIO()\n",
    "\n",
    "export_graphviz(my_DT, out_file=dot_data,  \n",
    "                filled=True, rounded=True,\n",
    "                special_characters=True)\n",
    "\n",
    "graph = pydotplus.graph_from_dot_data(dot_data.getvalue())  \n",
    "Image(graph.create_png())"
   ]
  },
  {
   "cell_type": "code",
   "execution_count": null,
   "metadata": {},
   "outputs": [],
   "source": []
  },
  {
   "cell_type": "code",
   "execution_count": null,
   "metadata": {},
   "outputs": [],
   "source": []
  },
  {
   "cell_type": "markdown",
   "metadata": {},
   "source": [
    "### My 1st logistic regression on resampled balanced data"
   ]
  },
  {
   "cell_type": "code",
   "execution_count": null,
   "metadata": {},
   "outputs": [],
   "source": [
    "# Searching optimal hyperparameters\n",
    "param_grid = {'C': [0.0001, 0.001, 0.01, 0.1, 1, 10, 100]\n",
    "            ,'penalty': ['l1','l2']}\n",
    "grid = GridSearchCV(LogisticRegression(), param_grid, cv=5)\n",
    "grid.fit(X_res, y_res)\n",
    "print(\"Best cross-validation score: {:.2f}\".format(grid.best_score_))\n",
    "print(\"Best parameters: \", grid.best_params_)\n",
    "print(\"Best estimator: \", grid.best_estimator_)"
   ]
  },
  {
   "cell_type": "code",
   "execution_count": null,
   "metadata": {},
   "outputs": [],
   "source": []
  },
  {
   "cell_type": "code",
   "execution_count": null,
   "metadata": {},
   "outputs": [],
   "source": []
  },
  {
   "cell_type": "code",
   "execution_count": null,
   "metadata": {},
   "outputs": [],
   "source": []
  },
  {
   "cell_type": "markdown",
   "metadata": {},
   "source": [
    "### Converting multiclass to binary"
   ]
  },
  {
   "cell_type": "code",
   "execution_count": 284,
   "metadata": {},
   "outputs": [
    {
     "name": "stdout",
     "output_type": "stream",
     "text": [
      "time: 5.04 ms\n"
     ]
    }
   ],
   "source": [
    "pd.set_option('display.min_rows', None)"
   ]
  },
  {
   "cell_type": "code",
   "execution_count": 288,
   "metadata": {},
   "outputs": [
    {
     "name": "stdout",
     "output_type": "stream",
     "text": [
      "time: 2.28 s\n"
     ]
    }
   ],
   "source": [
    "# Converting multiclass to binary\n",
    "bin_df = all_df.replace({' Label': {1:'1', 2:'1', 3:'1', 4:'1', 5:'1', 0:'0'}})"
   ]
  },
  {
   "cell_type": "code",
   "execution_count": 289,
   "metadata": {},
   "outputs": [
    {
     "name": "stdout",
     "output_type": "stream",
     "text": [
      "time: 280 ms\n"
     ]
    }
   ],
   "source": [
    "# Converting to type int\n",
    "bin_df[' Label'].astype(int)\n",
    "pd.set_option('display.min_rows', None)"
   ]
  },
  {
   "cell_type": "code",
   "execution_count": 293,
   "metadata": {},
   "outputs": [
    {
     "name": "stdout",
     "output_type": "stream",
     "text": [
      "time: 1.59 s\n"
     ]
    }
   ],
   "source": [
    "# Variable assignment\n",
    "X = bin_df.iloc[:,:-1]\n",
    "y = bin_df.iloc[:,-1]"
   ]
  },
  {
   "cell_type": "code",
   "execution_count": 294,
   "metadata": {},
   "outputs": [
    {
     "name": "stdout",
     "output_type": "stream",
     "text": [
      "time: 3.33 s\n"
     ]
    }
   ],
   "source": [
    "# Variable splitting\n",
    "X_train, X_test, y_train, y_test = train_test_split(X, y, test_size = 0.2, stratify=y, random_state=1)"
   ]
  },
  {
   "cell_type": "code",
   "execution_count": 295,
   "metadata": {},
   "outputs": [
    {
     "name": "stdout",
     "output_type": "stream",
     "text": [
      "Original dataset shape Counter({'1': 1903143, '0': 6299})\n",
      "Resampled dataset shape Counter({'0': 6299, '1': 6299})\n",
      "time: 5.13 s\n"
     ]
    }
   ],
   "source": [
    "# Undersampling again\n",
    "print('Original dataset shape %s' % Counter(y_train))\n",
    "rus = RandomUnderSampler(random_state=42)\n",
    "X_train, y_train = rus.fit_resample(X_train, y_train)\n",
    "print('Resampled dataset shape %s' % Counter(y_train))"
   ]
  },
  {
   "cell_type": "code",
   "execution_count": null,
   "metadata": {},
   "outputs": [],
   "source": []
  },
  {
   "cell_type": "code",
   "execution_count": 296,
   "metadata": {},
   "outputs": [
    {
     "name": "stdout",
     "output_type": "stream",
     "text": [
      "Best cross-validation score: 1.00\n",
      "Best parameters:  {'max_depth': 20}\n",
      "Best estimator:  DecisionTreeClassifier(ccp_alpha=0.0, class_weight=None, criterion='gini',\n",
      "                       max_depth=20, max_features=None, max_leaf_nodes=None,\n",
      "                       min_impurity_decrease=0.0, min_impurity_split=None,\n",
      "                       min_samples_leaf=1, min_samples_split=2,\n",
      "                       min_weight_fraction_leaf=0.0, presort='deprecated',\n",
      "                       random_state=None, splitter='best')\n",
      "time: 1.35 s\n"
     ]
    }
   ],
   "source": [
    "# GridSearch for second decision tree classifier \n",
    "params = {'max_depth':[5,10,15,20]}\n",
    "\n",
    "grid = GridSearchCV(DecisionTreeClassifier(), params, cv=5)\n",
    "\n",
    "grid.fit(X_train, y_train)\n",
    "print(\"Best cross-validation score: {:.2f}\".format(grid.best_score_))\n",
    "print(\"Best parameters: \", grid.best_params_)\n",
    "print(\"Best estimator: \", grid.best_estimator_)"
   ]
  },
  {
   "cell_type": "code",
   "execution_count": 303,
   "metadata": {},
   "outputs": [
    {
     "name": "stdout",
     "output_type": "stream",
     "text": [
      "Score on train: 1.0\n",
      "Score on test: 0.9986236831245117\n",
      "time: 1.07 s\n"
     ]
    }
   ],
   "source": [
    "my_DT3 = DecisionTreeClassifier(max_depth=20)\n",
    "my_DT3.fit(X_train,y_train)\n",
    "print(f'Score on train: {my_DT3.score(X_train, y_train)}')\n",
    "print(f'Score on test: {my_DT3.score(X_test, y_test)}')"
   ]
  },
  {
   "cell_type": "code",
   "execution_count": 307,
   "metadata": {},
   "outputs": [
    {
     "data": {
      "text/html": [
       "<div>\n",
       "<style scoped>\n",
       "    .dataframe tbody tr th:only-of-type {\n",
       "        vertical-align: middle;\n",
       "    }\n",
       "\n",
       "    .dataframe tbody tr th {\n",
       "        vertical-align: top;\n",
       "    }\n",
       "\n",
       "    .dataframe thead th {\n",
       "        text-align: right;\n",
       "    }\n",
       "</style>\n",
       "<table border=\"1\" class=\"dataframe\">\n",
       "  <thead>\n",
       "    <tr style=\"text-align: right;\">\n",
       "      <th></th>\n",
       "      <th>Variables</th>\n",
       "      <th>Gini_Importance</th>\n",
       "    </tr>\n",
       "  </thead>\n",
       "  <tbody>\n",
       "    <tr>\n",
       "      <td>23</td>\n",
       "      <td>Avg Fwd Segment Size</td>\n",
       "      <td>0.700124</td>\n",
       "    </tr>\n",
       "    <tr>\n",
       "      <td>26</td>\n",
       "      <td>Init_Win_bytes_forward</td>\n",
       "      <td>0.138885</td>\n",
       "    </tr>\n",
       "    <tr>\n",
       "      <td>4</td>\n",
       "      <td>Flow Packets/s</td>\n",
       "      <td>0.0979884</td>\n",
       "    </tr>\n",
       "    <tr>\n",
       "      <td>21</td>\n",
       "      <td>Packet Length Variance</td>\n",
       "      <td>0.0443354</td>\n",
       "    </tr>\n",
       "    <tr>\n",
       "      <td>3</td>\n",
       "      <td>Flow Bytes/s</td>\n",
       "      <td>0.0103915</td>\n",
       "    </tr>\n",
       "  </tbody>\n",
       "</table>\n",
       "</div>"
      ],
      "text/plain": [
       "                  Variables Gini_Importance\n",
       "23     Avg Fwd Segment Size        0.700124\n",
       "26   Init_Win_bytes_forward        0.138885\n",
       "4            Flow Packets/s       0.0979884\n",
       "21   Packet Length Variance       0.0443354\n",
       "3              Flow Bytes/s       0.0103915"
      ]
     },
     "execution_count": 307,
     "metadata": {},
     "output_type": "execute_result"
    },
    {
     "name": "stdout",
     "output_type": "stream",
     "text": [
      "time: 12.2 ms\n"
     ]
    }
   ],
   "source": [
    "# New feature importance dataframe\n",
    "feat_imp = [X.columns, my_DT3.feature_importances_]\n",
    "df_feat_imp = pd.DataFrame(feat_imp).T\n",
    "df_feat_imp = df_feat_imp.rename(columns= {0:'Variables', 1:'Gini_Importance'})\n",
    "df_feat_imp.sort_values(by='Gini_Importance', ascending=False).head()"
   ]
  },
  {
   "cell_type": "code",
   "execution_count": 308,
   "metadata": {},
   "outputs": [
    {
     "data": {
      "text/plain": [
       "array([[  1575,      0],\n",
       "       [   657, 475129]])"
      ]
     },
     "execution_count": 308,
     "metadata": {},
     "output_type": "execute_result"
    },
    {
     "name": "stdout",
     "output_type": "stream",
     "text": [
      "time: 1.87 s\n"
     ]
    }
   ],
   "source": [
    "# Defining y predict\n",
    "y_pred = my_DT3.predict(X_test)\n",
    "from sklearn.metrics import confusion_matrix\n",
    "\n",
    "# Confusion mastrix\n",
    "confusion_matrix(y_test, y_pred)"
   ]
  },
  {
   "cell_type": "code",
   "execution_count": 309,
   "metadata": {},
   "outputs": [
    {
     "data": {
      "text/html": [
       "<style  type=\"text/css\" >\n",
       "    #T_ccf4652a_6c9c_11ea_b9f7_acde48001122row0_col0 {\n",
       "            background-color:  #00441b;\n",
       "            color:  #f1f1f1;\n",
       "        }    #T_ccf4652a_6c9c_11ea_b9f7_acde48001122row0_col1 {\n",
       "            background-color:  #40004b;\n",
       "            color:  #f1f1f1;\n",
       "        }    #T_ccf4652a_6c9c_11ea_b9f7_acde48001122row1_col0 {\n",
       "            background-color:  #40004b;\n",
       "            color:  #f1f1f1;\n",
       "        }    #T_ccf4652a_6c9c_11ea_b9f7_acde48001122row1_col1 {\n",
       "            background-color:  #00441b;\n",
       "            color:  #f1f1f1;\n",
       "        }</style><table id=\"T_ccf4652a_6c9c_11ea_b9f7_acde48001122\" ><thead>    <tr>        <th class=\"blank level0\" ></th>        <th class=\"col_heading level0 col0\" >Predictec Class 0</th>        <th class=\"col_heading level0 col1\" >Predicted Class 1</th>    </tr></thead><tbody>\n",
       "                <tr>\n",
       "                        <th id=\"T_ccf4652a_6c9c_11ea_b9f7_acde48001122level0_row0\" class=\"row_heading level0 row0\" >True 0</th>\n",
       "                        <td id=\"T_ccf4652a_6c9c_11ea_b9f7_acde48001122row0_col0\" class=\"data row0 col0\" >1575</td>\n",
       "                        <td id=\"T_ccf4652a_6c9c_11ea_b9f7_acde48001122row0_col1\" class=\"data row0 col1\" >0</td>\n",
       "            </tr>\n",
       "            <tr>\n",
       "                        <th id=\"T_ccf4652a_6c9c_11ea_b9f7_acde48001122level0_row1\" class=\"row_heading level0 row1\" >True 1</th>\n",
       "                        <td id=\"T_ccf4652a_6c9c_11ea_b9f7_acde48001122row1_col0\" class=\"data row1 col0\" >657</td>\n",
       "                        <td id=\"T_ccf4652a_6c9c_11ea_b9f7_acde48001122row1_col1\" class=\"data row1 col1\" >475129</td>\n",
       "            </tr>\n",
       "    </tbody></table>"
      ],
      "text/plain": [
       "<pandas.io.formats.style.Styler at 0x1a90f39a90>"
      ]
     },
     "execution_count": 309,
     "metadata": {},
     "output_type": "execute_result"
    },
    {
     "name": "stdout",
     "output_type": "stream",
     "text": [
      "time: 1.71 s\n"
     ]
    }
   ],
   "source": [
    "# Creating a df of confusion matrix\n",
    "con_mat = confusion_matrix(y_test, y_pred) \n",
    "df_conmat = pd.DataFrame(con_mat, columns=['Predictec Class 0', 'Predicted Class 1'] )\n",
    "df_conmat = df_conmat.rename('True {}'.format)\n",
    "df_conmat.style.background_gradient(cmap='PRGn')"
   ]
  },
  {
   "cell_type": "code",
   "execution_count": 310,
   "metadata": {},
   "outputs": [
    {
     "name": "stdout",
     "output_type": "stream",
     "text": [
      "              precision    recall  f1-score   support\n",
      "\n",
      "           0       0.71      1.00      0.83      1575\n",
      "           1       1.00      1.00      1.00    475786\n",
      "\n",
      "    accuracy                           1.00    477361\n",
      "   macro avg       0.85      1.00      0.91    477361\n",
      "weighted avg       1.00      1.00      1.00    477361\n",
      "\n",
      "time: 14.1 s\n"
     ]
    }
   ],
   "source": [
    "# Classification report\n",
    "print(classification_report(y_test, y_pred))"
   ]
  },
  {
   "cell_type": "code",
   "execution_count": null,
   "metadata": {},
   "outputs": [],
   "source": []
  },
  {
   "cell_type": "code",
   "execution_count": 313,
   "metadata": {},
   "outputs": [
    {
     "name": "stdout",
     "output_type": "stream",
     "text": [
      "time: 3.35 ms\n"
     ]
    }
   ],
   "source": [
    "from sklearn.ensemble import AdaBoostClassifier\n",
    "from sklearn.ensemble import RandomForestClassifier\n",
    "from xgboost import XGBClassifier"
   ]
  },
  {
   "cell_type": "code",
   "execution_count": 323,
   "metadata": {},
   "outputs": [
    {
     "name": "stdout",
     "output_type": "stream",
     "text": [
      "XG Boost test score: 0.9995077100978086\n",
      "time: 4.03 s\n"
     ]
    }
   ],
   "source": [
    "# XG Boost Classifier\n",
    "XGB_model = XGBClassifier()\n",
    "\n",
    "XGB_model.fit(X_train, y_train)\n",
    "\n",
    "print(f\"XG Boost test score: {XGB_model.score(X_test, y_test)}\")"
   ]
  },
  {
   "cell_type": "code",
   "execution_count": 324,
   "metadata": {},
   "outputs": [
    {
     "name": "stdout",
     "output_type": "stream",
     "text": [
      "XG Boost Classification Report: \n",
      "               precision    recall  f1-score   support\n",
      "\n",
      "           0       0.87      1.00      0.93      1575\n",
      "           1       1.00      1.00      1.00    475786\n",
      "\n",
      "    accuracy                           1.00    477361\n",
      "   macro avg       0.94      1.00      0.97    477361\n",
      "weighted avg       1.00      1.00      1.00    477361\n",
      "\n",
      "time: 15.5 s\n"
     ]
    }
   ],
   "source": [
    "# Y predict of XGB\n",
    "y_predXGB = XGB_model.predict(X_test)\n",
    "print(f\"XG Boost Classification Report: \\n {(classification_report(y_test, y_predXGB))}\")\n"
   ]
  },
  {
   "cell_type": "code",
   "execution_count": null,
   "metadata": {},
   "outputs": [],
   "source": []
  },
  {
   "cell_type": "code",
   "execution_count": 321,
   "metadata": {},
   "outputs": [
    {
     "data": {
      "text/html": [
       "<style  type=\"text/css\" >\n",
       "    #T_d6ea43d0_6c9f_11ea_b9f7_acde48001122row0_col0 {\n",
       "            background-color:  #00441b;\n",
       "            color:  #f1f1f1;\n",
       "        }    #T_d6ea43d0_6c9f_11ea_b9f7_acde48001122row0_col1 {\n",
       "            background-color:  #40004b;\n",
       "            color:  #f1f1f1;\n",
       "        }    #T_d6ea43d0_6c9f_11ea_b9f7_acde48001122row1_col0 {\n",
       "            background-color:  #40004b;\n",
       "            color:  #f1f1f1;\n",
       "        }    #T_d6ea43d0_6c9f_11ea_b9f7_acde48001122row1_col1 {\n",
       "            background-color:  #00441b;\n",
       "            color:  #f1f1f1;\n",
       "        }</style><table id=\"T_d6ea43d0_6c9f_11ea_b9f7_acde48001122\" ><thead>    <tr>        <th class=\"blank level0\" ></th>        <th class=\"col_heading level0 col0\" >Predictec Class 0</th>        <th class=\"col_heading level0 col1\" >Predicted Class 1</th>    </tr></thead><tbody>\n",
       "                <tr>\n",
       "                        <th id=\"T_d6ea43d0_6c9f_11ea_b9f7_acde48001122level0_row0\" class=\"row_heading level0 row0\" >True 0</th>\n",
       "                        <td id=\"T_d6ea43d0_6c9f_11ea_b9f7_acde48001122row0_col0\" class=\"data row0 col0\" >1574</td>\n",
       "                        <td id=\"T_d6ea43d0_6c9f_11ea_b9f7_acde48001122row0_col1\" class=\"data row0 col1\" >1</td>\n",
       "            </tr>\n",
       "            <tr>\n",
       "                        <th id=\"T_d6ea43d0_6c9f_11ea_b9f7_acde48001122level0_row1\" class=\"row_heading level0 row1\" >True 1</th>\n",
       "                        <td id=\"T_d6ea43d0_6c9f_11ea_b9f7_acde48001122row1_col0\" class=\"data row1 col0\" >234</td>\n",
       "                        <td id=\"T_d6ea43d0_6c9f_11ea_b9f7_acde48001122row1_col1\" class=\"data row1 col1\" >475552</td>\n",
       "            </tr>\n",
       "    </tbody></table>"
      ],
      "text/plain": [
       "<pandas.io.formats.style.Styler at 0x1a90f305d0>"
      ]
     },
     "execution_count": 321,
     "metadata": {},
     "output_type": "execute_result"
    },
    {
     "name": "stdout",
     "output_type": "stream",
     "text": [
      "time: 1.74 s\n"
     ]
    }
   ],
   "source": [
    "# Creating a df of confusion matrix\n",
    "con_mat = confusion_matrix(y_test, y_predXGB) \n",
    "df_conmat = pd.DataFrame(con_mat, columns=['Predictec Class 0', 'Predicted Class 1'] )\n",
    "df_conmat = df_conmat.rename('True {}'.format)\n",
    "df_conmat.style.background_gradient(cmap='PRGn')"
   ]
  },
  {
   "cell_type": "code",
   "execution_count": null,
   "metadata": {},
   "outputs": [],
   "source": []
  },
  {
   "cell_type": "code",
   "execution_count": null,
   "metadata": {},
   "outputs": [],
   "source": []
  },
  {
   "cell_type": "code",
   "execution_count": null,
   "metadata": {},
   "outputs": [],
   "source": []
  },
  {
   "cell_type": "code",
   "execution_count": null,
   "metadata": {},
   "outputs": [],
   "source": []
  },
  {
   "cell_type": "code",
   "execution_count": 331,
   "metadata": {},
   "outputs": [
    {
     "name": "stdout",
     "output_type": "stream",
     "text": [
      "Score on train: 0.9986505794570567\n",
      "Score on test: 0.9965686346391934\n",
      "time: 1.11 s\n"
     ]
    }
   ],
   "source": [
    "my_DT4 = DecisionTreeClassifier(max_depth=5)\n",
    "my_DT4.fit(X_train,y_train)\n",
    "print(f'Score on train: {my_DT4.score(X_train, y_train)}')\n",
    "print(f'Score on test: {my_DT4.score(X_test, y_test)}')"
   ]
  },
  {
   "cell_type": "code",
   "execution_count": 332,
   "metadata": {},
   "outputs": [
    {
     "data": {
      "text/plain": [
       "array([[  1575,      0],\n",
       "       [  1638, 474148]])"
      ]
     },
     "execution_count": 332,
     "metadata": {},
     "output_type": "execute_result"
    },
    {
     "name": "stdout",
     "output_type": "stream",
     "text": [
      "time: 2 s\n"
     ]
    }
   ],
   "source": [
    "# Defining y predict\n",
    "y_pred4 = my_DT4.predict(X_test)\n",
    "from sklearn.metrics import confusion_matrix\n",
    "\n",
    "# Confusion mastrix\n",
    "confusion_matrix(y_test, y_pred4)"
   ]
  },
  {
   "cell_type": "code",
   "execution_count": null,
   "metadata": {},
   "outputs": [],
   "source": []
  },
  {
   "cell_type": "code",
   "execution_count": null,
   "metadata": {},
   "outputs": [],
   "source": []
  },
  {
   "cell_type": "code",
   "execution_count": null,
   "metadata": {},
   "outputs": [],
   "source": []
  },
  {
   "cell_type": "code",
   "execution_count": 333,
   "metadata": {},
   "outputs": [
    {
     "data": {
      "image/png": "[encoded data removed]",
      "text/plain": [
       "<IPython.core.display.Image object>"
      ]
     },
     "execution_count": 333,
     "metadata": {},
     "output_type": "execute_result"
    },
    {
     "name": "stdout",
     "output_type": "stream",
     "text": [
      "time: 893 ms\n"
     ]
    }
   ],
   "source": [
    "dot_data = StringIO()\n",
    "\n",
    "export_graphviz(my_DT4, out_file=dot_data,  \n",
    "                filled=True, rounded=True,\n",
    "                special_characters=True)\n",
    "\n",
    "graph = pydotplus.graph_from_dot_data(dot_data.getvalue())  \n",
    "Image(graph.create_png())"
   ]
  },
  {
   "cell_type": "code",
   "execution_count": null,
   "metadata": {},
   "outputs": [],
   "source": []
  },
  {
   "cell_type": "code",
   "execution_count": null,
   "metadata": {},
   "outputs": [],
   "source": [
    "# Pickling model for reuse\n",
    "import joblib\n",
    "joblib.dump(my_DT2, 'my_dt2.pkl')\n",
    "my_dt2_reloaded = joblib.load('my_dt2.pkl')"
   ]
  },
  {
   "cell_type": "code",
   "execution_count": null,
   "metadata": {},
   "outputs": [],
   "source": []
  },
  {
   "cell_type": "code",
   "execution_count": null,
   "metadata": {},
   "outputs": [],
   "source": []
  }
 ],
 "metadata": {
  "kernelspec": {
   "display_name": "Python 3",
   "language": "python",
   "name": "python3"
  },
  "language_info": {
   "codemirror_mode": {
    "name": "ipython",
    "version": 3
   },
   "file_extension": ".py",
   "mimetype": "text/x-python",
   "name": "python",
   "nbconvert_exporter": "python",
   "pygments_lexer": "ipython3",
   "version": "3.7.4"
  }
 },
 "nbformat": 4,
 "nbformat_minor": 4
}
